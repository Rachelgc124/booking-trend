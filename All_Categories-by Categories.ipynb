{
 "cells": [
  {
   "cell_type": "code",
   "execution_count": 1,
   "id": "c6366b4c",
   "metadata": {},
   "outputs": [],
   "source": [
    "# package & setting\n",
    "import os\n",
    "\n",
    "import copy\n",
    "import numpy as np\n",
    "import pandas as pd\n",
    "import random\n",
    "from itertools import cycle\n",
    "\n",
    "from sklearn import model_selection\n",
    "\n",
    "from sklearn import metrics\n",
    "\n",
    "from sklearn import preprocessing\n",
    "from sklearn.pipeline import Pipeline\n",
    "from sklearn.pipeline import FeatureUnion\n",
    "from sklearn.compose import ColumnTransformer\n",
    "from sklearn.preprocessing import OneHotEncoder\n",
    "from sklearn.preprocessing import MinMaxScaler\n",
    "from sklearn.model_selection import train_test_split\n",
    "from sklearn.model_selection import StratifiedKFold\n",
    "from sklearn.model_selection import cross_val_score\n",
    "from sklearn.model_selection import KFold\n",
    "from sklearn.model_selection import GridSearchCV \n",
    "\n",
    "from sklearn.ensemble import RandomForestRegressor\n",
    "from sklearn.ensemble import RandomForestClassifier\n",
    "from sklearn.linear_model import LogisticRegression\n",
    "from sklearn.naive_bayes import MultinomialNB\n",
    "from sklearn import svm\n",
    "from sklearn import neighbors\n",
    "\n",
    "from sklearn import metrics\n",
    "from sklearn.metrics import mean_squared_error, mean_absolute_error\n",
    "from sklearn.metrics import confusion_matrix, accuracy_score, precision_score\n",
    "from sklearn.metrics import recall_score, roc_curve, auc\n",
    "\n",
    "import statsmodels.api as sm\n",
    "from statsmodels.tsa.api import VAR\n",
    "from statsmodels.tsa.stattools import adfuller\n",
    "import statsmodels.formula.api as smf\n",
    "\n",
    "import torch\n",
    "from torch import nn\n",
    "from torch.nn import functional as F\n",
    "from torch.utils.data import TensorDataset, DataLoader\n",
    "import torchkeras\n",
    "\n",
    "from plotly import graph_objects as go\n",
    "import seaborn as sns\n",
    "import matplotlib\n",
    "import matplotlib.pyplot as plt\n",
    "%matplotlib inline\n",
    "\n",
    "import re\n",
    "\n",
    "import warnings \n",
    "\n",
    "warnings.filterwarnings('ignore')\n",
    "\n",
    "plt.rc('font', family='Arial')\n",
    "\n",
    "pd.set_option('display.max_columns', None)\n",
    "pd.set_option('display.max_rows', None)"
   ]
  },
  {
   "cell_type": "markdown",
   "id": "39934fb7",
   "metadata": {},
   "source": [
    "# Data Set"
   ]
  },
  {
   "cell_type": "code",
   "execution_count": 2,
   "id": "26962a77",
   "metadata": {},
   "outputs": [
    {
     "name": "stdout",
     "output_type": "stream",
     "text": [
      "row: 9138 column: 15\n"
     ]
    },
    {
     "data": {
      "text/html": [
       "<div>\n",
       "<style scoped>\n",
       "    .dataframe tbody tr th:only-of-type {\n",
       "        vertical-align: middle;\n",
       "    }\n",
       "\n",
       "    .dataframe tbody tr th {\n",
       "        vertical-align: top;\n",
       "    }\n",
       "\n",
       "    .dataframe thead th {\n",
       "        text-align: right;\n",
       "    }\n",
       "</style>\n",
       "<table border=\"1\" class=\"dataframe\">\n",
       "  <thead>\n",
       "    <tr style=\"text-align: right;\">\n",
       "      <th></th>\n",
       "      <th>booking_id</th>\n",
       "      <th>sales_team</th>\n",
       "      <th>pol</th>\n",
       "      <th>pod</th>\n",
       "      <th>trans_mode</th>\n",
       "      <th>shipment_type</th>\n",
       "      <th>weight_kg</th>\n",
       "      <th>volume_cbm</th>\n",
       "      <th>booking_system</th>\n",
       "      <th>lead_time</th>\n",
       "      <th>departure_date</th>\n",
       "      <th>cancel_status</th>\n",
       "      <th>final_sort_type</th>\n",
       "      <th>seller_type</th>\n",
       "      <th>gl_product_group_desc</th>\n",
       "    </tr>\n",
       "  </thead>\n",
       "  <tbody>\n",
       "    <tr>\n",
       "      <th>7</th>\n",
       "      <td>AL0-V2KF426S2YFSW</td>\n",
       "      <td>CN DSR</td>\n",
       "      <td>CNSHA</td>\n",
       "      <td>USLAX</td>\n",
       "      <td>OCEAN</td>\n",
       "      <td>FCL</td>\n",
       "      <td>5000.0</td>\n",
       "      <td>65.00</td>\n",
       "      <td>AGL</td>\n",
       "      <td>20</td>\n",
       "      <td>2020-01-09 20:30:00</td>\n",
       "      <td>N</td>\n",
       "      <td>NonSort</td>\n",
       "      <td>NEW</td>\n",
       "      <td>gl_automotive</td>\n",
       "    </tr>\n",
       "    <tr>\n",
       "      <th>8</th>\n",
       "      <td>AL0-UUYYS67E23B5Y</td>\n",
       "      <td>CN DSR</td>\n",
       "      <td>CNSHA</td>\n",
       "      <td>USLAX</td>\n",
       "      <td>OCEAN</td>\n",
       "      <td>FCL</td>\n",
       "      <td>14265.0</td>\n",
       "      <td>70.00</td>\n",
       "      <td>AGL</td>\n",
       "      <td>21</td>\n",
       "      <td>2020-04-02 08:00:00</td>\n",
       "      <td>N</td>\n",
       "      <td>NonSort</td>\n",
       "      <td>Existing</td>\n",
       "      <td>gl_furniture</td>\n",
       "    </tr>\n",
       "    <tr>\n",
       "      <th>9</th>\n",
       "      <td>AL0-VZZSYBG4SBM66</td>\n",
       "      <td>CN DSR</td>\n",
       "      <td>CNSZX</td>\n",
       "      <td>USLAX</td>\n",
       "      <td>OCEAN</td>\n",
       "      <td>LCL</td>\n",
       "      <td>1933.0</td>\n",
       "      <td>15.71</td>\n",
       "      <td>AGL</td>\n",
       "      <td>29</td>\n",
       "      <td>2020-05-21 08:00:00</td>\n",
       "      <td>N</td>\n",
       "      <td>Sort</td>\n",
       "      <td>Existing</td>\n",
       "      <td>gl_toy</td>\n",
       "    </tr>\n",
       "    <tr>\n",
       "      <th>10</th>\n",
       "      <td>AL0-QX5TZTJ5XXEEE</td>\n",
       "      <td>CN DSR</td>\n",
       "      <td>CNYTN</td>\n",
       "      <td>USLAX</td>\n",
       "      <td>OCEAN</td>\n",
       "      <td>FCL</td>\n",
       "      <td>17000.0</td>\n",
       "      <td>60.00</td>\n",
       "      <td>AGL</td>\n",
       "      <td>17</td>\n",
       "      <td>2020-05-26 17:05:00</td>\n",
       "      <td>N</td>\n",
       "      <td>Sort</td>\n",
       "      <td>NEW</td>\n",
       "      <td>gl_home_improvement</td>\n",
       "    </tr>\n",
       "    <tr>\n",
       "      <th>11</th>\n",
       "      <td>AL0-SY4SYUVQNGCHQ</td>\n",
       "      <td>CN DSR</td>\n",
       "      <td>CNNGB</td>\n",
       "      <td>USLAX</td>\n",
       "      <td>OCEAN</td>\n",
       "      <td>FCL</td>\n",
       "      <td>18000.0</td>\n",
       "      <td>65.00</td>\n",
       "      <td>AGL</td>\n",
       "      <td>40</td>\n",
       "      <td>2020-06-04 18:00:00</td>\n",
       "      <td>N</td>\n",
       "      <td>Sort</td>\n",
       "      <td>NEW</td>\n",
       "      <td>gl_art_craft_supplies</td>\n",
       "    </tr>\n",
       "  </tbody>\n",
       "</table>\n",
       "</div>"
      ],
      "text/plain": [
       "           booking_id sales_team    pol    pod trans_mode shipment_type  \\\n",
       "7   AL0-V2KF426S2YFSW     CN DSR  CNSHA  USLAX      OCEAN           FCL   \n",
       "8   AL0-UUYYS67E23B5Y     CN DSR  CNSHA  USLAX      OCEAN           FCL   \n",
       "9   AL0-VZZSYBG4SBM66     CN DSR  CNSZX  USLAX      OCEAN           LCL   \n",
       "10  AL0-QX5TZTJ5XXEEE     CN DSR  CNYTN  USLAX      OCEAN           FCL   \n",
       "11  AL0-SY4SYUVQNGCHQ     CN DSR  CNNGB  USLAX      OCEAN           FCL   \n",
       "\n",
       "    weight_kg  volume_cbm booking_system  lead_time      departure_date  \\\n",
       "7      5000.0       65.00            AGL         20 2020-01-09 20:30:00   \n",
       "8     14265.0       70.00            AGL         21 2020-04-02 08:00:00   \n",
       "9      1933.0       15.71            AGL         29 2020-05-21 08:00:00   \n",
       "10    17000.0       60.00            AGL         17 2020-05-26 17:05:00   \n",
       "11    18000.0       65.00            AGL         40 2020-06-04 18:00:00   \n",
       "\n",
       "   cancel_status final_sort_type seller_type  gl_product_group_desc  \n",
       "7              N         NonSort         NEW          gl_automotive  \n",
       "8              N         NonSort    Existing           gl_furniture  \n",
       "9              N            Sort    Existing                 gl_toy  \n",
       "10             N            Sort         NEW    gl_home_improvement  \n",
       "11             N            Sort         NEW  gl_art_craft_supplies  "
      ]
     },
     "execution_count": 2,
     "metadata": {},
     "output_type": "execute_result"
    }
   ],
   "source": [
    "# file path\n",
    "read_path = r'/Users/rachel_gao/Desktop/Booking Trend/booking_trend.xlsx'\n",
    "data = pd.read_excel(read_path)\n",
    "\n",
    "# clean data\n",
    "data = data.drop(['booking_type', 'seqnum'], axis=1)\n",
    "data = data.drop((data[data['volume_cbm'] >= 4000]).index, axis=0)\n",
    "data = data.drop((data[data['departure_date'] < \"2020/1/1 00:00:00\"]).index, axis=0)\n",
    "\n",
    "# missing value\n",
    "na_num = data.isnull().sum()\n",
    "na_num = na_num[na_num!=0]\n",
    "na_percent = data.isnull().sum() / data.shape[0]\n",
    "na_percent = na_percent[na_percent!=0]\n",
    "na={\"na_num\": na_num,\"na_percent\": na_percent}\n",
    "na=pd.DataFrame(na)\n",
    "\n",
    "# drop na\n",
    "data.dropna(axis=0, how='any', inplace=True)\n",
    "print('row:', data.shape[0], 'column:',data.shape[1])\n",
    "data.head()"
   ]
  },
  {
   "cell_type": "code",
   "execution_count": 3,
   "id": "a44638cd",
   "metadata": {},
   "outputs": [],
   "source": [
    "# seperate data set by categories\n",
    "# home, kitchen, home improvement, furniture and others\n",
    "\n",
    "# home\n",
    "home = data.query(\"gl_product_group_desc == 'gl_home'\")\n",
    "home['departure_date'] = pd.to_datetime(home['departure_date'])\n",
    "home = home.set_index('departure_date')\n",
    "home.drop(['booking_id'], axis=1, inplace=True)\n",
    "home['order number'] = 1\n",
    "\n",
    "# kitchen\n",
    "kitchen = data.query(\"gl_product_group_desc == 'gl_kitchen'\")\n",
    "kitchen['departure_date'] = pd.to_datetime(kitchen['departure_date'])\n",
    "kitchen = kitchen.set_index('departure_date')\n",
    "kitchen.drop(['booking_id'], axis=1, inplace=True)\n",
    "kitchen['order number'] = 1\n",
    "\n",
    "# home improvement\n",
    "hi = data.query(\"gl_product_group_desc == 'gl_home_improvement'\")\n",
    "hi['departure_date'] = pd.to_datetime(hi['departure_date'])\n",
    "hi = hi.set_index('departure_date')\n",
    "hi.drop(['booking_id'], axis=1, inplace=True)\n",
    "hi['order number'] = 1\n",
    "\n",
    "# home improvement\n",
    "furniture = data.query(\"gl_product_group_desc == 'gl_furniture'\")\n",
    "furniture['departure_date'] = pd.to_datetime(furniture['departure_date'])\n",
    "furniture = furniture.set_index('departure_date')\n",
    "furniture.drop(['booking_id'], axis=1, inplace=True)\n",
    "furniture['order number'] = 1\n",
    "\n",
    "# others\n",
    "others = data.query(\"gl_product_group_desc != 'gl_home' & \\\n",
    "                    gl_product_group_desc != 'gl_kitchen' & \\\n",
    "                    gl_product_group_desc != 'gl_home_improvement' & \\\n",
    "                    gl_product_group_desc != 'gl_furniture'\")\n",
    "others['gl_product_group_desc'] = 'others'\n",
    "others['departure_date'] = pd.to_datetime(others['departure_date'])\n",
    "others = others.set_index('departure_date')\n",
    "others.drop(['booking_id'], axis=1, inplace=True)\n",
    "others['order number'] = 1\n",
    "\n",
    "# total\n",
    "data['departure_date'] = pd.to_datetime(data['departure_date'])\n",
    "data = data.set_index('departure_date')\n",
    "data.drop(['booking_id'], axis=1, inplace=True)\n",
    "data['order number'] = 1"
   ]
  },
  {
   "cell_type": "code",
   "execution_count": 4,
   "id": "c5da7adb",
   "metadata": {},
   "outputs": [
    {
     "name": "stdout",
     "output_type": "stream",
     "text": [
      "Home: \n",
      "week number: 102 column: 14\n",
      "Kitchen: \n",
      "week number: 102 column: 14\n",
      "Home Improvement: \n",
      "week number: 102 column: 14\n",
      "Furniture: \n",
      "week number: 102 column: 14\n",
      "Others: \n",
      "week number: 102 column: 14\n",
      "Total: \n",
      "week number: 102 column: 14\n"
     ]
    }
   ],
   "source": [
    "# aggregate by week\n",
    "# home\n",
    "home = home.resample('w').agg({'sales_team':lambda x:x.max(), 'pol':lambda x:x.max(), 'pod':lambda x:x.max(), \n",
    "                           'trans_mode':lambda x:x.max(), 'shipment_type':lambda x:x.max(), \n",
    "                           'weight_kg':'mean', 'volume_cbm':'mean', 'booking_system':lambda x:x.max(), \n",
    "                           'lead_time':'mean', 'cancel_status':lambda x:x.max(), \n",
    "                           'final_sort_type':lambda x:x.max(), 'seller_type':lambda x:x.max(), \n",
    "                           'gl_product_group_desc':lambda x:x.max(), 'order number':'sum'})\n",
    "home = home.fillna(0)\n",
    "home.drop(home.head(1).index, inplace=True)\n",
    "home.drop(home.tail(2).index, inplace=True)\n",
    "print('Home: ')\n",
    "print('week number:', home.shape[0], 'column:', home.shape[1])\n",
    "\n",
    "# kitchen\n",
    "kitchen = kitchen.resample('w').agg({'sales_team':lambda x:x.max(), 'pol':lambda x:x.max(), 'pod':lambda x:x.max(), \n",
    "                           'trans_mode':lambda x:x.max(), 'shipment_type':lambda x:x.max(), \n",
    "                           'weight_kg':'mean', 'volume_cbm':'mean', 'booking_system':lambda x:x.max(), \n",
    "                           'lead_time':'mean', 'cancel_status':lambda x:x.max(), \n",
    "                           'final_sort_type':lambda x:x.max(), 'seller_type':lambda x:x.max(), \n",
    "                           'gl_product_group_desc':lambda x:x.max(), 'order number':'sum'})\n",
    "kitchen = kitchen.fillna(0)\n",
    "kitchen.drop(kitchen.head(1).index, inplace=True)\n",
    "kitchen.drop(kitchen.tail(1).index, inplace=True)\n",
    "print('Kitchen: ')\n",
    "print('week number:', kitchen.shape[0], 'column:', kitchen.shape[1])\n",
    "\n",
    "# home improvement\n",
    "hi = hi.resample('w').agg({'sales_team':lambda x:x.max(), 'pol':lambda x:x.max(), 'pod':lambda x:x.max(), \n",
    "                           'trans_mode':lambda x:x.max(), 'shipment_type':lambda x:x.max(), \n",
    "                           'weight_kg':'mean', 'volume_cbm':'mean', 'booking_system':lambda x:x.max(), \n",
    "                           'lead_time':'mean', 'cancel_status':lambda x:x.max(), \n",
    "                           'final_sort_type':lambda x:x.max(), 'seller_type':lambda x:x.max(), \n",
    "                           'gl_product_group_desc':lambda x:x.max(), 'order number':'sum'})\n",
    "hi = hi.fillna(0)\n",
    "hi.drop(hi.tail(1).index, inplace=True)\n",
    "print('Home Improvement: ')\n",
    "print('week number:', hi.shape[0], 'column:', hi.shape[1])\n",
    "\n",
    "# furniture\n",
    "furniture = furniture.resample('w').agg({'sales_team':lambda x:x.max(), 'pol':lambda x:x.max(), 'pod':lambda x:x.max(), \n",
    "                           'trans_mode':lambda x:x.max(), 'shipment_type':lambda x:x.max(), \n",
    "                           'weight_kg':'mean', 'volume_cbm':'mean', 'booking_system':lambda x:x.max(), \n",
    "                           'lead_time':'mean', 'cancel_status':lambda x:x.max(), \n",
    "                           'final_sort_type':lambda x:x.max(), 'seller_type':lambda x:x.max(), \n",
    "                           'gl_product_group_desc':lambda x:x.max(), 'order number':'sum'})\n",
    "furniture = furniture.fillna(0)\n",
    "print('Furniture: ')\n",
    "print('week number:', furniture.shape[0], 'column:', furniture.shape[1])\n",
    "\n",
    "# others\n",
    "others = others.resample('w').agg({'sales_team':lambda x:x.max(), 'pol':lambda x:x.max(), 'pod':lambda x:x.max(), \n",
    "                           'trans_mode':lambda x:x.max(), 'shipment_type':lambda x:x.max(), \n",
    "                           'weight_kg':'mean', 'volume_cbm':'mean', 'booking_system':lambda x:x.max(), \n",
    "                           'lead_time':'mean', 'cancel_status':lambda x:x.max(), \n",
    "                           'final_sort_type':lambda x:x.max(), 'seller_type':lambda x:x.max(), \n",
    "                           'gl_product_group_desc':lambda x:x.max(), 'order number':'sum'})\n",
    "others = others.fillna(0)\n",
    "others.drop(others.head(1).index, inplace=True)\n",
    "others.drop(others.tail(2).index, inplace=True)\n",
    "print('Others: ')\n",
    "print('week number:', others.shape[0], 'column:', others.shape[1])\n",
    "\n",
    "# total\n",
    "data = data.resample('w').agg({'sales_team':lambda x:x.max(), 'pol':lambda x:x.max(), 'pod':lambda x:x.max(),\n",
    "                                    'trans_mode':lambda x:x.max(), 'shipment_type':lambda x:x.max(), \n",
    "                                    'weight_kg':'mean', 'volume_cbm':'mean', 'booking_system':lambda x:x.max(), \n",
    "                                    'lead_time':'mean', 'cancel_status':lambda x:x.max(), \n",
    "                                    'final_sort_type':lambda x:x.max(), 'seller_type':lambda x:x.max(), \n",
    "                                    'gl_product_group_desc':lambda x:x.max(), 'order number':'sum'})\n",
    "data = data.fillna(0)\n",
    "data.drop(data.head(1).index, inplace=True)\n",
    "data.drop(data.tail(2).index, inplace=True)\n",
    "print('Total: ')\n",
    "print('week number:', data.shape[0], 'column:',data.shape[1])"
   ]
  },
  {
   "cell_type": "markdown",
   "id": "f794b607",
   "metadata": {},
   "source": [
    "# Modeling"
   ]
  },
  {
   "cell_type": "markdown",
   "id": "c77c89b7",
   "metadata": {},
   "source": [
    "## ARIMA"
   ]
  },
  {
   "cell_type": "markdown",
   "id": "c0d3ac36",
   "metadata": {},
   "source": [
    "Check R file 'ARIMA-C.Rmd' for reference"
   ]
  },
  {
   "cell_type": "code",
   "execution_count": 41,
   "id": "be73dfa8",
   "metadata": {},
   "outputs": [],
   "source": [
    "home_ts = home[['order number']]\n",
    "kitchen_ts = kitchen[['order number']]\n",
    "hi_ts = hi[['order number']]\n",
    "furniture_ts = furniture[['order number']]\n",
    "others_ts = others[['order number']]\n",
    "\n",
    "# write time series data to csv\n",
    "'''\n",
    "home_ts.to_csv('home_ts.csv', header = True)\n",
    "kitchen_ts.to_csv('kitchen_ts.csv', header = True)\n",
    "hi_ts.to_csv('hi_ts.csv', header = True)\n",
    "furniture_ts.to_csv('furniture_ts.csv', header = True)\n",
    "others_ts.to_csv('others_ts.csv', header = True)\n",
    "'''"
   ]
  },
  {
   "cell_type": "markdown",
   "id": "8004ece3",
   "metadata": {},
   "source": [
    "## LSTM"
   ]
  },
  {
   "cell_type": "code",
   "execution_count": 318,
   "id": "3516ba14",
   "metadata": {},
   "outputs": [
    {
     "data": {
      "application/vnd.plotly.v1+json": {
       "config": {
        "plotlyServerURL": "https://plot.ly"
       },
       "data": [
        {
         "name": "home",
         "type": "scatter",
         "x": [
          "2020-01-12T00:00:00",
          "2020-01-19T00:00:00",
          "2020-01-26T00:00:00",
          "2020-02-02T00:00:00",
          "2020-02-09T00:00:00",
          "2020-02-16T00:00:00",
          "2020-02-23T00:00:00",
          "2020-03-01T00:00:00",
          "2020-03-08T00:00:00",
          "2020-03-15T00:00:00",
          "2020-03-22T00:00:00",
          "2020-03-29T00:00:00",
          "2020-04-05T00:00:00",
          "2020-04-12T00:00:00",
          "2020-04-19T00:00:00",
          "2020-04-26T00:00:00",
          "2020-05-03T00:00:00",
          "2020-05-10T00:00:00",
          "2020-05-17T00:00:00",
          "2020-05-24T00:00:00",
          "2020-05-31T00:00:00",
          "2020-06-07T00:00:00",
          "2020-06-14T00:00:00",
          "2020-06-21T00:00:00",
          "2020-06-28T00:00:00",
          "2020-07-05T00:00:00",
          "2020-07-12T00:00:00",
          "2020-07-19T00:00:00",
          "2020-07-26T00:00:00",
          "2020-08-02T00:00:00",
          "2020-08-09T00:00:00",
          "2020-08-16T00:00:00",
          "2020-08-23T00:00:00",
          "2020-08-30T00:00:00",
          "2020-09-06T00:00:00",
          "2020-09-13T00:00:00",
          "2020-09-20T00:00:00",
          "2020-09-27T00:00:00",
          "2020-10-04T00:00:00",
          "2020-10-11T00:00:00",
          "2020-10-18T00:00:00",
          "2020-10-25T00:00:00",
          "2020-11-01T00:00:00",
          "2020-11-08T00:00:00",
          "2020-11-15T00:00:00",
          "2020-11-22T00:00:00",
          "2020-11-29T00:00:00",
          "2020-12-06T00:00:00",
          "2020-12-13T00:00:00",
          "2020-12-20T00:00:00",
          "2020-12-27T00:00:00",
          "2021-01-03T00:00:00",
          "2021-01-10T00:00:00",
          "2021-01-17T00:00:00",
          "2021-01-24T00:00:00",
          "2021-01-31T00:00:00",
          "2021-02-07T00:00:00",
          "2021-02-14T00:00:00",
          "2021-02-21T00:00:00",
          "2021-02-28T00:00:00",
          "2021-03-07T00:00:00",
          "2021-03-14T00:00:00",
          "2021-03-21T00:00:00",
          "2021-03-28T00:00:00",
          "2021-04-04T00:00:00",
          "2021-04-11T00:00:00",
          "2021-04-18T00:00:00",
          "2021-04-25T00:00:00",
          "2021-05-02T00:00:00",
          "2021-05-09T00:00:00",
          "2021-05-16T00:00:00",
          "2021-05-23T00:00:00",
          "2021-05-30T00:00:00",
          "2021-06-06T00:00:00",
          "2021-06-13T00:00:00",
          "2021-06-20T00:00:00",
          "2021-06-27T00:00:00",
          "2021-07-04T00:00:00",
          "2021-07-11T00:00:00",
          "2021-07-18T00:00:00",
          "2021-07-25T00:00:00",
          "2021-08-01T00:00:00",
          "2021-08-08T00:00:00",
          "2021-08-15T00:00:00",
          "2021-08-22T00:00:00",
          "2021-08-29T00:00:00",
          "2021-09-05T00:00:00",
          "2021-09-12T00:00:00",
          "2021-09-19T00:00:00",
          "2021-09-26T00:00:00",
          "2021-10-03T00:00:00",
          "2021-10-10T00:00:00",
          "2021-10-17T00:00:00",
          "2021-10-24T00:00:00",
          "2021-10-31T00:00:00",
          "2021-11-07T00:00:00",
          "2021-11-14T00:00:00",
          "2021-11-21T00:00:00",
          "2021-11-28T00:00:00",
          "2021-12-05T00:00:00",
          "2021-12-12T00:00:00",
          "2021-12-19T00:00:00"
         ],
         "y": [
          5,
          11,
          14,
          5,
          1,
          1,
          1,
          2,
          9,
          5,
          9,
          13,
          3,
          2,
          7,
          14,
          17,
          10,
          15,
          17,
          17,
          18,
          17,
          16,
          26,
          14,
          18,
          25,
          27,
          23,
          30,
          24,
          29,
          22,
          26,
          37,
          30,
          28,
          29,
          24,
          17,
          23,
          23,
          26,
          27,
          25,
          30,
          12,
          16,
          26,
          25,
          12,
          22,
          20,
          21,
          23,
          33,
          33,
          29,
          9,
          21,
          37,
          12,
          26,
          21,
          32,
          22,
          24,
          30,
          28,
          21,
          24,
          23,
          30,
          21,
          24,
          36,
          17,
          34,
          18,
          12,
          24,
          22,
          22,
          30,
          23,
          30,
          32,
          40,
          58,
          31,
          26,
          36,
          33,
          24,
          19,
          28,
          20,
          11,
          8,
          0,
          1
         ]
        },
        {
         "name": "kitchen",
         "type": "scatter",
         "x": [
          "2020-01-12T00:00:00",
          "2020-01-19T00:00:00",
          "2020-01-26T00:00:00",
          "2020-02-02T00:00:00",
          "2020-02-09T00:00:00",
          "2020-02-16T00:00:00",
          "2020-02-23T00:00:00",
          "2020-03-01T00:00:00",
          "2020-03-08T00:00:00",
          "2020-03-15T00:00:00",
          "2020-03-22T00:00:00",
          "2020-03-29T00:00:00",
          "2020-04-05T00:00:00",
          "2020-04-12T00:00:00",
          "2020-04-19T00:00:00",
          "2020-04-26T00:00:00",
          "2020-05-03T00:00:00",
          "2020-05-10T00:00:00",
          "2020-05-17T00:00:00",
          "2020-05-24T00:00:00",
          "2020-05-31T00:00:00",
          "2020-06-07T00:00:00",
          "2020-06-14T00:00:00",
          "2020-06-21T00:00:00",
          "2020-06-28T00:00:00",
          "2020-07-05T00:00:00",
          "2020-07-12T00:00:00",
          "2020-07-19T00:00:00",
          "2020-07-26T00:00:00",
          "2020-08-02T00:00:00",
          "2020-08-09T00:00:00",
          "2020-08-16T00:00:00",
          "2020-08-23T00:00:00",
          "2020-08-30T00:00:00",
          "2020-09-06T00:00:00",
          "2020-09-13T00:00:00",
          "2020-09-20T00:00:00",
          "2020-09-27T00:00:00",
          "2020-10-04T00:00:00",
          "2020-10-11T00:00:00",
          "2020-10-18T00:00:00",
          "2020-10-25T00:00:00",
          "2020-11-01T00:00:00",
          "2020-11-08T00:00:00",
          "2020-11-15T00:00:00",
          "2020-11-22T00:00:00",
          "2020-11-29T00:00:00",
          "2020-12-06T00:00:00",
          "2020-12-13T00:00:00",
          "2020-12-20T00:00:00",
          "2020-12-27T00:00:00",
          "2021-01-03T00:00:00",
          "2021-01-10T00:00:00",
          "2021-01-17T00:00:00",
          "2021-01-24T00:00:00",
          "2021-01-31T00:00:00",
          "2021-02-07T00:00:00",
          "2021-02-14T00:00:00",
          "2021-02-21T00:00:00",
          "2021-02-28T00:00:00",
          "2021-03-07T00:00:00",
          "2021-03-14T00:00:00",
          "2021-03-21T00:00:00",
          "2021-03-28T00:00:00",
          "2021-04-04T00:00:00",
          "2021-04-11T00:00:00",
          "2021-04-18T00:00:00",
          "2021-04-25T00:00:00",
          "2021-05-02T00:00:00",
          "2021-05-09T00:00:00",
          "2021-05-16T00:00:00",
          "2021-05-23T00:00:00",
          "2021-05-30T00:00:00",
          "2021-06-06T00:00:00",
          "2021-06-13T00:00:00",
          "2021-06-20T00:00:00",
          "2021-06-27T00:00:00",
          "2021-07-04T00:00:00",
          "2021-07-11T00:00:00",
          "2021-07-18T00:00:00",
          "2021-07-25T00:00:00",
          "2021-08-01T00:00:00",
          "2021-08-08T00:00:00",
          "2021-08-15T00:00:00",
          "2021-08-22T00:00:00",
          "2021-08-29T00:00:00",
          "2021-09-05T00:00:00",
          "2021-09-12T00:00:00",
          "2021-09-19T00:00:00",
          "2021-09-26T00:00:00",
          "2021-10-03T00:00:00",
          "2021-10-10T00:00:00",
          "2021-10-17T00:00:00",
          "2021-10-24T00:00:00",
          "2021-10-31T00:00:00",
          "2021-11-07T00:00:00",
          "2021-11-14T00:00:00",
          "2021-11-21T00:00:00",
          "2021-11-28T00:00:00",
          "2021-12-05T00:00:00",
          "2021-12-12T00:00:00",
          "2021-12-19T00:00:00"
         ],
         "y": [
          2,
          5,
          2,
          3,
          1,
          0,
          0,
          0,
          0,
          3,
          2,
          3,
          3,
          1,
          3,
          2,
          2,
          6,
          4,
          5,
          9,
          11,
          6,
          8,
          8,
          6,
          7,
          10,
          4,
          7,
          10,
          8,
          8,
          13,
          6,
          8,
          8,
          14,
          15,
          5,
          4,
          13,
          7,
          9,
          18,
          10,
          4,
          9,
          8,
          9,
          3,
          7,
          4,
          5,
          8,
          12,
          11,
          5,
          7,
          6,
          3,
          11,
          17,
          18,
          7,
          10,
          17,
          11,
          17,
          13,
          6,
          8,
          16,
          2,
          9,
          6,
          15,
          7,
          9,
          10,
          10,
          5,
          5,
          9,
          8,
          6,
          17,
          11,
          31,
          15,
          13,
          4,
          8,
          13,
          9,
          10,
          6,
          8,
          3,
          1,
          0,
          0
         ]
        },
        {
         "name": "home improvement",
         "type": "scatter",
         "x": [
          "2020-01-12T00:00:00",
          "2020-01-19T00:00:00",
          "2020-01-26T00:00:00",
          "2020-02-02T00:00:00",
          "2020-02-09T00:00:00",
          "2020-02-16T00:00:00",
          "2020-02-23T00:00:00",
          "2020-03-01T00:00:00",
          "2020-03-08T00:00:00",
          "2020-03-15T00:00:00",
          "2020-03-22T00:00:00",
          "2020-03-29T00:00:00",
          "2020-04-05T00:00:00",
          "2020-04-12T00:00:00",
          "2020-04-19T00:00:00",
          "2020-04-26T00:00:00",
          "2020-05-03T00:00:00",
          "2020-05-10T00:00:00",
          "2020-05-17T00:00:00",
          "2020-05-24T00:00:00",
          "2020-05-31T00:00:00",
          "2020-06-07T00:00:00",
          "2020-06-14T00:00:00",
          "2020-06-21T00:00:00",
          "2020-06-28T00:00:00",
          "2020-07-05T00:00:00",
          "2020-07-12T00:00:00",
          "2020-07-19T00:00:00",
          "2020-07-26T00:00:00",
          "2020-08-02T00:00:00",
          "2020-08-09T00:00:00",
          "2020-08-16T00:00:00",
          "2020-08-23T00:00:00",
          "2020-08-30T00:00:00",
          "2020-09-06T00:00:00",
          "2020-09-13T00:00:00",
          "2020-09-20T00:00:00",
          "2020-09-27T00:00:00",
          "2020-10-04T00:00:00",
          "2020-10-11T00:00:00",
          "2020-10-18T00:00:00",
          "2020-10-25T00:00:00",
          "2020-11-01T00:00:00",
          "2020-11-08T00:00:00",
          "2020-11-15T00:00:00",
          "2020-11-22T00:00:00",
          "2020-11-29T00:00:00",
          "2020-12-06T00:00:00",
          "2020-12-13T00:00:00",
          "2020-12-20T00:00:00",
          "2020-12-27T00:00:00",
          "2021-01-03T00:00:00",
          "2021-01-10T00:00:00",
          "2021-01-17T00:00:00",
          "2021-01-24T00:00:00",
          "2021-01-31T00:00:00",
          "2021-02-07T00:00:00",
          "2021-02-14T00:00:00",
          "2021-02-21T00:00:00",
          "2021-02-28T00:00:00",
          "2021-03-07T00:00:00",
          "2021-03-14T00:00:00",
          "2021-03-21T00:00:00",
          "2021-03-28T00:00:00",
          "2021-04-04T00:00:00",
          "2021-04-11T00:00:00",
          "2021-04-18T00:00:00",
          "2021-04-25T00:00:00",
          "2021-05-02T00:00:00",
          "2021-05-09T00:00:00",
          "2021-05-16T00:00:00",
          "2021-05-23T00:00:00",
          "2021-05-30T00:00:00",
          "2021-06-06T00:00:00",
          "2021-06-13T00:00:00",
          "2021-06-20T00:00:00",
          "2021-06-27T00:00:00",
          "2021-07-04T00:00:00",
          "2021-07-11T00:00:00",
          "2021-07-18T00:00:00",
          "2021-07-25T00:00:00",
          "2021-08-01T00:00:00",
          "2021-08-08T00:00:00",
          "2021-08-15T00:00:00",
          "2021-08-22T00:00:00",
          "2021-08-29T00:00:00",
          "2021-09-05T00:00:00",
          "2021-09-12T00:00:00",
          "2021-09-19T00:00:00",
          "2021-09-26T00:00:00",
          "2021-10-03T00:00:00",
          "2021-10-10T00:00:00",
          "2021-10-17T00:00:00",
          "2021-10-24T00:00:00",
          "2021-10-31T00:00:00",
          "2021-11-07T00:00:00",
          "2021-11-14T00:00:00",
          "2021-11-21T00:00:00",
          "2021-11-28T00:00:00",
          "2021-12-05T00:00:00",
          "2021-12-12T00:00:00",
          "2021-12-19T00:00:00"
         ],
         "y": [
          4,
          6,
          7,
          0,
          0,
          0,
          1,
          3,
          4,
          4,
          5,
          3,
          3,
          1,
          3,
          5,
          1,
          8,
          7,
          8,
          5,
          5,
          13,
          9,
          6,
          6,
          3,
          11,
          6,
          6,
          6,
          7,
          5,
          6,
          10,
          7,
          7,
          9,
          10,
          10,
          3,
          6,
          16,
          6,
          9,
          6,
          5,
          8,
          3,
          10,
          5,
          6,
          6,
          10,
          5,
          5,
          5,
          10,
          8,
          4,
          4,
          8,
          9,
          10,
          10,
          13,
          14,
          8,
          14,
          12,
          15,
          7,
          18,
          6,
          6,
          4,
          13,
          14,
          6,
          3,
          7,
          10,
          10,
          5,
          9,
          8,
          9,
          11,
          7,
          7,
          12,
          7,
          10,
          15,
          14,
          13,
          10,
          9,
          5,
          1,
          1,
          1
         ]
        },
        {
         "name": "furniture",
         "type": "scatter",
         "x": [
          "2020-01-12T00:00:00",
          "2020-01-19T00:00:00",
          "2020-01-26T00:00:00",
          "2020-02-02T00:00:00",
          "2020-02-09T00:00:00",
          "2020-02-16T00:00:00",
          "2020-02-23T00:00:00",
          "2020-03-01T00:00:00",
          "2020-03-08T00:00:00",
          "2020-03-15T00:00:00",
          "2020-03-22T00:00:00",
          "2020-03-29T00:00:00",
          "2020-04-05T00:00:00",
          "2020-04-12T00:00:00",
          "2020-04-19T00:00:00",
          "2020-04-26T00:00:00",
          "2020-05-03T00:00:00",
          "2020-05-10T00:00:00",
          "2020-05-17T00:00:00",
          "2020-05-24T00:00:00",
          "2020-05-31T00:00:00",
          "2020-06-07T00:00:00",
          "2020-06-14T00:00:00",
          "2020-06-21T00:00:00",
          "2020-06-28T00:00:00",
          "2020-07-05T00:00:00",
          "2020-07-12T00:00:00",
          "2020-07-19T00:00:00",
          "2020-07-26T00:00:00",
          "2020-08-02T00:00:00",
          "2020-08-09T00:00:00",
          "2020-08-16T00:00:00",
          "2020-08-23T00:00:00",
          "2020-08-30T00:00:00",
          "2020-09-06T00:00:00",
          "2020-09-13T00:00:00",
          "2020-09-20T00:00:00",
          "2020-09-27T00:00:00",
          "2020-10-04T00:00:00",
          "2020-10-11T00:00:00",
          "2020-10-18T00:00:00",
          "2020-10-25T00:00:00",
          "2020-11-01T00:00:00",
          "2020-11-08T00:00:00",
          "2020-11-15T00:00:00",
          "2020-11-22T00:00:00",
          "2020-11-29T00:00:00",
          "2020-12-06T00:00:00",
          "2020-12-13T00:00:00",
          "2020-12-20T00:00:00",
          "2020-12-27T00:00:00",
          "2021-01-03T00:00:00",
          "2021-01-10T00:00:00",
          "2021-01-17T00:00:00",
          "2021-01-24T00:00:00",
          "2021-01-31T00:00:00",
          "2021-02-07T00:00:00",
          "2021-02-14T00:00:00",
          "2021-02-21T00:00:00",
          "2021-02-28T00:00:00",
          "2021-03-07T00:00:00",
          "2021-03-14T00:00:00",
          "2021-03-21T00:00:00",
          "2021-03-28T00:00:00",
          "2021-04-04T00:00:00",
          "2021-04-11T00:00:00",
          "2021-04-18T00:00:00",
          "2021-04-25T00:00:00",
          "2021-05-02T00:00:00",
          "2021-05-09T00:00:00",
          "2021-05-16T00:00:00",
          "2021-05-23T00:00:00",
          "2021-05-30T00:00:00",
          "2021-06-06T00:00:00",
          "2021-06-13T00:00:00",
          "2021-06-20T00:00:00",
          "2021-06-27T00:00:00",
          "2021-07-04T00:00:00",
          "2021-07-11T00:00:00",
          "2021-07-18T00:00:00",
          "2021-07-25T00:00:00",
          "2021-08-01T00:00:00",
          "2021-08-08T00:00:00",
          "2021-08-15T00:00:00",
          "2021-08-22T00:00:00",
          "2021-08-29T00:00:00",
          "2021-09-05T00:00:00",
          "2021-09-12T00:00:00",
          "2021-09-19T00:00:00",
          "2021-09-26T00:00:00",
          "2021-10-03T00:00:00",
          "2021-10-10T00:00:00",
          "2021-10-17T00:00:00",
          "2021-10-24T00:00:00",
          "2021-10-31T00:00:00",
          "2021-11-07T00:00:00",
          "2021-11-14T00:00:00",
          "2021-11-21T00:00:00",
          "2021-11-28T00:00:00",
          "2021-12-05T00:00:00",
          "2021-12-12T00:00:00",
          "2021-12-19T00:00:00"
         ],
         "y": [
          2,
          5,
          4,
          1,
          0,
          0,
          0,
          2,
          0,
          1,
          2,
          2,
          4,
          2,
          0,
          5,
          5,
          0,
          3,
          7,
          5,
          4,
          5,
          7,
          11,
          12,
          8,
          7,
          9,
          13,
          9,
          17,
          13,
          13,
          8,
          7,
          8,
          10,
          10,
          9,
          3,
          9,
          10,
          9,
          8,
          10,
          9,
          9,
          4,
          10,
          5,
          3,
          12,
          11,
          10,
          14,
          6,
          8,
          5,
          7,
          4,
          5,
          6,
          10,
          13,
          8,
          8,
          4,
          13,
          6,
          6,
          5,
          5,
          9,
          5,
          12,
          6,
          7,
          7,
          8,
          4,
          3,
          4,
          8,
          8,
          5,
          9,
          6,
          14,
          12,
          9,
          7,
          8,
          5,
          13,
          3,
          4,
          2,
          4,
          3,
          0,
          1
         ]
        },
        {
         "name": "others",
         "type": "scatter",
         "x": [
          "2020-01-12T00:00:00",
          "2020-01-19T00:00:00",
          "2020-01-26T00:00:00",
          "2020-02-02T00:00:00",
          "2020-02-09T00:00:00",
          "2020-02-16T00:00:00",
          "2020-02-23T00:00:00",
          "2020-03-01T00:00:00",
          "2020-03-08T00:00:00",
          "2020-03-15T00:00:00",
          "2020-03-22T00:00:00",
          "2020-03-29T00:00:00",
          "2020-04-05T00:00:00",
          "2020-04-12T00:00:00",
          "2020-04-19T00:00:00",
          "2020-04-26T00:00:00",
          "2020-05-03T00:00:00",
          "2020-05-10T00:00:00",
          "2020-05-17T00:00:00",
          "2020-05-24T00:00:00",
          "2020-05-31T00:00:00",
          "2020-06-07T00:00:00",
          "2020-06-14T00:00:00",
          "2020-06-21T00:00:00",
          "2020-06-28T00:00:00",
          "2020-07-05T00:00:00",
          "2020-07-12T00:00:00",
          "2020-07-19T00:00:00",
          "2020-07-26T00:00:00",
          "2020-08-02T00:00:00",
          "2020-08-09T00:00:00",
          "2020-08-16T00:00:00",
          "2020-08-23T00:00:00",
          "2020-08-30T00:00:00",
          "2020-09-06T00:00:00",
          "2020-09-13T00:00:00",
          "2020-09-20T00:00:00",
          "2020-09-27T00:00:00",
          "2020-10-04T00:00:00",
          "2020-10-11T00:00:00",
          "2020-10-18T00:00:00",
          "2020-10-25T00:00:00",
          "2020-11-01T00:00:00",
          "2020-11-08T00:00:00",
          "2020-11-15T00:00:00",
          "2020-11-22T00:00:00",
          "2020-11-29T00:00:00",
          "2020-12-06T00:00:00",
          "2020-12-13T00:00:00",
          "2020-12-20T00:00:00",
          "2020-12-27T00:00:00",
          "2021-01-03T00:00:00",
          "2021-01-10T00:00:00",
          "2021-01-17T00:00:00",
          "2021-01-24T00:00:00",
          "2021-01-31T00:00:00",
          "2021-02-07T00:00:00",
          "2021-02-14T00:00:00",
          "2021-02-21T00:00:00",
          "2021-02-28T00:00:00",
          "2021-03-07T00:00:00",
          "2021-03-14T00:00:00",
          "2021-03-21T00:00:00",
          "2021-03-28T00:00:00",
          "2021-04-04T00:00:00",
          "2021-04-11T00:00:00",
          "2021-04-18T00:00:00",
          "2021-04-25T00:00:00",
          "2021-05-02T00:00:00",
          "2021-05-09T00:00:00",
          "2021-05-16T00:00:00",
          "2021-05-23T00:00:00",
          "2021-05-30T00:00:00",
          "2021-06-06T00:00:00",
          "2021-06-13T00:00:00",
          "2021-06-20T00:00:00",
          "2021-06-27T00:00:00",
          "2021-07-04T00:00:00",
          "2021-07-11T00:00:00",
          "2021-07-18T00:00:00",
          "2021-07-25T00:00:00",
          "2021-08-01T00:00:00",
          "2021-08-08T00:00:00",
          "2021-08-15T00:00:00",
          "2021-08-22T00:00:00",
          "2021-08-29T00:00:00",
          "2021-09-05T00:00:00",
          "2021-09-12T00:00:00",
          "2021-09-19T00:00:00",
          "2021-09-26T00:00:00",
          "2021-10-03T00:00:00",
          "2021-10-10T00:00:00",
          "2021-10-17T00:00:00",
          "2021-10-24T00:00:00",
          "2021-10-31T00:00:00",
          "2021-11-07T00:00:00",
          "2021-11-14T00:00:00",
          "2021-11-21T00:00:00",
          "2021-11-28T00:00:00",
          "2021-12-05T00:00:00",
          "2021-12-12T00:00:00",
          "2021-12-19T00:00:00"
         ],
         "y": [
          30,
          27,
          38,
          15,
          1,
          2,
          8,
          14,
          24,
          18,
          23,
          22,
          14,
          15,
          18,
          20,
          31,
          29,
          28,
          43,
          39,
          52,
          50,
          46,
          45,
          39,
          54,
          54,
          48,
          56,
          49,
          41,
          43,
          76,
          48,
          54,
          65,
          52,
          71,
          61,
          23,
          56,
          63,
          57,
          53,
          55,
          37,
          64,
          43,
          53,
          58,
          43,
          37,
          50,
          46,
          70,
          61,
          51,
          57,
          21,
          54,
          42,
          62,
          79,
          59,
          67,
          72,
          48,
          76,
          83,
          61,
          48,
          43,
          38,
          34,
          44,
          69,
          43,
          68,
          42,
          48,
          50,
          56,
          57,
          77,
          62,
          63,
          69,
          75,
          107,
          74,
          52,
          58,
          54,
          63,
          64,
          51,
          42,
          28,
          20,
          9,
          8
         ]
        }
       ],
       "layout": {
        "template": {
         "data": {
          "bar": [
           {
            "error_x": {
             "color": "#2a3f5f"
            },
            "error_y": {
             "color": "#2a3f5f"
            },
            "marker": {
             "line": {
              "color": "white",
              "width": 0.5
             }
            },
            "type": "bar"
           }
          ],
          "barpolar": [
           {
            "marker": {
             "line": {
              "color": "white",
              "width": 0.5
             }
            },
            "type": "barpolar"
           }
          ],
          "carpet": [
           {
            "aaxis": {
             "endlinecolor": "#2a3f5f",
             "gridcolor": "#C8D4E3",
             "linecolor": "#C8D4E3",
             "minorgridcolor": "#C8D4E3",
             "startlinecolor": "#2a3f5f"
            },
            "baxis": {
             "endlinecolor": "#2a3f5f",
             "gridcolor": "#C8D4E3",
             "linecolor": "#C8D4E3",
             "minorgridcolor": "#C8D4E3",
             "startlinecolor": "#2a3f5f"
            },
            "type": "carpet"
           }
          ],
          "choropleth": [
           {
            "colorbar": {
             "outlinewidth": 0,
             "ticks": ""
            },
            "type": "choropleth"
           }
          ],
          "contour": [
           {
            "colorbar": {
             "outlinewidth": 0,
             "ticks": ""
            },
            "colorscale": [
             [
              0,
              "#0d0887"
             ],
             [
              0.1111111111111111,
              "#46039f"
             ],
             [
              0.2222222222222222,
              "#7201a8"
             ],
             [
              0.3333333333333333,
              "#9c179e"
             ],
             [
              0.4444444444444444,
              "#bd3786"
             ],
             [
              0.5555555555555556,
              "#d8576b"
             ],
             [
              0.6666666666666666,
              "#ed7953"
             ],
             [
              0.7777777777777778,
              "#fb9f3a"
             ],
             [
              0.8888888888888888,
              "#fdca26"
             ],
             [
              1,
              "#f0f921"
             ]
            ],
            "type": "contour"
           }
          ],
          "contourcarpet": [
           {
            "colorbar": {
             "outlinewidth": 0,
             "ticks": ""
            },
            "type": "contourcarpet"
           }
          ],
          "heatmap": [
           {
            "colorbar": {
             "outlinewidth": 0,
             "ticks": ""
            },
            "colorscale": [
             [
              0,
              "#0d0887"
             ],
             [
              0.1111111111111111,
              "#46039f"
             ],
             [
              0.2222222222222222,
              "#7201a8"
             ],
             [
              0.3333333333333333,
              "#9c179e"
             ],
             [
              0.4444444444444444,
              "#bd3786"
             ],
             [
              0.5555555555555556,
              "#d8576b"
             ],
             [
              0.6666666666666666,
              "#ed7953"
             ],
             [
              0.7777777777777778,
              "#fb9f3a"
             ],
             [
              0.8888888888888888,
              "#fdca26"
             ],
             [
              1,
              "#f0f921"
             ]
            ],
            "type": "heatmap"
           }
          ],
          "heatmapgl": [
           {
            "colorbar": {
             "outlinewidth": 0,
             "ticks": ""
            },
            "colorscale": [
             [
              0,
              "#0d0887"
             ],
             [
              0.1111111111111111,
              "#46039f"
             ],
             [
              0.2222222222222222,
              "#7201a8"
             ],
             [
              0.3333333333333333,
              "#9c179e"
             ],
             [
              0.4444444444444444,
              "#bd3786"
             ],
             [
              0.5555555555555556,
              "#d8576b"
             ],
             [
              0.6666666666666666,
              "#ed7953"
             ],
             [
              0.7777777777777778,
              "#fb9f3a"
             ],
             [
              0.8888888888888888,
              "#fdca26"
             ],
             [
              1,
              "#f0f921"
             ]
            ],
            "type": "heatmapgl"
           }
          ],
          "histogram": [
           {
            "marker": {
             "colorbar": {
              "outlinewidth": 0,
              "ticks": ""
             }
            },
            "type": "histogram"
           }
          ],
          "histogram2d": [
           {
            "colorbar": {
             "outlinewidth": 0,
             "ticks": ""
            },
            "colorscale": [
             [
              0,
              "#0d0887"
             ],
             [
              0.1111111111111111,
              "#46039f"
             ],
             [
              0.2222222222222222,
              "#7201a8"
             ],
             [
              0.3333333333333333,
              "#9c179e"
             ],
             [
              0.4444444444444444,
              "#bd3786"
             ],
             [
              0.5555555555555556,
              "#d8576b"
             ],
             [
              0.6666666666666666,
              "#ed7953"
             ],
             [
              0.7777777777777778,
              "#fb9f3a"
             ],
             [
              0.8888888888888888,
              "#fdca26"
             ],
             [
              1,
              "#f0f921"
             ]
            ],
            "type": "histogram2d"
           }
          ],
          "histogram2dcontour": [
           {
            "colorbar": {
             "outlinewidth": 0,
             "ticks": ""
            },
            "colorscale": [
             [
              0,
              "#0d0887"
             ],
             [
              0.1111111111111111,
              "#46039f"
             ],
             [
              0.2222222222222222,
              "#7201a8"
             ],
             [
              0.3333333333333333,
              "#9c179e"
             ],
             [
              0.4444444444444444,
              "#bd3786"
             ],
             [
              0.5555555555555556,
              "#d8576b"
             ],
             [
              0.6666666666666666,
              "#ed7953"
             ],
             [
              0.7777777777777778,
              "#fb9f3a"
             ],
             [
              0.8888888888888888,
              "#fdca26"
             ],
             [
              1,
              "#f0f921"
             ]
            ],
            "type": "histogram2dcontour"
           }
          ],
          "mesh3d": [
           {
            "colorbar": {
             "outlinewidth": 0,
             "ticks": ""
            },
            "type": "mesh3d"
           }
          ],
          "parcoords": [
           {
            "line": {
             "colorbar": {
              "outlinewidth": 0,
              "ticks": ""
             }
            },
            "type": "parcoords"
           }
          ],
          "pie": [
           {
            "automargin": true,
            "type": "pie"
           }
          ],
          "scatter": [
           {
            "marker": {
             "colorbar": {
              "outlinewidth": 0,
              "ticks": ""
             }
            },
            "type": "scatter"
           }
          ],
          "scatter3d": [
           {
            "line": {
             "colorbar": {
              "outlinewidth": 0,
              "ticks": ""
             }
            },
            "marker": {
             "colorbar": {
              "outlinewidth": 0,
              "ticks": ""
             }
            },
            "type": "scatter3d"
           }
          ],
          "scattercarpet": [
           {
            "marker": {
             "colorbar": {
              "outlinewidth": 0,
              "ticks": ""
             }
            },
            "type": "scattercarpet"
           }
          ],
          "scattergeo": [
           {
            "marker": {
             "colorbar": {
              "outlinewidth": 0,
              "ticks": ""
             }
            },
            "type": "scattergeo"
           }
          ],
          "scattergl": [
           {
            "marker": {
             "colorbar": {
              "outlinewidth": 0,
              "ticks": ""
             }
            },
            "type": "scattergl"
           }
          ],
          "scattermapbox": [
           {
            "marker": {
             "colorbar": {
              "outlinewidth": 0,
              "ticks": ""
             }
            },
            "type": "scattermapbox"
           }
          ],
          "scatterpolar": [
           {
            "marker": {
             "colorbar": {
              "outlinewidth": 0,
              "ticks": ""
             }
            },
            "type": "scatterpolar"
           }
          ],
          "scatterpolargl": [
           {
            "marker": {
             "colorbar": {
              "outlinewidth": 0,
              "ticks": ""
             }
            },
            "type": "scatterpolargl"
           }
          ],
          "scatterternary": [
           {
            "marker": {
             "colorbar": {
              "outlinewidth": 0,
              "ticks": ""
             }
            },
            "type": "scatterternary"
           }
          ],
          "surface": [
           {
            "colorbar": {
             "outlinewidth": 0,
             "ticks": ""
            },
            "colorscale": [
             [
              0,
              "#0d0887"
             ],
             [
              0.1111111111111111,
              "#46039f"
             ],
             [
              0.2222222222222222,
              "#7201a8"
             ],
             [
              0.3333333333333333,
              "#9c179e"
             ],
             [
              0.4444444444444444,
              "#bd3786"
             ],
             [
              0.5555555555555556,
              "#d8576b"
             ],
             [
              0.6666666666666666,
              "#ed7953"
             ],
             [
              0.7777777777777778,
              "#fb9f3a"
             ],
             [
              0.8888888888888888,
              "#fdca26"
             ],
             [
              1,
              "#f0f921"
             ]
            ],
            "type": "surface"
           }
          ],
          "table": [
           {
            "cells": {
             "fill": {
              "color": "#EBF0F8"
             },
             "line": {
              "color": "white"
             }
            },
            "header": {
             "fill": {
              "color": "#C8D4E3"
             },
             "line": {
              "color": "white"
             }
            },
            "type": "table"
           }
          ]
         },
         "layout": {
          "annotationdefaults": {
           "arrowcolor": "#2a3f5f",
           "arrowhead": 0,
           "arrowwidth": 1
          },
          "autotypenumbers": "strict",
          "coloraxis": {
           "colorbar": {
            "outlinewidth": 0,
            "ticks": ""
           }
          },
          "colorscale": {
           "diverging": [
            [
             0,
             "#8e0152"
            ],
            [
             0.1,
             "#c51b7d"
            ],
            [
             0.2,
             "#de77ae"
            ],
            [
             0.3,
             "#f1b6da"
            ],
            [
             0.4,
             "#fde0ef"
            ],
            [
             0.5,
             "#f7f7f7"
            ],
            [
             0.6,
             "#e6f5d0"
            ],
            [
             0.7,
             "#b8e186"
            ],
            [
             0.8,
             "#7fbc41"
            ],
            [
             0.9,
             "#4d9221"
            ],
            [
             1,
             "#276419"
            ]
           ],
           "sequential": [
            [
             0,
             "#0d0887"
            ],
            [
             0.1111111111111111,
             "#46039f"
            ],
            [
             0.2222222222222222,
             "#7201a8"
            ],
            [
             0.3333333333333333,
             "#9c179e"
            ],
            [
             0.4444444444444444,
             "#bd3786"
            ],
            [
             0.5555555555555556,
             "#d8576b"
            ],
            [
             0.6666666666666666,
             "#ed7953"
            ],
            [
             0.7777777777777778,
             "#fb9f3a"
            ],
            [
             0.8888888888888888,
             "#fdca26"
            ],
            [
             1,
             "#f0f921"
            ]
           ],
           "sequentialminus": [
            [
             0,
             "#0d0887"
            ],
            [
             0.1111111111111111,
             "#46039f"
            ],
            [
             0.2222222222222222,
             "#7201a8"
            ],
            [
             0.3333333333333333,
             "#9c179e"
            ],
            [
             0.4444444444444444,
             "#bd3786"
            ],
            [
             0.5555555555555556,
             "#d8576b"
            ],
            [
             0.6666666666666666,
             "#ed7953"
            ],
            [
             0.7777777777777778,
             "#fb9f3a"
            ],
            [
             0.8888888888888888,
             "#fdca26"
            ],
            [
             1,
             "#f0f921"
            ]
           ]
          },
          "colorway": [
           "#636efa",
           "#EF553B",
           "#00cc96",
           "#ab63fa",
           "#FFA15A",
           "#19d3f3",
           "#FF6692",
           "#B6E880",
           "#FF97FF",
           "#FECB52"
          ],
          "font": {
           "color": "#2a3f5f"
          },
          "geo": {
           "bgcolor": "white",
           "lakecolor": "white",
           "landcolor": "white",
           "showlakes": true,
           "showland": true,
           "subunitcolor": "#C8D4E3"
          },
          "hoverlabel": {
           "align": "left"
          },
          "hovermode": "closest",
          "mapbox": {
           "style": "light"
          },
          "paper_bgcolor": "white",
          "plot_bgcolor": "white",
          "polar": {
           "angularaxis": {
            "gridcolor": "#EBF0F8",
            "linecolor": "#EBF0F8",
            "ticks": ""
           },
           "bgcolor": "white",
           "radialaxis": {
            "gridcolor": "#EBF0F8",
            "linecolor": "#EBF0F8",
            "ticks": ""
           }
          },
          "scene": {
           "xaxis": {
            "backgroundcolor": "white",
            "gridcolor": "#DFE8F3",
            "gridwidth": 2,
            "linecolor": "#EBF0F8",
            "showbackground": true,
            "ticks": "",
            "zerolinecolor": "#EBF0F8"
           },
           "yaxis": {
            "backgroundcolor": "white",
            "gridcolor": "#DFE8F3",
            "gridwidth": 2,
            "linecolor": "#EBF0F8",
            "showbackground": true,
            "ticks": "",
            "zerolinecolor": "#EBF0F8"
           },
           "zaxis": {
            "backgroundcolor": "white",
            "gridcolor": "#DFE8F3",
            "gridwidth": 2,
            "linecolor": "#EBF0F8",
            "showbackground": true,
            "ticks": "",
            "zerolinecolor": "#EBF0F8"
           }
          },
          "shapedefaults": {
           "line": {
            "color": "#2a3f5f"
           }
          },
          "ternary": {
           "aaxis": {
            "gridcolor": "#DFE8F3",
            "linecolor": "#A2B1C6",
            "ticks": ""
           },
           "baxis": {
            "gridcolor": "#DFE8F3",
            "linecolor": "#A2B1C6",
            "ticks": ""
           },
           "bgcolor": "white",
           "caxis": {
            "gridcolor": "#DFE8F3",
            "linecolor": "#A2B1C6",
            "ticks": ""
           }
          },
          "title": {
           "x": 0.05
          },
          "xaxis": {
           "automargin": true,
           "gridcolor": "#EBF0F8",
           "linecolor": "#EBF0F8",
           "ticks": "",
           "title": {
            "standoff": 15
           },
           "zerolinecolor": "#EBF0F8",
           "zerolinewidth": 2
          },
          "yaxis": {
           "automargin": true,
           "gridcolor": "#EBF0F8",
           "linecolor": "#EBF0F8",
           "ticks": "",
           "title": {
            "standoff": 15
           },
           "zerolinecolor": "#EBF0F8",
           "zerolinewidth": 2
          }
         }
        },
        "title": {
         "text": "Quantity of Order: by Categories"
        },
        "xaxis": {
         "title": {
          "text": "Time"
         }
        },
        "yaxis": {
         "title": {
          "text": "Order Number"
         }
        }
       }
      },
      "text/html": [
       "<div>                            <div id=\"a0b320c6-c564-47f2-ab89-6dacbd78c39f\" class=\"plotly-graph-div\" style=\"height:525px; width:100%;\"></div>            <script type=\"text/javascript\">                require([\"plotly\"], function(Plotly) {                    window.PLOTLYENV=window.PLOTLYENV || {};                                    if (document.getElementById(\"a0b320c6-c564-47f2-ab89-6dacbd78c39f\")) {                    Plotly.newPlot(                        \"a0b320c6-c564-47f2-ab89-6dacbd78c39f\",                        [{\"name\": \"home\", \"type\": \"scatter\", \"x\": [\"2020-01-12T00:00:00\", \"2020-01-19T00:00:00\", \"2020-01-26T00:00:00\", \"2020-02-02T00:00:00\", \"2020-02-09T00:00:00\", \"2020-02-16T00:00:00\", \"2020-02-23T00:00:00\", \"2020-03-01T00:00:00\", \"2020-03-08T00:00:00\", \"2020-03-15T00:00:00\", \"2020-03-22T00:00:00\", \"2020-03-29T00:00:00\", \"2020-04-05T00:00:00\", \"2020-04-12T00:00:00\", \"2020-04-19T00:00:00\", \"2020-04-26T00:00:00\", \"2020-05-03T00:00:00\", \"2020-05-10T00:00:00\", \"2020-05-17T00:00:00\", \"2020-05-24T00:00:00\", \"2020-05-31T00:00:00\", \"2020-06-07T00:00:00\", \"2020-06-14T00:00:00\", \"2020-06-21T00:00:00\", \"2020-06-28T00:00:00\", \"2020-07-05T00:00:00\", \"2020-07-12T00:00:00\", \"2020-07-19T00:00:00\", \"2020-07-26T00:00:00\", \"2020-08-02T00:00:00\", \"2020-08-09T00:00:00\", \"2020-08-16T00:00:00\", \"2020-08-23T00:00:00\", \"2020-08-30T00:00:00\", \"2020-09-06T00:00:00\", \"2020-09-13T00:00:00\", \"2020-09-20T00:00:00\", \"2020-09-27T00:00:00\", \"2020-10-04T00:00:00\", \"2020-10-11T00:00:00\", \"2020-10-18T00:00:00\", \"2020-10-25T00:00:00\", \"2020-11-01T00:00:00\", \"2020-11-08T00:00:00\", \"2020-11-15T00:00:00\", \"2020-11-22T00:00:00\", \"2020-11-29T00:00:00\", \"2020-12-06T00:00:00\", \"2020-12-13T00:00:00\", \"2020-12-20T00:00:00\", \"2020-12-27T00:00:00\", \"2021-01-03T00:00:00\", \"2021-01-10T00:00:00\", \"2021-01-17T00:00:00\", \"2021-01-24T00:00:00\", \"2021-01-31T00:00:00\", \"2021-02-07T00:00:00\", \"2021-02-14T00:00:00\", \"2021-02-21T00:00:00\", \"2021-02-28T00:00:00\", \"2021-03-07T00:00:00\", \"2021-03-14T00:00:00\", \"2021-03-21T00:00:00\", \"2021-03-28T00:00:00\", \"2021-04-04T00:00:00\", \"2021-04-11T00:00:00\", \"2021-04-18T00:00:00\", \"2021-04-25T00:00:00\", \"2021-05-02T00:00:00\", \"2021-05-09T00:00:00\", \"2021-05-16T00:00:00\", \"2021-05-23T00:00:00\", \"2021-05-30T00:00:00\", \"2021-06-06T00:00:00\", \"2021-06-13T00:00:00\", \"2021-06-20T00:00:00\", \"2021-06-27T00:00:00\", \"2021-07-04T00:00:00\", \"2021-07-11T00:00:00\", \"2021-07-18T00:00:00\", \"2021-07-25T00:00:00\", \"2021-08-01T00:00:00\", \"2021-08-08T00:00:00\", \"2021-08-15T00:00:00\", \"2021-08-22T00:00:00\", \"2021-08-29T00:00:00\", \"2021-09-05T00:00:00\", \"2021-09-12T00:00:00\", \"2021-09-19T00:00:00\", \"2021-09-26T00:00:00\", \"2021-10-03T00:00:00\", \"2021-10-10T00:00:00\", \"2021-10-17T00:00:00\", \"2021-10-24T00:00:00\", \"2021-10-31T00:00:00\", \"2021-11-07T00:00:00\", \"2021-11-14T00:00:00\", \"2021-11-21T00:00:00\", \"2021-11-28T00:00:00\", \"2021-12-05T00:00:00\", \"2021-12-12T00:00:00\", \"2021-12-19T00:00:00\"], \"y\": [5, 11, 14, 5, 1, 1, 1, 2, 9, 5, 9, 13, 3, 2, 7, 14, 17, 10, 15, 17, 17, 18, 17, 16, 26, 14, 18, 25, 27, 23, 30, 24, 29, 22, 26, 37, 30, 28, 29, 24, 17, 23, 23, 26, 27, 25, 30, 12, 16, 26, 25, 12, 22, 20, 21, 23, 33, 33, 29, 9, 21, 37, 12, 26, 21, 32, 22, 24, 30, 28, 21, 24, 23, 30, 21, 24, 36, 17, 34, 18, 12, 24, 22, 22, 30, 23, 30, 32, 40, 58, 31, 26, 36, 33, 24, 19, 28, 20, 11, 8, 0, 1]}, {\"name\": \"kitchen\", \"type\": \"scatter\", \"x\": [\"2020-01-12T00:00:00\", \"2020-01-19T00:00:00\", \"2020-01-26T00:00:00\", \"2020-02-02T00:00:00\", \"2020-02-09T00:00:00\", \"2020-02-16T00:00:00\", \"2020-02-23T00:00:00\", \"2020-03-01T00:00:00\", \"2020-03-08T00:00:00\", \"2020-03-15T00:00:00\", \"2020-03-22T00:00:00\", \"2020-03-29T00:00:00\", \"2020-04-05T00:00:00\", \"2020-04-12T00:00:00\", \"2020-04-19T00:00:00\", \"2020-04-26T00:00:00\", \"2020-05-03T00:00:00\", \"2020-05-10T00:00:00\", \"2020-05-17T00:00:00\", \"2020-05-24T00:00:00\", \"2020-05-31T00:00:00\", \"2020-06-07T00:00:00\", \"2020-06-14T00:00:00\", \"2020-06-21T00:00:00\", \"2020-06-28T00:00:00\", \"2020-07-05T00:00:00\", \"2020-07-12T00:00:00\", \"2020-07-19T00:00:00\", \"2020-07-26T00:00:00\", \"2020-08-02T00:00:00\", \"2020-08-09T00:00:00\", \"2020-08-16T00:00:00\", \"2020-08-23T00:00:00\", \"2020-08-30T00:00:00\", \"2020-09-06T00:00:00\", \"2020-09-13T00:00:00\", \"2020-09-20T00:00:00\", \"2020-09-27T00:00:00\", \"2020-10-04T00:00:00\", \"2020-10-11T00:00:00\", \"2020-10-18T00:00:00\", \"2020-10-25T00:00:00\", \"2020-11-01T00:00:00\", \"2020-11-08T00:00:00\", \"2020-11-15T00:00:00\", \"2020-11-22T00:00:00\", \"2020-11-29T00:00:00\", \"2020-12-06T00:00:00\", \"2020-12-13T00:00:00\", \"2020-12-20T00:00:00\", \"2020-12-27T00:00:00\", \"2021-01-03T00:00:00\", \"2021-01-10T00:00:00\", \"2021-01-17T00:00:00\", \"2021-01-24T00:00:00\", \"2021-01-31T00:00:00\", \"2021-02-07T00:00:00\", \"2021-02-14T00:00:00\", \"2021-02-21T00:00:00\", \"2021-02-28T00:00:00\", \"2021-03-07T00:00:00\", \"2021-03-14T00:00:00\", \"2021-03-21T00:00:00\", \"2021-03-28T00:00:00\", \"2021-04-04T00:00:00\", \"2021-04-11T00:00:00\", \"2021-04-18T00:00:00\", \"2021-04-25T00:00:00\", \"2021-05-02T00:00:00\", \"2021-05-09T00:00:00\", \"2021-05-16T00:00:00\", \"2021-05-23T00:00:00\", \"2021-05-30T00:00:00\", \"2021-06-06T00:00:00\", \"2021-06-13T00:00:00\", \"2021-06-20T00:00:00\", \"2021-06-27T00:00:00\", \"2021-07-04T00:00:00\", \"2021-07-11T00:00:00\", \"2021-07-18T00:00:00\", \"2021-07-25T00:00:00\", \"2021-08-01T00:00:00\", \"2021-08-08T00:00:00\", \"2021-08-15T00:00:00\", \"2021-08-22T00:00:00\", \"2021-08-29T00:00:00\", \"2021-09-05T00:00:00\", \"2021-09-12T00:00:00\", \"2021-09-19T00:00:00\", \"2021-09-26T00:00:00\", \"2021-10-03T00:00:00\", \"2021-10-10T00:00:00\", \"2021-10-17T00:00:00\", \"2021-10-24T00:00:00\", \"2021-10-31T00:00:00\", \"2021-11-07T00:00:00\", \"2021-11-14T00:00:00\", \"2021-11-21T00:00:00\", \"2021-11-28T00:00:00\", \"2021-12-05T00:00:00\", \"2021-12-12T00:00:00\", \"2021-12-19T00:00:00\"], \"y\": [2, 5, 2, 3, 1, 0, 0, 0, 0, 3, 2, 3, 3, 1, 3, 2, 2, 6, 4, 5, 9, 11, 6, 8, 8, 6, 7, 10, 4, 7, 10, 8, 8, 13, 6, 8, 8, 14, 15, 5, 4, 13, 7, 9, 18, 10, 4, 9, 8, 9, 3, 7, 4, 5, 8, 12, 11, 5, 7, 6, 3, 11, 17, 18, 7, 10, 17, 11, 17, 13, 6, 8, 16, 2, 9, 6, 15, 7, 9, 10, 10, 5, 5, 9, 8, 6, 17, 11, 31, 15, 13, 4, 8, 13, 9, 10, 6, 8, 3, 1, 0, 0]}, {\"name\": \"home improvement\", \"type\": \"scatter\", \"x\": [\"2020-01-12T00:00:00\", \"2020-01-19T00:00:00\", \"2020-01-26T00:00:00\", \"2020-02-02T00:00:00\", \"2020-02-09T00:00:00\", \"2020-02-16T00:00:00\", \"2020-02-23T00:00:00\", \"2020-03-01T00:00:00\", \"2020-03-08T00:00:00\", \"2020-03-15T00:00:00\", \"2020-03-22T00:00:00\", \"2020-03-29T00:00:00\", \"2020-04-05T00:00:00\", \"2020-04-12T00:00:00\", \"2020-04-19T00:00:00\", \"2020-04-26T00:00:00\", \"2020-05-03T00:00:00\", \"2020-05-10T00:00:00\", \"2020-05-17T00:00:00\", \"2020-05-24T00:00:00\", \"2020-05-31T00:00:00\", \"2020-06-07T00:00:00\", \"2020-06-14T00:00:00\", \"2020-06-21T00:00:00\", \"2020-06-28T00:00:00\", \"2020-07-05T00:00:00\", \"2020-07-12T00:00:00\", \"2020-07-19T00:00:00\", \"2020-07-26T00:00:00\", \"2020-08-02T00:00:00\", \"2020-08-09T00:00:00\", \"2020-08-16T00:00:00\", \"2020-08-23T00:00:00\", \"2020-08-30T00:00:00\", \"2020-09-06T00:00:00\", \"2020-09-13T00:00:00\", \"2020-09-20T00:00:00\", \"2020-09-27T00:00:00\", \"2020-10-04T00:00:00\", \"2020-10-11T00:00:00\", \"2020-10-18T00:00:00\", \"2020-10-25T00:00:00\", \"2020-11-01T00:00:00\", \"2020-11-08T00:00:00\", \"2020-11-15T00:00:00\", \"2020-11-22T00:00:00\", \"2020-11-29T00:00:00\", \"2020-12-06T00:00:00\", \"2020-12-13T00:00:00\", \"2020-12-20T00:00:00\", \"2020-12-27T00:00:00\", \"2021-01-03T00:00:00\", \"2021-01-10T00:00:00\", \"2021-01-17T00:00:00\", \"2021-01-24T00:00:00\", \"2021-01-31T00:00:00\", \"2021-02-07T00:00:00\", \"2021-02-14T00:00:00\", \"2021-02-21T00:00:00\", \"2021-02-28T00:00:00\", \"2021-03-07T00:00:00\", \"2021-03-14T00:00:00\", \"2021-03-21T00:00:00\", \"2021-03-28T00:00:00\", \"2021-04-04T00:00:00\", \"2021-04-11T00:00:00\", \"2021-04-18T00:00:00\", \"2021-04-25T00:00:00\", \"2021-05-02T00:00:00\", \"2021-05-09T00:00:00\", \"2021-05-16T00:00:00\", \"2021-05-23T00:00:00\", \"2021-05-30T00:00:00\", \"2021-06-06T00:00:00\", \"2021-06-13T00:00:00\", \"2021-06-20T00:00:00\", \"2021-06-27T00:00:00\", \"2021-07-04T00:00:00\", \"2021-07-11T00:00:00\", \"2021-07-18T00:00:00\", \"2021-07-25T00:00:00\", \"2021-08-01T00:00:00\", \"2021-08-08T00:00:00\", \"2021-08-15T00:00:00\", \"2021-08-22T00:00:00\", \"2021-08-29T00:00:00\", \"2021-09-05T00:00:00\", \"2021-09-12T00:00:00\", \"2021-09-19T00:00:00\", \"2021-09-26T00:00:00\", \"2021-10-03T00:00:00\", \"2021-10-10T00:00:00\", \"2021-10-17T00:00:00\", \"2021-10-24T00:00:00\", \"2021-10-31T00:00:00\", \"2021-11-07T00:00:00\", \"2021-11-14T00:00:00\", \"2021-11-21T00:00:00\", \"2021-11-28T00:00:00\", \"2021-12-05T00:00:00\", \"2021-12-12T00:00:00\", \"2021-12-19T00:00:00\"], \"y\": [4, 6, 7, 0, 0, 0, 1, 3, 4, 4, 5, 3, 3, 1, 3, 5, 1, 8, 7, 8, 5, 5, 13, 9, 6, 6, 3, 11, 6, 6, 6, 7, 5, 6, 10, 7, 7, 9, 10, 10, 3, 6, 16, 6, 9, 6, 5, 8, 3, 10, 5, 6, 6, 10, 5, 5, 5, 10, 8, 4, 4, 8, 9, 10, 10, 13, 14, 8, 14, 12, 15, 7, 18, 6, 6, 4, 13, 14, 6, 3, 7, 10, 10, 5, 9, 8, 9, 11, 7, 7, 12, 7, 10, 15, 14, 13, 10, 9, 5, 1, 1, 1]}, {\"name\": \"furniture\", \"type\": \"scatter\", \"x\": [\"2020-01-12T00:00:00\", \"2020-01-19T00:00:00\", \"2020-01-26T00:00:00\", \"2020-02-02T00:00:00\", \"2020-02-09T00:00:00\", \"2020-02-16T00:00:00\", \"2020-02-23T00:00:00\", \"2020-03-01T00:00:00\", \"2020-03-08T00:00:00\", \"2020-03-15T00:00:00\", \"2020-03-22T00:00:00\", \"2020-03-29T00:00:00\", \"2020-04-05T00:00:00\", \"2020-04-12T00:00:00\", \"2020-04-19T00:00:00\", \"2020-04-26T00:00:00\", \"2020-05-03T00:00:00\", \"2020-05-10T00:00:00\", \"2020-05-17T00:00:00\", \"2020-05-24T00:00:00\", \"2020-05-31T00:00:00\", \"2020-06-07T00:00:00\", \"2020-06-14T00:00:00\", \"2020-06-21T00:00:00\", \"2020-06-28T00:00:00\", \"2020-07-05T00:00:00\", \"2020-07-12T00:00:00\", \"2020-07-19T00:00:00\", \"2020-07-26T00:00:00\", \"2020-08-02T00:00:00\", \"2020-08-09T00:00:00\", \"2020-08-16T00:00:00\", \"2020-08-23T00:00:00\", \"2020-08-30T00:00:00\", \"2020-09-06T00:00:00\", \"2020-09-13T00:00:00\", \"2020-09-20T00:00:00\", \"2020-09-27T00:00:00\", \"2020-10-04T00:00:00\", \"2020-10-11T00:00:00\", \"2020-10-18T00:00:00\", \"2020-10-25T00:00:00\", \"2020-11-01T00:00:00\", \"2020-11-08T00:00:00\", \"2020-11-15T00:00:00\", \"2020-11-22T00:00:00\", \"2020-11-29T00:00:00\", \"2020-12-06T00:00:00\", \"2020-12-13T00:00:00\", \"2020-12-20T00:00:00\", \"2020-12-27T00:00:00\", \"2021-01-03T00:00:00\", \"2021-01-10T00:00:00\", \"2021-01-17T00:00:00\", \"2021-01-24T00:00:00\", \"2021-01-31T00:00:00\", \"2021-02-07T00:00:00\", \"2021-02-14T00:00:00\", \"2021-02-21T00:00:00\", \"2021-02-28T00:00:00\", \"2021-03-07T00:00:00\", \"2021-03-14T00:00:00\", \"2021-03-21T00:00:00\", \"2021-03-28T00:00:00\", \"2021-04-04T00:00:00\", \"2021-04-11T00:00:00\", \"2021-04-18T00:00:00\", \"2021-04-25T00:00:00\", \"2021-05-02T00:00:00\", \"2021-05-09T00:00:00\", \"2021-05-16T00:00:00\", \"2021-05-23T00:00:00\", \"2021-05-30T00:00:00\", \"2021-06-06T00:00:00\", \"2021-06-13T00:00:00\", \"2021-06-20T00:00:00\", \"2021-06-27T00:00:00\", \"2021-07-04T00:00:00\", \"2021-07-11T00:00:00\", \"2021-07-18T00:00:00\", \"2021-07-25T00:00:00\", \"2021-08-01T00:00:00\", \"2021-08-08T00:00:00\", \"2021-08-15T00:00:00\", \"2021-08-22T00:00:00\", \"2021-08-29T00:00:00\", \"2021-09-05T00:00:00\", \"2021-09-12T00:00:00\", \"2021-09-19T00:00:00\", \"2021-09-26T00:00:00\", \"2021-10-03T00:00:00\", \"2021-10-10T00:00:00\", \"2021-10-17T00:00:00\", \"2021-10-24T00:00:00\", \"2021-10-31T00:00:00\", \"2021-11-07T00:00:00\", \"2021-11-14T00:00:00\", \"2021-11-21T00:00:00\", \"2021-11-28T00:00:00\", \"2021-12-05T00:00:00\", \"2021-12-12T00:00:00\", \"2021-12-19T00:00:00\"], \"y\": [2, 5, 4, 1, 0, 0, 0, 2, 0, 1, 2, 2, 4, 2, 0, 5, 5, 0, 3, 7, 5, 4, 5, 7, 11, 12, 8, 7, 9, 13, 9, 17, 13, 13, 8, 7, 8, 10, 10, 9, 3, 9, 10, 9, 8, 10, 9, 9, 4, 10, 5, 3, 12, 11, 10, 14, 6, 8, 5, 7, 4, 5, 6, 10, 13, 8, 8, 4, 13, 6, 6, 5, 5, 9, 5, 12, 6, 7, 7, 8, 4, 3, 4, 8, 8, 5, 9, 6, 14, 12, 9, 7, 8, 5, 13, 3, 4, 2, 4, 3, 0, 1]}, {\"name\": \"others\", \"type\": \"scatter\", \"x\": [\"2020-01-12T00:00:00\", \"2020-01-19T00:00:00\", \"2020-01-26T00:00:00\", \"2020-02-02T00:00:00\", \"2020-02-09T00:00:00\", \"2020-02-16T00:00:00\", \"2020-02-23T00:00:00\", \"2020-03-01T00:00:00\", \"2020-03-08T00:00:00\", \"2020-03-15T00:00:00\", \"2020-03-22T00:00:00\", \"2020-03-29T00:00:00\", \"2020-04-05T00:00:00\", \"2020-04-12T00:00:00\", \"2020-04-19T00:00:00\", \"2020-04-26T00:00:00\", \"2020-05-03T00:00:00\", \"2020-05-10T00:00:00\", \"2020-05-17T00:00:00\", \"2020-05-24T00:00:00\", \"2020-05-31T00:00:00\", \"2020-06-07T00:00:00\", \"2020-06-14T00:00:00\", \"2020-06-21T00:00:00\", \"2020-06-28T00:00:00\", \"2020-07-05T00:00:00\", \"2020-07-12T00:00:00\", \"2020-07-19T00:00:00\", \"2020-07-26T00:00:00\", \"2020-08-02T00:00:00\", \"2020-08-09T00:00:00\", \"2020-08-16T00:00:00\", \"2020-08-23T00:00:00\", \"2020-08-30T00:00:00\", \"2020-09-06T00:00:00\", \"2020-09-13T00:00:00\", \"2020-09-20T00:00:00\", \"2020-09-27T00:00:00\", \"2020-10-04T00:00:00\", \"2020-10-11T00:00:00\", \"2020-10-18T00:00:00\", \"2020-10-25T00:00:00\", \"2020-11-01T00:00:00\", \"2020-11-08T00:00:00\", \"2020-11-15T00:00:00\", \"2020-11-22T00:00:00\", \"2020-11-29T00:00:00\", \"2020-12-06T00:00:00\", \"2020-12-13T00:00:00\", \"2020-12-20T00:00:00\", \"2020-12-27T00:00:00\", \"2021-01-03T00:00:00\", \"2021-01-10T00:00:00\", \"2021-01-17T00:00:00\", \"2021-01-24T00:00:00\", \"2021-01-31T00:00:00\", \"2021-02-07T00:00:00\", \"2021-02-14T00:00:00\", \"2021-02-21T00:00:00\", \"2021-02-28T00:00:00\", \"2021-03-07T00:00:00\", \"2021-03-14T00:00:00\", \"2021-03-21T00:00:00\", \"2021-03-28T00:00:00\", \"2021-04-04T00:00:00\", \"2021-04-11T00:00:00\", \"2021-04-18T00:00:00\", \"2021-04-25T00:00:00\", \"2021-05-02T00:00:00\", \"2021-05-09T00:00:00\", \"2021-05-16T00:00:00\", \"2021-05-23T00:00:00\", \"2021-05-30T00:00:00\", \"2021-06-06T00:00:00\", \"2021-06-13T00:00:00\", \"2021-06-20T00:00:00\", \"2021-06-27T00:00:00\", \"2021-07-04T00:00:00\", \"2021-07-11T00:00:00\", \"2021-07-18T00:00:00\", \"2021-07-25T00:00:00\", \"2021-08-01T00:00:00\", \"2021-08-08T00:00:00\", \"2021-08-15T00:00:00\", \"2021-08-22T00:00:00\", \"2021-08-29T00:00:00\", \"2021-09-05T00:00:00\", \"2021-09-12T00:00:00\", \"2021-09-19T00:00:00\", \"2021-09-26T00:00:00\", \"2021-10-03T00:00:00\", \"2021-10-10T00:00:00\", \"2021-10-17T00:00:00\", \"2021-10-24T00:00:00\", \"2021-10-31T00:00:00\", \"2021-11-07T00:00:00\", \"2021-11-14T00:00:00\", \"2021-11-21T00:00:00\", \"2021-11-28T00:00:00\", \"2021-12-05T00:00:00\", \"2021-12-12T00:00:00\", \"2021-12-19T00:00:00\"], \"y\": [30, 27, 38, 15, 1, 2, 8, 14, 24, 18, 23, 22, 14, 15, 18, 20, 31, 29, 28, 43, 39, 52, 50, 46, 45, 39, 54, 54, 48, 56, 49, 41, 43, 76, 48, 54, 65, 52, 71, 61, 23, 56, 63, 57, 53, 55, 37, 64, 43, 53, 58, 43, 37, 50, 46, 70, 61, 51, 57, 21, 54, 42, 62, 79, 59, 67, 72, 48, 76, 83, 61, 48, 43, 38, 34, 44, 69, 43, 68, 42, 48, 50, 56, 57, 77, 62, 63, 69, 75, 107, 74, 52, 58, 54, 63, 64, 51, 42, 28, 20, 9, 8]}],                        {\"template\": {\"data\": {\"bar\": [{\"error_x\": {\"color\": \"#2a3f5f\"}, \"error_y\": {\"color\": \"#2a3f5f\"}, \"marker\": {\"line\": {\"color\": \"white\", \"width\": 0.5}}, \"type\": \"bar\"}], \"barpolar\": [{\"marker\": {\"line\": {\"color\": \"white\", \"width\": 0.5}}, \"type\": \"barpolar\"}], \"carpet\": [{\"aaxis\": {\"endlinecolor\": \"#2a3f5f\", \"gridcolor\": \"#C8D4E3\", \"linecolor\": \"#C8D4E3\", \"minorgridcolor\": \"#C8D4E3\", \"startlinecolor\": \"#2a3f5f\"}, \"baxis\": {\"endlinecolor\": \"#2a3f5f\", \"gridcolor\": \"#C8D4E3\", \"linecolor\": \"#C8D4E3\", \"minorgridcolor\": \"#C8D4E3\", \"startlinecolor\": \"#2a3f5f\"}, \"type\": \"carpet\"}], \"choropleth\": [{\"colorbar\": {\"outlinewidth\": 0, \"ticks\": \"\"}, \"type\": \"choropleth\"}], \"contour\": [{\"colorbar\": {\"outlinewidth\": 0, \"ticks\": \"\"}, \"colorscale\": [[0.0, \"#0d0887\"], [0.1111111111111111, \"#46039f\"], [0.2222222222222222, \"#7201a8\"], [0.3333333333333333, \"#9c179e\"], [0.4444444444444444, \"#bd3786\"], [0.5555555555555556, \"#d8576b\"], [0.6666666666666666, \"#ed7953\"], [0.7777777777777778, \"#fb9f3a\"], [0.8888888888888888, \"#fdca26\"], [1.0, \"#f0f921\"]], \"type\": \"contour\"}], \"contourcarpet\": [{\"colorbar\": {\"outlinewidth\": 0, \"ticks\": \"\"}, \"type\": \"contourcarpet\"}], \"heatmap\": [{\"colorbar\": {\"outlinewidth\": 0, \"ticks\": \"\"}, \"colorscale\": [[0.0, \"#0d0887\"], [0.1111111111111111, \"#46039f\"], [0.2222222222222222, \"#7201a8\"], [0.3333333333333333, \"#9c179e\"], [0.4444444444444444, \"#bd3786\"], [0.5555555555555556, \"#d8576b\"], [0.6666666666666666, \"#ed7953\"], [0.7777777777777778, \"#fb9f3a\"], [0.8888888888888888, \"#fdca26\"], [1.0, \"#f0f921\"]], \"type\": \"heatmap\"}], \"heatmapgl\": [{\"colorbar\": {\"outlinewidth\": 0, \"ticks\": \"\"}, \"colorscale\": [[0.0, \"#0d0887\"], [0.1111111111111111, \"#46039f\"], [0.2222222222222222, \"#7201a8\"], [0.3333333333333333, \"#9c179e\"], [0.4444444444444444, \"#bd3786\"], [0.5555555555555556, \"#d8576b\"], [0.6666666666666666, \"#ed7953\"], [0.7777777777777778, \"#fb9f3a\"], [0.8888888888888888, \"#fdca26\"], [1.0, \"#f0f921\"]], \"type\": \"heatmapgl\"}], \"histogram\": [{\"marker\": {\"colorbar\": {\"outlinewidth\": 0, \"ticks\": \"\"}}, \"type\": \"histogram\"}], \"histogram2d\": [{\"colorbar\": {\"outlinewidth\": 0, \"ticks\": \"\"}, \"colorscale\": [[0.0, \"#0d0887\"], [0.1111111111111111, \"#46039f\"], [0.2222222222222222, \"#7201a8\"], [0.3333333333333333, \"#9c179e\"], [0.4444444444444444, \"#bd3786\"], [0.5555555555555556, \"#d8576b\"], [0.6666666666666666, \"#ed7953\"], [0.7777777777777778, \"#fb9f3a\"], [0.8888888888888888, \"#fdca26\"], [1.0, \"#f0f921\"]], \"type\": \"histogram2d\"}], \"histogram2dcontour\": [{\"colorbar\": {\"outlinewidth\": 0, \"ticks\": \"\"}, \"colorscale\": [[0.0, \"#0d0887\"], [0.1111111111111111, \"#46039f\"], [0.2222222222222222, \"#7201a8\"], [0.3333333333333333, \"#9c179e\"], [0.4444444444444444, \"#bd3786\"], [0.5555555555555556, \"#d8576b\"], [0.6666666666666666, \"#ed7953\"], [0.7777777777777778, \"#fb9f3a\"], [0.8888888888888888, \"#fdca26\"], [1.0, \"#f0f921\"]], \"type\": \"histogram2dcontour\"}], \"mesh3d\": [{\"colorbar\": {\"outlinewidth\": 0, \"ticks\": \"\"}, \"type\": \"mesh3d\"}], \"parcoords\": [{\"line\": {\"colorbar\": {\"outlinewidth\": 0, \"ticks\": \"\"}}, \"type\": \"parcoords\"}], \"pie\": [{\"automargin\": true, \"type\": \"pie\"}], \"scatter\": [{\"marker\": {\"colorbar\": {\"outlinewidth\": 0, \"ticks\": \"\"}}, \"type\": \"scatter\"}], \"scatter3d\": [{\"line\": {\"colorbar\": {\"outlinewidth\": 0, \"ticks\": \"\"}}, \"marker\": {\"colorbar\": {\"outlinewidth\": 0, \"ticks\": \"\"}}, \"type\": \"scatter3d\"}], \"scattercarpet\": [{\"marker\": {\"colorbar\": {\"outlinewidth\": 0, \"ticks\": \"\"}}, \"type\": \"scattercarpet\"}], \"scattergeo\": [{\"marker\": {\"colorbar\": {\"outlinewidth\": 0, \"ticks\": \"\"}}, \"type\": \"scattergeo\"}], \"scattergl\": [{\"marker\": {\"colorbar\": {\"outlinewidth\": 0, \"ticks\": \"\"}}, \"type\": \"scattergl\"}], \"scattermapbox\": [{\"marker\": {\"colorbar\": {\"outlinewidth\": 0, \"ticks\": \"\"}}, \"type\": \"scattermapbox\"}], \"scatterpolar\": [{\"marker\": {\"colorbar\": {\"outlinewidth\": 0, \"ticks\": \"\"}}, \"type\": \"scatterpolar\"}], \"scatterpolargl\": [{\"marker\": {\"colorbar\": {\"outlinewidth\": 0, \"ticks\": \"\"}}, \"type\": \"scatterpolargl\"}], \"scatterternary\": [{\"marker\": {\"colorbar\": {\"outlinewidth\": 0, \"ticks\": \"\"}}, \"type\": \"scatterternary\"}], \"surface\": [{\"colorbar\": {\"outlinewidth\": 0, \"ticks\": \"\"}, \"colorscale\": [[0.0, \"#0d0887\"], [0.1111111111111111, \"#46039f\"], [0.2222222222222222, \"#7201a8\"], [0.3333333333333333, \"#9c179e\"], [0.4444444444444444, \"#bd3786\"], [0.5555555555555556, \"#d8576b\"], [0.6666666666666666, \"#ed7953\"], [0.7777777777777778, \"#fb9f3a\"], [0.8888888888888888, \"#fdca26\"], [1.0, \"#f0f921\"]], \"type\": \"surface\"}], \"table\": [{\"cells\": {\"fill\": {\"color\": \"#EBF0F8\"}, \"line\": {\"color\": \"white\"}}, \"header\": {\"fill\": {\"color\": \"#C8D4E3\"}, \"line\": {\"color\": \"white\"}}, \"type\": \"table\"}]}, \"layout\": {\"annotationdefaults\": {\"arrowcolor\": \"#2a3f5f\", \"arrowhead\": 0, \"arrowwidth\": 1}, \"autotypenumbers\": \"strict\", \"coloraxis\": {\"colorbar\": {\"outlinewidth\": 0, \"ticks\": \"\"}}, \"colorscale\": {\"diverging\": [[0, \"#8e0152\"], [0.1, \"#c51b7d\"], [0.2, \"#de77ae\"], [0.3, \"#f1b6da\"], [0.4, \"#fde0ef\"], [0.5, \"#f7f7f7\"], [0.6, \"#e6f5d0\"], [0.7, \"#b8e186\"], [0.8, \"#7fbc41\"], [0.9, \"#4d9221\"], [1, \"#276419\"]], \"sequential\": [[0.0, \"#0d0887\"], [0.1111111111111111, \"#46039f\"], [0.2222222222222222, \"#7201a8\"], [0.3333333333333333, \"#9c179e\"], [0.4444444444444444, \"#bd3786\"], [0.5555555555555556, \"#d8576b\"], [0.6666666666666666, \"#ed7953\"], [0.7777777777777778, \"#fb9f3a\"], [0.8888888888888888, \"#fdca26\"], [1.0, \"#f0f921\"]], \"sequentialminus\": [[0.0, \"#0d0887\"], [0.1111111111111111, \"#46039f\"], [0.2222222222222222, \"#7201a8\"], [0.3333333333333333, \"#9c179e\"], [0.4444444444444444, \"#bd3786\"], [0.5555555555555556, \"#d8576b\"], [0.6666666666666666, \"#ed7953\"], [0.7777777777777778, \"#fb9f3a\"], [0.8888888888888888, \"#fdca26\"], [1.0, \"#f0f921\"]]}, \"colorway\": [\"#636efa\", \"#EF553B\", \"#00cc96\", \"#ab63fa\", \"#FFA15A\", \"#19d3f3\", \"#FF6692\", \"#B6E880\", \"#FF97FF\", \"#FECB52\"], \"font\": {\"color\": \"#2a3f5f\"}, \"geo\": {\"bgcolor\": \"white\", \"lakecolor\": \"white\", \"landcolor\": \"white\", \"showlakes\": true, \"showland\": true, \"subunitcolor\": \"#C8D4E3\"}, \"hoverlabel\": {\"align\": \"left\"}, \"hovermode\": \"closest\", \"mapbox\": {\"style\": \"light\"}, \"paper_bgcolor\": \"white\", \"plot_bgcolor\": \"white\", \"polar\": {\"angularaxis\": {\"gridcolor\": \"#EBF0F8\", \"linecolor\": \"#EBF0F8\", \"ticks\": \"\"}, \"bgcolor\": \"white\", \"radialaxis\": {\"gridcolor\": \"#EBF0F8\", \"linecolor\": \"#EBF0F8\", \"ticks\": \"\"}}, \"scene\": {\"xaxis\": {\"backgroundcolor\": \"white\", \"gridcolor\": \"#DFE8F3\", \"gridwidth\": 2, \"linecolor\": \"#EBF0F8\", \"showbackground\": true, \"ticks\": \"\", \"zerolinecolor\": \"#EBF0F8\"}, \"yaxis\": {\"backgroundcolor\": \"white\", \"gridcolor\": \"#DFE8F3\", \"gridwidth\": 2, \"linecolor\": \"#EBF0F8\", \"showbackground\": true, \"ticks\": \"\", \"zerolinecolor\": \"#EBF0F8\"}, \"zaxis\": {\"backgroundcolor\": \"white\", \"gridcolor\": \"#DFE8F3\", \"gridwidth\": 2, \"linecolor\": \"#EBF0F8\", \"showbackground\": true, \"ticks\": \"\", \"zerolinecolor\": \"#EBF0F8\"}}, \"shapedefaults\": {\"line\": {\"color\": \"#2a3f5f\"}}, \"ternary\": {\"aaxis\": {\"gridcolor\": \"#DFE8F3\", \"linecolor\": \"#A2B1C6\", \"ticks\": \"\"}, \"baxis\": {\"gridcolor\": \"#DFE8F3\", \"linecolor\": \"#A2B1C6\", \"ticks\": \"\"}, \"bgcolor\": \"white\", \"caxis\": {\"gridcolor\": \"#DFE8F3\", \"linecolor\": \"#A2B1C6\", \"ticks\": \"\"}}, \"title\": {\"x\": 0.05}, \"xaxis\": {\"automargin\": true, \"gridcolor\": \"#EBF0F8\", \"linecolor\": \"#EBF0F8\", \"ticks\": \"\", \"title\": {\"standoff\": 15}, \"zerolinecolor\": \"#EBF0F8\", \"zerolinewidth\": 2}, \"yaxis\": {\"automargin\": true, \"gridcolor\": \"#EBF0F8\", \"linecolor\": \"#EBF0F8\", \"ticks\": \"\", \"title\": {\"standoff\": 15}, \"zerolinecolor\": \"#EBF0F8\", \"zerolinewidth\": 2}}}, \"title\": {\"text\": \"Quantity of Order: by Categories\"}, \"xaxis\": {\"title\": {\"text\": \"Time\"}}, \"yaxis\": {\"title\": {\"text\": \"Order Number\"}}},                        {\"responsive\": true}                    ).then(function(){\n",
       "                            \n",
       "var gd = document.getElementById('a0b320c6-c564-47f2-ab89-6dacbd78c39f');\n",
       "var x = new MutationObserver(function (mutations, observer) {{\n",
       "        var display = window.getComputedStyle(gd).display;\n",
       "        if (!display || display === 'none') {{\n",
       "            console.log([gd, 'removed!']);\n",
       "            Plotly.purge(gd);\n",
       "            observer.disconnect();\n",
       "        }}\n",
       "}});\n",
       "\n",
       "// Listen for the removal of the full notebook cells\n",
       "var notebookContainer = gd.closest('#notebook-container');\n",
       "if (notebookContainer) {{\n",
       "    x.observe(notebookContainer, {childList: true});\n",
       "}}\n",
       "\n",
       "// Listen for the clearing of the current output cell\n",
       "var outputEl = gd.closest('.output');\n",
       "if (outputEl) {{\n",
       "    x.observe(outputEl, {childList: true});\n",
       "}}\n",
       "\n",
       "                        })                };                });            </script>        </div>"
      ]
     },
     "metadata": {},
     "output_type": "display_data"
    }
   ],
   "source": [
    "# 5 main categories\n",
    "data_lstm_h = home[['order number']]\n",
    "data_lstm_k = kitchen[['order number']]\n",
    "data_lstm_hi = hi[['order number']]\n",
    "data_lstm_f = furniture[['order number']]\n",
    "data_lstm_o = others[['order number']]\n",
    "data_lstm = data[['order number']]\n",
    "\n",
    "fig = go.Figure(layout = {'title': 'Quantity of Order: by Categories', \n",
    "                          'xaxis_title': 'Time', \n",
    "                          'yaxis_title': 'Order Number', \n",
    "                          'template': 'plotly_white'})\n",
    "fig.add_trace(go.Scatter(x = data_lstm_h.index, y = data_lstm_h['order number'], name = 'home'))\n",
    "fig.add_trace(go.Scatter(x = data_lstm_k.index, y = data_lstm_k['order number'], name = 'kitchen'))\n",
    "fig.add_trace(go.Scatter(x = data_lstm_hi.index, y = data_lstm_hi['order number'], name = 'home improvement'))\n",
    "fig.add_trace(go.Scatter(x = data_lstm_f.index, y = data_lstm_f['order number'], name = 'furniture'))\n",
    "fig.add_trace(go.Scatter(x = data_lstm_o.index, y = data_lstm_o['order number'], name = 'others'))\n",
    "fig.show()"
   ]
  },
  {
   "cell_type": "code",
   "execution_count": 47,
   "id": "31a806b4",
   "metadata": {},
   "outputs": [],
   "source": [
    "# 数据处理，归一化[0, 1]\n",
    "scalar = MinMaxScaler()\n",
    "\n",
    "data_lstm_h['order number scaler'] = scalar.fit_transform(data_lstm_h['order number'].values.reshape(-1, 1))\n",
    "data_lstm_k['order number scaler'] = scalar.fit_transform(data_lstm_k['order number'].values.reshape(-1, 1))\n",
    "data_lstm_hi['order number scaler'] = scalar.fit_transform(data_lstm_hi['order number'].values.reshape(-1, 1))\n",
    "data_lstm_f['order number scaler'] = scalar.fit_transform(data_lstm_f['order number'].values.reshape(-1, 1))\n",
    "data_lstm_o['order number scaler'] = scalar.fit_transform(data_lstm_o['order number'].values.reshape(-1, 1))"
   ]
  },
  {
   "cell_type": "code",
   "execution_count": 48,
   "id": "e3c97847",
   "metadata": {},
   "outputs": [
    {
     "name": "stdout",
     "output_type": "stream",
     "text": [
      "Total datasets:  torch.Size([85, 8, 1]) --> torch.Size([85, 1, 1])\n"
     ]
    }
   ],
   "source": [
    "#划分训练集测试集\n",
    "test_data_size = 8\n",
    "data_lstm_h_train = data_lstm_h['order number scaler'][:-test_data_size]\n",
    "data_lstm_h_test = data_lstm_h['order number scaler'][-test_data_size:]\n",
    "data_lstm_k_train = data_lstm_k['order number scaler'][:-test_data_size]\n",
    "data_lstm_k_test = data_lstm_k['order number scaler'][-test_data_size:]\n",
    "data_lstm_hi_train = data_lstm_hi['order number scaler'][:-test_data_size]\n",
    "data_lstm_hi_test = data_lstm_hi['order number scaler'][-test_data_size:]\n",
    "data_lstm_f_train = data_lstm_f['order number scaler'][:-test_data_size]\n",
    "data_lstm_f_test = data_lstm_f['order number scaler'][-test_data_size:]\n",
    "data_lstm_o_train = data_lstm_o['order number scaler'][:-test_data_size]\n",
    "data_lstm_o_test = data_lstm_o['order number scaler'][-test_data_size:]\n",
    "\n",
    "def create_dataset(data: list, time_step: int):\n",
    "    arr_x, arr_y = [], []\n",
    "    for i in range(len(data) - time_step - 1):\n",
    "        x = data[i:i + time_step]\n",
    "        y = data[i + time_step]\n",
    "        arr_x.append(x)\n",
    "        arr_y.append(y)\n",
    "    return np.array(arr_x), np.array(arr_y)\n",
    "\n",
    "time_step = 8\n",
    "Xh, Yh = create_dataset(data_lstm_h_train.values, time_step)\n",
    "Xk, Yk = create_dataset(data_lstm_k_train.values, time_step)\n",
    "Xhi, Yhi = create_dataset(data_lstm_hi_train.values, time_step)\n",
    "Xf, Yf = create_dataset(data_lstm_f_train.values, time_step)\n",
    "Xo, Yo = create_dataset(data_lstm_o_train.values, time_step)\n",
    "\n",
    "device = torch.device('cuda:0' if torch.cuda.is_available() else 'cpu')\n",
    "Xh = torch.tensor(Xh.reshape(-1, time_step, 1), dtype = torch.float).to(device)\n",
    "Yh = torch.tensor(Yh.reshape(-1, 1, 1), dtype = torch.float).to(device)\n",
    "Xk = torch.tensor(Xk.reshape(-1, time_step, 1), dtype = torch.float).to(device)\n",
    "Yk = torch.tensor(Yk.reshape(-1, 1, 1), dtype = torch.float).to(device)\n",
    "Xhi = torch.tensor(Xhi.reshape(-1, time_step, 1), dtype = torch.float).to(device)\n",
    "Yhi = torch.tensor(Yhi.reshape(-1, 1, 1), dtype = torch.float).to(device)\n",
    "Xf = torch.tensor(Xf.reshape(-1, time_step, 1), dtype = torch.float).to(device)\n",
    "Yf = torch.tensor(Yf.reshape(-1, 1, 1), dtype = torch.float).to(device)\n",
    "Xo = torch.tensor(Xo.reshape(-1, time_step, 1), dtype = torch.float).to(device)\n",
    "Yo = torch.tensor(Yo.reshape(-1, 1, 1), dtype = torch.float).to(device)\n",
    "print('Total datasets: ', Xh.shape, '-->', Yh.shape)"
   ]
  },
  {
   "cell_type": "code",
   "execution_count": 49,
   "id": "958058fd",
   "metadata": {},
   "outputs": [],
   "source": [
    "# 构建迭代器\n",
    "batch_size = 8\n",
    "\n",
    "ds_train_h = TensorDataset(Xh, Yh)\n",
    "dl_train_h = DataLoader(ds_train_h, batch_size = batch_size, num_workers = 0)\n",
    "ds_train_k = TensorDataset(Xk, Yk)\n",
    "dl_train_k = DataLoader(ds_train_k, batch_size = batch_size, num_workers = 0)\n",
    "ds_train_hi = TensorDataset(Xhi, Yhi)\n",
    "dl_train_hi = DataLoader(ds_train_hi, batch_size = batch_size, num_workers = 0)\n",
    "ds_train_f = TensorDataset(Xf, Yf)\n",
    "dl_train_f = DataLoader(ds_train_f, batch_size = batch_size, num_workers = 0)\n",
    "ds_train_o = TensorDataset(Xo, Yo)\n",
    "dl_train_o = DataLoader(ds_train_h, batch_size = batch_size, num_workers = 0)"
   ]
  },
  {
   "cell_type": "code",
   "execution_count": 170,
   "id": "29faa7c3",
   "metadata": {},
   "outputs": [
    {
     "name": "stdout",
     "output_type": "stream",
     "text": [
      "----------------------------------------------------------------\n",
      "        Layer (type)               Output Shape         Param #\n",
      "================================================================\n",
      "              LSTM-1               [-1, 8, 256]       1,844,224\n",
      "            Linear-2                    [-1, 1]             257\n",
      "================================================================\n",
      "Total params: 1,844,481\n",
      "Trainable params: 1,844,481\n",
      "Non-trainable params: 0\n",
      "----------------------------------------------------------------\n",
      "Input size (MB): 0.000031\n",
      "Forward/backward pass size (MB): 0.015633\n",
      "Params size (MB): 7.036137\n",
      "Estimated Total Size (MB): 7.051800\n",
      "----------------------------------------------------------------\n",
      "Start Training ...\n",
      "\n",
      "================================================================================2022-05-04 20:03:40\n",
      "\n",
      " +-------+------+\n",
      "| epoch | loss |\n",
      "+-------+------+\n",
      "|   1   | 0.35 |\n",
      "+-------+------+\n",
      "\n",
      "================================================================================2022-05-04 20:03:40\n",
      "\n",
      " +-------+-------+\n",
      "| epoch |  loss |\n",
      "+-------+-------+\n",
      "|   2   | 0.082 |\n",
      "+-------+-------+\n",
      "\n",
      "================================================================================2022-05-04 20:03:40\n",
      "\n",
      " +-------+-------+\n",
      "| epoch |  loss |\n",
      "+-------+-------+\n",
      "|   3   | 0.045 |\n",
      "+-------+-------+\n",
      "\n",
      "================================================================================2022-05-04 20:03:41\n",
      "\n",
      " +-------+-------+\n",
      "| epoch |  loss |\n",
      "+-------+-------+\n",
      "|   4   | 0.038 |\n",
      "+-------+-------+\n",
      "\n",
      "================================================================================2022-05-04 20:03:41\n",
      "\n",
      " +-------+------+\n",
      "| epoch | loss |\n",
      "+-------+------+\n",
      "|   5   | 0.04 |\n",
      "+-------+------+\n",
      "\n",
      "================================================================================2022-05-04 20:03:42\n",
      "\n",
      " +-------+-------+\n",
      "| epoch |  loss |\n",
      "+-------+-------+\n",
      "|   6   | 0.043 |\n",
      "+-------+-------+\n",
      "\n",
      "================================================================================2022-05-04 20:03:42\n",
      "\n",
      " +-------+-------+\n",
      "| epoch |  loss |\n",
      "+-------+-------+\n",
      "|   7   | 0.042 |\n",
      "+-------+-------+\n",
      "\n",
      "================================================================================2022-05-04 20:03:43\n",
      "\n",
      " +-------+-------+\n",
      "| epoch |  loss |\n",
      "+-------+-------+\n",
      "|   8   | 0.041 |\n",
      "+-------+-------+\n",
      "\n",
      "================================================================================2022-05-04 20:03:43\n",
      "\n",
      " +-------+-------+\n",
      "| epoch |  loss |\n",
      "+-------+-------+\n",
      "|   9   | 0.041 |\n",
      "+-------+-------+\n",
      "\n",
      "================================================================================2022-05-04 20:03:44\n",
      "\n",
      " +-------+-------+\n",
      "| epoch |  loss |\n",
      "+-------+-------+\n",
      "|   10  | 0.041 |\n",
      "+-------+-------+\n",
      "\n",
      "================================================================================2022-05-04 20:03:44\n",
      "\n",
      " +-------+-------+\n",
      "| epoch |  loss |\n",
      "+-------+-------+\n",
      "|   11  | 0.041 |\n",
      "+-------+-------+\n",
      "\n",
      "================================================================================2022-05-04 20:03:45\n",
      "\n",
      " +-------+-------+\n",
      "| epoch |  loss |\n",
      "+-------+-------+\n",
      "|   12  | 0.041 |\n",
      "+-------+-------+\n",
      "\n",
      "================================================================================2022-05-04 20:03:45\n",
      "\n",
      " +-------+-------+\n",
      "| epoch |  loss |\n",
      "+-------+-------+\n",
      "|   13  | 0.041 |\n",
      "+-------+-------+\n",
      "\n",
      "================================================================================2022-05-04 20:03:45\n",
      "\n",
      " +-------+-------+\n",
      "| epoch |  loss |\n",
      "+-------+-------+\n",
      "|   14  | 0.041 |\n",
      "+-------+-------+\n",
      "\n",
      "================================================================================2022-05-04 20:03:46\n",
      "\n",
      " +-------+-------+\n",
      "| epoch |  loss |\n",
      "+-------+-------+\n",
      "|   15  | 0.041 |\n",
      "+-------+-------+\n",
      "\n",
      "================================================================================2022-05-04 20:03:46\n",
      "\n",
      " +-------+-------+\n",
      "| epoch |  loss |\n",
      "+-------+-------+\n",
      "|   16  | 0.041 |\n",
      "+-------+-------+\n",
      "\n",
      "================================================================================2022-05-04 20:03:47\n",
      "\n",
      " +-------+-------+\n",
      "| epoch |  loss |\n",
      "+-------+-------+\n",
      "|   17  | 0.041 |\n",
      "+-------+-------+\n",
      "\n",
      "================================================================================2022-05-04 20:03:47\n",
      "\n",
      " +-------+-------+\n",
      "| epoch |  loss |\n",
      "+-------+-------+\n",
      "|   18  | 0.041 |\n",
      "+-------+-------+\n",
      "\n",
      "================================================================================2022-05-04 20:03:48\n",
      "\n",
      " +-------+-------+\n",
      "| epoch |  loss |\n",
      "+-------+-------+\n",
      "|   19  | 0.041 |\n",
      "+-------+-------+\n",
      "\n",
      "================================================================================2022-05-04 20:03:48\n",
      "\n",
      " +-------+-------+\n",
      "| epoch |  loss |\n",
      "+-------+-------+\n",
      "|   20  | 0.041 |\n",
      "+-------+-------+\n",
      "\n",
      "================================================================================2022-05-04 20:03:49\n",
      "\n",
      " +-------+-------+\n",
      "| epoch |  loss |\n",
      "+-------+-------+\n",
      "|   21  | 0.041 |\n",
      "+-------+-------+\n",
      "\n",
      "================================================================================2022-05-04 20:03:49\n",
      "\n",
      " +-------+-------+\n",
      "| epoch |  loss |\n",
      "+-------+-------+\n",
      "|   22  | 0.041 |\n",
      "+-------+-------+\n",
      "\n",
      "================================================================================2022-05-04 20:03:50\n",
      "\n",
      " +-------+-------+\n",
      "| epoch |  loss |\n",
      "+-------+-------+\n",
      "|   23  | 0.041 |\n",
      "+-------+-------+\n",
      "\n",
      "================================================================================2022-05-04 20:03:50\n",
      "\n",
      " +-------+-------+\n",
      "| epoch |  loss |\n",
      "+-------+-------+\n",
      "|   24  | 0.041 |\n",
      "+-------+-------+\n",
      "\n",
      "================================================================================2022-05-04 20:03:51\n",
      "\n",
      " +-------+-------+\n",
      "| epoch |  loss |\n",
      "+-------+-------+\n",
      "|   25  | 0.041 |\n",
      "+-------+-------+\n",
      "\n",
      "================================================================================2022-05-04 20:03:51\n",
      "\n",
      " +-------+-------+\n",
      "| epoch |  loss |\n",
      "+-------+-------+\n",
      "|   26  | 0.041 |\n",
      "+-------+-------+\n",
      "\n",
      "================================================================================2022-05-04 20:03:51\n",
      "\n",
      " +-------+-------+\n",
      "| epoch |  loss |\n",
      "+-------+-------+\n",
      "|   27  | 0.041 |\n",
      "+-------+-------+\n",
      "\n",
      "================================================================================2022-05-04 20:03:52\n",
      "\n",
      " +-------+-------+\n",
      "| epoch |  loss |\n",
      "+-------+-------+\n",
      "|   28  | 0.041 |\n",
      "+-------+-------+\n",
      "\n",
      "================================================================================2022-05-04 20:03:52\n",
      "\n",
      " +-------+-------+\n",
      "| epoch |  loss |\n",
      "+-------+-------+\n",
      "|   29  | 0.041 |\n",
      "+-------+-------+\n",
      "\n",
      "================================================================================2022-05-04 20:03:53\n",
      "\n",
      " +-------+-------+\n",
      "| epoch |  loss |\n",
      "+-------+-------+\n",
      "|   30  | 0.041 |\n",
      "+-------+-------+\n",
      "\n",
      "================================================================================2022-05-04 20:03:53\n",
      "\n",
      " +-------+-------+\n",
      "| epoch |  loss |\n",
      "+-------+-------+\n",
      "|   31  | 0.041 |\n",
      "+-------+-------+\n",
      "\n",
      "================================================================================2022-05-04 20:03:54\n",
      "\n",
      " +-------+-------+\n",
      "| epoch |  loss |\n",
      "+-------+-------+\n",
      "|   32  | 0.041 |\n",
      "+-------+-------+\n",
      "\n",
      "================================================================================2022-05-04 20:03:54\n",
      "\n",
      " +-------+-------+\n",
      "| epoch |  loss |\n",
      "+-------+-------+\n",
      "|   33  | 0.041 |\n",
      "+-------+-------+\n",
      "\n",
      "================================================================================2022-05-04 20:03:55\n",
      "\n",
      " +-------+-------+\n",
      "| epoch |  loss |\n",
      "+-------+-------+\n",
      "|   34  | 0.041 |\n",
      "+-------+-------+\n",
      "\n",
      "================================================================================2022-05-04 20:03:55\n",
      "\n",
      " +-------+-------+\n",
      "| epoch |  loss |\n",
      "+-------+-------+\n",
      "|   35  | 0.041 |\n",
      "+-------+-------+\n",
      "\n",
      "================================================================================2022-05-04 20:03:55\n",
      "\n",
      " +-------+-------+\n",
      "| epoch |  loss |\n",
      "+-------+-------+\n",
      "|   36  | 0.041 |\n",
      "+-------+-------+\n",
      "\n",
      "================================================================================2022-05-04 20:03:56\n",
      "\n",
      " +-------+-------+\n",
      "| epoch |  loss |\n",
      "+-------+-------+\n",
      "|   37  | 0.041 |\n",
      "+-------+-------+\n",
      "\n",
      "================================================================================2022-05-04 20:03:56\n",
      "\n",
      " +-------+-------+\n",
      "| epoch |  loss |\n",
      "+-------+-------+\n",
      "|   38  | 0.041 |\n",
      "+-------+-------+\n",
      "\n",
      "================================================================================2022-05-04 20:03:57\n",
      "\n",
      " +-------+-------+\n",
      "| epoch |  loss |\n",
      "+-------+-------+\n",
      "|   39  | 0.041 |\n",
      "+-------+-------+\n",
      "\n",
      "================================================================================2022-05-04 20:03:57\n"
     ]
    },
    {
     "name": "stdout",
     "output_type": "stream",
     "text": [
      "\n",
      " +-------+-------+\n",
      "| epoch |  loss |\n",
      "+-------+-------+\n",
      "|   40  | 0.041 |\n",
      "+-------+-------+\n",
      "\n",
      "================================================================================2022-05-04 20:03:58\n",
      "\n",
      " +-------+-------+\n",
      "| epoch |  loss |\n",
      "+-------+-------+\n",
      "|   41  | 0.041 |\n",
      "+-------+-------+\n",
      "\n",
      "================================================================================2022-05-04 20:03:58\n",
      "\n",
      " +-------+-------+\n",
      "| epoch |  loss |\n",
      "+-------+-------+\n",
      "|   42  | 0.041 |\n",
      "+-------+-------+\n",
      "\n",
      "================================================================================2022-05-04 20:03:59\n",
      "\n",
      " +-------+-------+\n",
      "| epoch |  loss |\n",
      "+-------+-------+\n",
      "|   43  | 0.041 |\n",
      "+-------+-------+\n",
      "\n",
      "================================================================================2022-05-04 20:03:59\n",
      "\n",
      " +-------+-------+\n",
      "| epoch |  loss |\n",
      "+-------+-------+\n",
      "|   44  | 0.041 |\n",
      "+-------+-------+\n",
      "\n",
      "================================================================================2022-05-04 20:04:00\n",
      "\n",
      " +-------+-------+\n",
      "| epoch |  loss |\n",
      "+-------+-------+\n",
      "|   45  | 0.041 |\n",
      "+-------+-------+\n",
      "\n",
      "================================================================================2022-05-04 20:04:00\n",
      "\n",
      " +-------+-------+\n",
      "| epoch |  loss |\n",
      "+-------+-------+\n",
      "|   46  | 0.041 |\n",
      "+-------+-------+\n",
      "\n",
      "================================================================================2022-05-04 20:04:01\n",
      "\n",
      " +-------+-------+\n",
      "| epoch |  loss |\n",
      "+-------+-------+\n",
      "|   47  | 0.042 |\n",
      "+-------+-------+\n",
      "\n",
      "================================================================================2022-05-04 20:04:01\n",
      "\n",
      " +-------+-------+\n",
      "| epoch |  loss |\n",
      "+-------+-------+\n",
      "|   48  | 0.041 |\n",
      "+-------+-------+\n",
      "\n",
      "================================================================================2022-05-04 20:04:01\n",
      "\n",
      " +-------+-------+\n",
      "| epoch |  loss |\n",
      "+-------+-------+\n",
      "|   49  | 0.041 |\n",
      "+-------+-------+\n",
      "\n",
      "================================================================================2022-05-04 20:04:02\n",
      "\n",
      " +-------+-------+\n",
      "| epoch |  loss |\n",
      "+-------+-------+\n",
      "|   50  | 0.041 |\n",
      "+-------+-------+\n",
      "\n",
      "================================================================================2022-05-04 20:04:02\n",
      "\n",
      " +-------+-------+\n",
      "| epoch |  loss |\n",
      "+-------+-------+\n",
      "|   51  | 0.041 |\n",
      "+-------+-------+\n",
      "\n",
      "================================================================================2022-05-04 20:04:03\n",
      "\n",
      " +-------+-------+\n",
      "| epoch |  loss |\n",
      "+-------+-------+\n",
      "|   52  | 0.041 |\n",
      "+-------+-------+\n",
      "\n",
      "================================================================================2022-05-04 20:04:03\n",
      "\n",
      " +-------+-------+\n",
      "| epoch |  loss |\n",
      "+-------+-------+\n",
      "|   53  | 0.042 |\n",
      "+-------+-------+\n",
      "\n",
      "================================================================================2022-05-04 20:04:04\n",
      "\n",
      " +-------+-------+\n",
      "| epoch |  loss |\n",
      "+-------+-------+\n",
      "|   54  | 0.041 |\n",
      "+-------+-------+\n",
      "\n",
      "================================================================================2022-05-04 20:04:04\n",
      "\n",
      " +-------+-------+\n",
      "| epoch |  loss |\n",
      "+-------+-------+\n",
      "|   55  | 0.041 |\n",
      "+-------+-------+\n",
      "\n",
      "================================================================================2022-05-04 20:04:05\n",
      "\n",
      " +-------+-------+\n",
      "| epoch |  loss |\n",
      "+-------+-------+\n",
      "|   56  | 0.041 |\n",
      "+-------+-------+\n",
      "\n",
      "================================================================================2022-05-04 20:04:05\n",
      "\n",
      " +-------+-------+\n",
      "| epoch |  loss |\n",
      "+-------+-------+\n",
      "|   57  | 0.042 |\n",
      "+-------+-------+\n",
      "\n",
      "================================================================================2022-05-04 20:04:06\n",
      "\n",
      " +-------+-------+\n",
      "| epoch |  loss |\n",
      "+-------+-------+\n",
      "|   58  | 0.042 |\n",
      "+-------+-------+\n",
      "\n",
      "================================================================================2022-05-04 20:04:06\n",
      "\n",
      " +-------+-------+\n",
      "| epoch |  loss |\n",
      "+-------+-------+\n",
      "|   59  | 0.042 |\n",
      "+-------+-------+\n",
      "\n",
      "================================================================================2022-05-04 20:04:06\n",
      "\n",
      " +-------+-------+\n",
      "| epoch |  loss |\n",
      "+-------+-------+\n",
      "|   60  | 0.041 |\n",
      "+-------+-------+\n",
      "\n",
      "================================================================================2022-05-04 20:04:07\n",
      "\n",
      " +-------+-------+\n",
      "| epoch |  loss |\n",
      "+-------+-------+\n",
      "|   61  | 0.041 |\n",
      "+-------+-------+\n",
      "\n",
      "================================================================================2022-05-04 20:04:07\n",
      "\n",
      " +-------+-------+\n",
      "| epoch |  loss |\n",
      "+-------+-------+\n",
      "|   62  | 0.042 |\n",
      "+-------+-------+\n",
      "\n",
      "================================================================================2022-05-04 20:04:08\n",
      "\n",
      " +-------+-------+\n",
      "| epoch |  loss |\n",
      "+-------+-------+\n",
      "|   63  | 0.042 |\n",
      "+-------+-------+\n",
      "\n",
      "================================================================================2022-05-04 20:04:08\n",
      "\n",
      " +-------+-------+\n",
      "| epoch |  loss |\n",
      "+-------+-------+\n",
      "|   64  | 0.042 |\n",
      "+-------+-------+\n",
      "\n",
      "================================================================================2022-05-04 20:04:09\n",
      "\n",
      " +-------+-------+\n",
      "| epoch |  loss |\n",
      "+-------+-------+\n",
      "|   65  | 0.042 |\n",
      "+-------+-------+\n",
      "\n",
      "================================================================================2022-05-04 20:04:09\n",
      "\n",
      " +-------+-------+\n",
      "| epoch |  loss |\n",
      "+-------+-------+\n",
      "|   66  | 0.042 |\n",
      "+-------+-------+\n",
      "\n",
      "================================================================================2022-05-04 20:04:09\n",
      "\n",
      " +-------+-------+\n",
      "| epoch |  loss |\n",
      "+-------+-------+\n",
      "|   67  | 0.042 |\n",
      "+-------+-------+\n",
      "\n",
      "================================================================================2022-05-04 20:04:10\n",
      "\n",
      " +-------+-------+\n",
      "| epoch |  loss |\n",
      "+-------+-------+\n",
      "|   68  | 0.042 |\n",
      "+-------+-------+\n",
      "\n",
      "================================================================================2022-05-04 20:04:10\n",
      "\n",
      " +-------+-------+\n",
      "| epoch |  loss |\n",
      "+-------+-------+\n",
      "|   69  | 0.042 |\n",
      "+-------+-------+\n",
      "\n",
      "================================================================================2022-05-04 20:04:11\n",
      "\n",
      " +-------+-------+\n",
      "| epoch |  loss |\n",
      "+-------+-------+\n",
      "|   70  | 0.041 |\n",
      "+-------+-------+\n",
      "\n",
      "================================================================================2022-05-04 20:04:11\n",
      "\n",
      " +-------+-------+\n",
      "| epoch |  loss |\n",
      "+-------+-------+\n",
      "|   71  | 0.042 |\n",
      "+-------+-------+\n",
      "\n",
      "================================================================================2022-05-04 20:04:12\n",
      "\n",
      " +-------+-------+\n",
      "| epoch |  loss |\n",
      "+-------+-------+\n",
      "|   72  | 0.042 |\n",
      "+-------+-------+\n",
      "\n",
      "================================================================================2022-05-04 20:04:12\n",
      "\n",
      " +-------+-------+\n",
      "| epoch |  loss |\n",
      "+-------+-------+\n",
      "|   73  | 0.041 |\n",
      "+-------+-------+\n",
      "\n",
      "================================================================================2022-05-04 20:04:13\n",
      "\n",
      " +-------+-------+\n",
      "| epoch |  loss |\n",
      "+-------+-------+\n",
      "|   74  | 0.042 |\n",
      "+-------+-------+\n",
      "\n",
      "================================================================================2022-05-04 20:04:13\n",
      "\n",
      " +-------+-------+\n",
      "| epoch |  loss |\n",
      "+-------+-------+\n",
      "|   75  | 0.042 |\n",
      "+-------+-------+\n",
      "\n",
      "================================================================================2022-05-04 20:04:13\n",
      "\n",
      " +-------+-------+\n",
      "| epoch |  loss |\n",
      "+-------+-------+\n",
      "|   76  | 0.042 |\n",
      "+-------+-------+\n",
      "\n",
      "================================================================================2022-05-04 20:04:14\n",
      "\n",
      " +-------+-------+\n",
      "| epoch |  loss |\n",
      "+-------+-------+\n",
      "|   77  | 0.042 |\n",
      "+-------+-------+\n",
      "\n",
      "================================================================================2022-05-04 20:04:14\n",
      "\n",
      " +-------+-------+\n",
      "| epoch |  loss |\n",
      "+-------+-------+\n",
      "|   78  | 0.042 |\n",
      "+-------+-------+\n",
      "\n",
      "================================================================================2022-05-04 20:04:15\n",
      "\n",
      " +-------+-------+\n",
      "| epoch |  loss |\n",
      "+-------+-------+\n",
      "|   79  | 0.042 |\n",
      "+-------+-------+\n",
      "\n",
      "================================================================================2022-05-04 20:04:15\n",
      "\n",
      " +-------+-------+\n",
      "| epoch |  loss |\n",
      "+-------+-------+\n",
      "|   80  | 0.042 |\n",
      "+-------+-------+\n",
      "\n",
      "================================================================================2022-05-04 20:04:16\n",
      "Finished Training...\n"
     ]
    }
   ],
   "source": [
    "# 定义模型: home\n",
    "class Neth(nn.Module):\n",
    "    def __init__(self):\n",
    "        super(Neth, self).__init__()\n",
    "        self.lstm = nn.LSTM(input_size = 1, hidden_size = 256, num_layers = 4, batch_first = True)\n",
    "        self.linear = nn.Linear(in_features = 256, out_features = 1)\n",
    "        \n",
    "    def forward(self, x):\n",
    "        # x is input, size (batch size, seq_len, input_size)\n",
    "        x, _ = self.lstm(x)\n",
    "        # x is output, size (batch size, seq_len, hidden_size)\n",
    "        x = x[:, -1, :]\n",
    "        x = self.linear(x)\n",
    "        x = x.view(-1, 1, 1)\n",
    "        return x\n",
    "\n",
    "# torchkeras API 训练方式\n",
    "modelh = torchkeras.Model(Neth())\n",
    "modelh.summary(input_shape = (time_step, 1))\n",
    "modelh.compile(loss_func = F.mse_loss, optimizer = torch.optim.Adam(modelh.parameters(), lr=1e-2), \n",
    "             device = device)\n",
    "data_ml_historyh = modelh.fit(epochs = 80, dl_train = dl_train_h, log_step_freq = 20)\n",
    "# early stopping"
   ]
  },
  {
   "cell_type": "code",
   "execution_count": 171,
   "id": "e124901c",
   "metadata": {},
   "outputs": [
    {
     "data": {
      "text/html": [
       "<div>\n",
       "<style scoped>\n",
       "    .dataframe tbody tr th:only-of-type {\n",
       "        vertical-align: middle;\n",
       "    }\n",
       "\n",
       "    .dataframe tbody tr th {\n",
       "        vertical-align: top;\n",
       "    }\n",
       "\n",
       "    .dataframe thead th {\n",
       "        text-align: right;\n",
       "    }\n",
       "</style>\n",
       "<table border=\"1\" class=\"dataframe\">\n",
       "  <thead>\n",
       "    <tr style=\"text-align: right;\">\n",
       "      <th></th>\n",
       "      <th>predicted</th>\n",
       "      <th>actual</th>\n",
       "    </tr>\n",
       "  </thead>\n",
       "  <tbody>\n",
       "    <tr>\n",
       "      <th>0</th>\n",
       "      <td>47.638332</td>\n",
       "      <td>24</td>\n",
       "    </tr>\n",
       "    <tr>\n",
       "      <th>1</th>\n",
       "      <td>47.638107</td>\n",
       "      <td>19</td>\n",
       "    </tr>\n",
       "    <tr>\n",
       "      <th>2</th>\n",
       "      <td>47.637201</td>\n",
       "      <td>28</td>\n",
       "    </tr>\n",
       "    <tr>\n",
       "      <th>3</th>\n",
       "      <td>47.637315</td>\n",
       "      <td>20</td>\n",
       "    </tr>\n",
       "    <tr>\n",
       "      <th>4</th>\n",
       "      <td>47.638379</td>\n",
       "      <td>11</td>\n",
       "    </tr>\n",
       "    <tr>\n",
       "      <th>5</th>\n",
       "      <td>47.638306</td>\n",
       "      <td>8</td>\n",
       "    </tr>\n",
       "    <tr>\n",
       "      <th>6</th>\n",
       "      <td>47.638186</td>\n",
       "      <td>0</td>\n",
       "    </tr>\n",
       "    <tr>\n",
       "      <th>7</th>\n",
       "      <td>47.638357</td>\n",
       "      <td>1</td>\n",
       "    </tr>\n",
       "  </tbody>\n",
       "</table>\n",
       "</div>"
      ],
      "text/plain": [
       "   predicted  actual\n",
       "0  47.638332      24\n",
       "1  47.638107      19\n",
       "2  47.637201      28\n",
       "3  47.637315      20\n",
       "4  47.638379      11\n",
       "5  47.638306       8\n",
       "6  47.638186       0\n",
       "7  47.638357       1"
      ]
     },
     "execution_count": 171,
     "metadata": {},
     "output_type": "execute_result"
    }
   ],
   "source": [
    "# 预测\n",
    "pred = 8\n",
    "test_inputs_h = data_lstm_h_train[-time_step:].tolist()\n",
    "\n",
    "for i in range(pred):\n",
    "    seq = np.array(test_inputs_h[-time_step:])\n",
    "    seq = torch.tensor(seq.reshape(-1, time_step, 1), dtype = torch.float).to(device)\n",
    "\n",
    "    with torch.no_grad():\n",
    "        modelh.hidden = (torch.zeros(1, 1, 256),\n",
    "                        torch.zeros(1, 1, 256))\n",
    "        test_inputs_h.append(modelh(seq).item())\n",
    "\n",
    "predictions_h = scalar.inverse_transform(np.array(test_inputs_h[-pred:]).reshape(-1, 1))\n",
    "\n",
    "prediction_h = pd.DataFrame(predictions_h)\n",
    "prediction_h.rename(columns = {0:'predicted'}, inplace = True)\n",
    "acl_h = data_lstm_h['order number'][-pred:]\n",
    "acl_h = acl_h.reset_index(drop = True)\n",
    "pred_comp_h = pd.concat([prediction_h, acl_h], axis = 1)\n",
    "pred_comp_h.rename(columns = {'order number':'actual'}, inplace = True)\n",
    "pred_comp_h"
   ]
  },
  {
   "cell_type": "code",
   "execution_count": 172,
   "id": "d59b7c69",
   "metadata": {},
   "outputs": [
    {
     "name": "stdout",
     "output_type": "stream",
     "text": [
      "LSTM-home: \n",
      "rmse value for total order number is:  35.15403971641487\n",
      "mae value for total order number is:  33.76302297413349\n"
     ]
    }
   ],
   "source": [
    "# total rmse & mae\n",
    "print('LSTM-home: ')\n",
    "print('rmse value for total order number is: ', \n",
    "      np.sqrt(mean_squared_error(pred_comp_h['predicted'], pred_comp_h['actual'])))\n",
    "print('mae value for total order number is: ', \n",
    "      mean_absolute_error(pred_comp_h['predicted'], pred_comp_h['actual']))"
   ]
  },
  {
   "cell_type": "code",
   "execution_count": 205,
   "id": "b114f4ca",
   "metadata": {},
   "outputs": [
    {
     "name": "stdout",
     "output_type": "stream",
     "text": [
      "----------------------------------------------------------------\n",
      "        Layer (type)               Output Shape         Param #\n",
      "================================================================\n",
      "              LSTM-1               [-1, 8, 128]         331,264\n",
      "            Linear-2                    [-1, 1]             129\n",
      "================================================================\n",
      "Total params: 331,393\n",
      "Trainable params: 331,393\n",
      "Non-trainable params: 0\n",
      "----------------------------------------------------------------\n",
      "Input size (MB): 0.000031\n",
      "Forward/backward pass size (MB): 0.007820\n",
      "Params size (MB): 1.264164\n",
      "Estimated Total Size (MB): 1.272015\n",
      "----------------------------------------------------------------\n",
      "Start Training ...\n",
      "\n",
      "================================================================================2022-05-04 20:08:55\n",
      "\n",
      " +-------+------+\n",
      "| epoch | loss |\n",
      "+-------+------+\n",
      "|   1   | 0.09 |\n",
      "+-------+------+\n",
      "\n",
      "================================================================================2022-05-04 20:08:56\n",
      "\n",
      " +-------+-------+\n",
      "| epoch |  loss |\n",
      "+-------+-------+\n",
      "|   2   | 0.025 |\n",
      "+-------+-------+\n",
      "\n",
      "================================================================================2022-05-04 20:08:56\n",
      "\n",
      " +-------+-------+\n",
      "| epoch |  loss |\n",
      "+-------+-------+\n",
      "|   3   | 0.038 |\n",
      "+-------+-------+\n",
      "\n",
      "================================================================================2022-05-04 20:08:56\n",
      "\n",
      " +-------+------+\n",
      "| epoch | loss |\n",
      "+-------+------+\n",
      "|   4   | 0.03 |\n",
      "+-------+------+\n",
      "\n",
      "================================================================================2022-05-04 20:08:56\n",
      "\n",
      " +-------+------+\n",
      "| epoch | loss |\n",
      "+-------+------+\n",
      "|   5   | 0.03 |\n",
      "+-------+------+\n",
      "\n",
      "================================================================================2022-05-04 20:08:56\n",
      "\n",
      " +-------+-------+\n",
      "| epoch |  loss |\n",
      "+-------+-------+\n",
      "|   6   | 0.029 |\n",
      "+-------+-------+\n",
      "\n",
      "================================================================================2022-05-04 20:08:56\n",
      "\n",
      " +-------+-------+\n",
      "| epoch |  loss |\n",
      "+-------+-------+\n",
      "|   7   | 0.029 |\n",
      "+-------+-------+\n",
      "\n",
      "================================================================================2022-05-04 20:08:56\n",
      "\n",
      " +-------+-------+\n",
      "| epoch |  loss |\n",
      "+-------+-------+\n",
      "|   8   | 0.029 |\n",
      "+-------+-------+\n",
      "\n",
      "================================================================================2022-05-04 20:08:57\n",
      "\n",
      " +-------+-------+\n",
      "| epoch |  loss |\n",
      "+-------+-------+\n",
      "|   9   | 0.029 |\n",
      "+-------+-------+\n",
      "\n",
      "================================================================================2022-05-04 20:08:57\n",
      "\n",
      " +-------+-------+\n",
      "| epoch |  loss |\n",
      "+-------+-------+\n",
      "|   10  | 0.029 |\n",
      "+-------+-------+\n",
      "\n",
      "================================================================================2022-05-04 20:08:57\n",
      "\n",
      " +-------+-------+\n",
      "| epoch |  loss |\n",
      "+-------+-------+\n",
      "|   11  | 0.029 |\n",
      "+-------+-------+\n",
      "\n",
      "================================================================================2022-05-04 20:08:57\n",
      "\n",
      " +-------+------+\n",
      "| epoch | loss |\n",
      "+-------+------+\n",
      "|   12  | 0.03 |\n",
      "+-------+------+\n",
      "\n",
      "================================================================================2022-05-04 20:08:57\n",
      "\n",
      " +-------+-------+\n",
      "| epoch |  loss |\n",
      "+-------+-------+\n",
      "|   13  | 0.025 |\n",
      "+-------+-------+\n",
      "\n",
      "================================================================================2022-05-04 20:08:57\n",
      "\n",
      " +-------+-------+\n",
      "| epoch |  loss |\n",
      "+-------+-------+\n",
      "|   14  | 0.036 |\n",
      "+-------+-------+\n",
      "\n",
      "================================================================================2022-05-04 20:08:57\n",
      "\n",
      " +-------+------+\n",
      "| epoch | loss |\n",
      "+-------+------+\n",
      "|   15  | 0.04 |\n",
      "+-------+------+\n",
      "\n",
      "================================================================================2022-05-04 20:08:58\n",
      "\n",
      " +-------+-------+\n",
      "| epoch |  loss |\n",
      "+-------+-------+\n",
      "|   16  | 0.032 |\n",
      "+-------+-------+\n",
      "\n",
      "================================================================================2022-05-04 20:08:58\n",
      "\n",
      " +-------+-------+\n",
      "| epoch |  loss |\n",
      "+-------+-------+\n",
      "|   17  | 0.028 |\n",
      "+-------+-------+\n",
      "\n",
      "================================================================================2022-05-04 20:08:58\n",
      "\n",
      " +-------+-------+\n",
      "| epoch |  loss |\n",
      "+-------+-------+\n",
      "|   18  | 0.028 |\n",
      "+-------+-------+\n",
      "\n",
      "================================================================================2022-05-04 20:08:58\n",
      "\n",
      " +-------+-------+\n",
      "| epoch |  loss |\n",
      "+-------+-------+\n",
      "|   19  | 0.029 |\n",
      "+-------+-------+\n",
      "\n",
      "================================================================================2022-05-04 20:08:58\n",
      "\n",
      " +-------+-------+\n",
      "| epoch |  loss |\n",
      "+-------+-------+\n",
      "|   20  | 0.026 |\n",
      "+-------+-------+\n",
      "\n",
      "================================================================================2022-05-04 20:08:58\n",
      "\n",
      " +-------+------+\n",
      "| epoch | loss |\n",
      "+-------+------+\n",
      "|   21  | 0.03 |\n",
      "+-------+------+\n",
      "\n",
      "================================================================================2022-05-04 20:08:58\n",
      "\n",
      " +-------+-------+\n",
      "| epoch |  loss |\n",
      "+-------+-------+\n",
      "|   22  | 0.026 |\n",
      "+-------+-------+\n",
      "\n",
      "================================================================================2022-05-04 20:08:59\n",
      "\n",
      " +-------+-------+\n",
      "| epoch |  loss |\n",
      "+-------+-------+\n",
      "|   23  | 0.025 |\n",
      "+-------+-------+\n",
      "\n",
      "================================================================================2022-05-04 20:08:59\n",
      "\n",
      " +-------+-------+\n",
      "| epoch |  loss |\n",
      "+-------+-------+\n",
      "|   24  | 0.027 |\n",
      "+-------+-------+\n",
      "\n",
      "================================================================================2022-05-04 20:08:59\n",
      "\n",
      " +-------+-------+\n",
      "| epoch |  loss |\n",
      "+-------+-------+\n",
      "|   25  | 0.027 |\n",
      "+-------+-------+\n",
      "\n",
      "================================================================================2022-05-04 20:08:59\n",
      "\n",
      " +-------+-------+\n",
      "| epoch |  loss |\n",
      "+-------+-------+\n",
      "|   26  | 0.023 |\n",
      "+-------+-------+\n",
      "\n",
      "================================================================================2022-05-04 20:08:59\n",
      "\n",
      " +-------+-------+\n",
      "| epoch |  loss |\n",
      "+-------+-------+\n",
      "|   27  | 0.028 |\n",
      "+-------+-------+\n",
      "\n",
      "================================================================================2022-05-04 20:08:59\n",
      "\n",
      " +-------+-------+\n",
      "| epoch |  loss |\n",
      "+-------+-------+\n",
      "|   28  | 0.024 |\n",
      "+-------+-------+\n",
      "\n",
      "================================================================================2022-05-04 20:08:59\n",
      "\n",
      " +-------+-------+\n",
      "| epoch |  loss |\n",
      "+-------+-------+\n",
      "|   29  | 0.029 |\n",
      "+-------+-------+\n",
      "\n",
      "================================================================================2022-05-04 20:08:59\n",
      "\n",
      " +-------+-------+\n",
      "| epoch |  loss |\n",
      "+-------+-------+\n",
      "|   30  | 0.025 |\n",
      "+-------+-------+\n",
      "\n",
      "================================================================================2022-05-04 20:09:00\n",
      "\n",
      " +-------+-------+\n",
      "| epoch |  loss |\n",
      "+-------+-------+\n",
      "|   31  | 0.026 |\n",
      "+-------+-------+\n",
      "\n",
      "================================================================================2022-05-04 20:09:00\n",
      "\n",
      " +-------+-------+\n",
      "| epoch |  loss |\n",
      "+-------+-------+\n",
      "|   32  | 0.027 |\n",
      "+-------+-------+\n",
      "\n",
      "================================================================================2022-05-04 20:09:00\n",
      "\n",
      " +-------+-------+\n",
      "| epoch |  loss |\n",
      "+-------+-------+\n",
      "|   33  | 0.028 |\n",
      "+-------+-------+\n",
      "\n",
      "================================================================================2022-05-04 20:09:00\n",
      "\n",
      " +-------+-------+\n",
      "| epoch |  loss |\n",
      "+-------+-------+\n",
      "|   34  | 0.021 |\n",
      "+-------+-------+\n",
      "\n",
      "================================================================================2022-05-04 20:09:00\n",
      "\n",
      " +-------+-------+\n",
      "| epoch |  loss |\n",
      "+-------+-------+\n",
      "|   35  | 0.022 |\n",
      "+-------+-------+\n",
      "\n",
      "================================================================================2022-05-04 20:09:00\n",
      "\n",
      " +-------+-------+\n",
      "| epoch |  loss |\n",
      "+-------+-------+\n",
      "|   36  | 0.019 |\n",
      "+-------+-------+\n",
      "\n",
      "================================================================================2022-05-04 20:09:00\n",
      "\n",
      " +-------+-------+\n",
      "| epoch |  loss |\n",
      "+-------+-------+\n",
      "|   37  | 0.018 |\n",
      "+-------+-------+\n",
      "\n",
      "================================================================================2022-05-04 20:09:01\n",
      "\n",
      " +-------+-------+\n",
      "| epoch |  loss |\n",
      "+-------+-------+\n",
      "|   38  | 0.023 |\n",
      "+-------+-------+\n",
      "\n",
      "================================================================================2022-05-04 20:09:01\n",
      "\n",
      " +-------+-------+\n",
      "| epoch |  loss |\n",
      "+-------+-------+\n",
      "|   39  | 0.023 |\n",
      "+-------+-------+\n",
      "\n",
      "================================================================================2022-05-04 20:09:01\n"
     ]
    },
    {
     "name": "stdout",
     "output_type": "stream",
     "text": [
      "\n",
      " +-------+-------+\n",
      "| epoch |  loss |\n",
      "+-------+-------+\n",
      "|   40  | 0.013 |\n",
      "+-------+-------+\n",
      "\n",
      "================================================================================2022-05-04 20:09:01\n",
      "\n",
      " +-------+-------+\n",
      "| epoch |  loss |\n",
      "+-------+-------+\n",
      "|   41  | 0.011 |\n",
      "+-------+-------+\n",
      "\n",
      "================================================================================2022-05-04 20:09:01\n",
      "\n",
      " +-------+------+\n",
      "| epoch | loss |\n",
      "+-------+------+\n",
      "|   42  | 0.01 |\n",
      "+-------+------+\n",
      "\n",
      "================================================================================2022-05-04 20:09:01\n",
      "\n",
      " +-------+------+\n",
      "| epoch | loss |\n",
      "+-------+------+\n",
      "|   43  | 0.01 |\n",
      "+-------+------+\n",
      "\n",
      "================================================================================2022-05-04 20:09:01\n",
      "\n",
      " +-------+-------+\n",
      "| epoch |  loss |\n",
      "+-------+-------+\n",
      "|   44  | 0.013 |\n",
      "+-------+-------+\n",
      "\n",
      "================================================================================2022-05-04 20:09:02\n",
      "\n",
      " +-------+-------+\n",
      "| epoch |  loss |\n",
      "+-------+-------+\n",
      "|   45  | 0.011 |\n",
      "+-------+-------+\n",
      "\n",
      "================================================================================2022-05-04 20:09:02\n",
      "\n",
      " +-------+------+\n",
      "| epoch | loss |\n",
      "+-------+------+\n",
      "|   46  | 0.01 |\n",
      "+-------+------+\n",
      "\n",
      "================================================================================2022-05-04 20:09:02\n",
      "\n",
      " +-------+-------+\n",
      "| epoch |  loss |\n",
      "+-------+-------+\n",
      "|   47  | 0.011 |\n",
      "+-------+-------+\n",
      "\n",
      "================================================================================2022-05-04 20:09:02\n",
      "\n",
      " +-------+-------+\n",
      "| epoch |  loss |\n",
      "+-------+-------+\n",
      "|   48  | 0.016 |\n",
      "+-------+-------+\n",
      "\n",
      "================================================================================2022-05-04 20:09:02\n",
      "\n",
      " +-------+-------+\n",
      "| epoch |  loss |\n",
      "+-------+-------+\n",
      "|   49  | 0.019 |\n",
      "+-------+-------+\n",
      "\n",
      "================================================================================2022-05-04 20:09:02\n",
      "\n",
      " +-------+-------+\n",
      "| epoch |  loss |\n",
      "+-------+-------+\n",
      "|   50  | 0.014 |\n",
      "+-------+-------+\n",
      "\n",
      "================================================================================2022-05-04 20:09:02\n",
      "Finished Training...\n"
     ]
    }
   ],
   "source": [
    "# 定义模型: kitchen\n",
    "class Netk(nn.Module):\n",
    "    def __init__(self):\n",
    "        super(Netk, self).__init__()\n",
    "        self.lstm = nn.LSTM(input_size = 1, hidden_size = 128, num_layers = 3, batch_first = True)\n",
    "        self.linear = nn.Linear(in_features = 128, out_features = 1)\n",
    "        \n",
    "    def forward(self, x):\n",
    "        # x is input, size (batch size, seq_len, input_size)\n",
    "        x, _ = self.lstm(x)\n",
    "        # x is output, size (batch size, seq_len, hidden_size)\n",
    "        x = x[:, -1, :]\n",
    "        x = self.linear(x)\n",
    "        x = x.view(-1, 1, 1)\n",
    "        return x\n",
    "\n",
    "# torchkeras API 训练方式\n",
    "modelk = torchkeras.Model(Netk())\n",
    "modelk.summary(input_shape = (time_step, 1))\n",
    "modelk.compile(loss_func = F.mse_loss, optimizer = torch.optim.Adam(modelk.parameters(), lr=1e-2), \n",
    "             device = device)\n",
    "data_ml_historyk = modelk.fit(epochs = 50, dl_train = dl_train_k, log_step_freq = 20)\n",
    "# early stopping"
   ]
  },
  {
   "cell_type": "code",
   "execution_count": 206,
   "id": "bc67045a",
   "metadata": {},
   "outputs": [
    {
     "data": {
      "text/html": [
       "<div>\n",
       "<style scoped>\n",
       "    .dataframe tbody tr th:only-of-type {\n",
       "        vertical-align: middle;\n",
       "    }\n",
       "\n",
       "    .dataframe tbody tr th {\n",
       "        vertical-align: top;\n",
       "    }\n",
       "\n",
       "    .dataframe thead th {\n",
       "        text-align: right;\n",
       "    }\n",
       "</style>\n",
       "<table border=\"1\" class=\"dataframe\">\n",
       "  <thead>\n",
       "    <tr style=\"text-align: right;\">\n",
       "      <th></th>\n",
       "      <th>predicted</th>\n",
       "      <th>actual</th>\n",
       "    </tr>\n",
       "  </thead>\n",
       "  <tbody>\n",
       "    <tr>\n",
       "      <th>0</th>\n",
       "      <td>30.258624</td>\n",
       "      <td>9</td>\n",
       "    </tr>\n",
       "    <tr>\n",
       "      <th>1</th>\n",
       "      <td>17.221184</td>\n",
       "      <td>10</td>\n",
       "    </tr>\n",
       "    <tr>\n",
       "      <th>2</th>\n",
       "      <td>27.829801</td>\n",
       "      <td>6</td>\n",
       "    </tr>\n",
       "    <tr>\n",
       "      <th>3</th>\n",
       "      <td>17.456031</td>\n",
       "      <td>8</td>\n",
       "    </tr>\n",
       "    <tr>\n",
       "      <th>4</th>\n",
       "      <td>12.972218</td>\n",
       "      <td>3</td>\n",
       "    </tr>\n",
       "    <tr>\n",
       "      <th>5</th>\n",
       "      <td>25.387025</td>\n",
       "      <td>1</td>\n",
       "    </tr>\n",
       "    <tr>\n",
       "      <th>6</th>\n",
       "      <td>28.412648</td>\n",
       "      <td>0</td>\n",
       "    </tr>\n",
       "    <tr>\n",
       "      <th>7</th>\n",
       "      <td>22.477902</td>\n",
       "      <td>0</td>\n",
       "    </tr>\n",
       "  </tbody>\n",
       "</table>\n",
       "</div>"
      ],
      "text/plain": [
       "   predicted  actual\n",
       "0  30.258624       9\n",
       "1  17.221184      10\n",
       "2  27.829801       6\n",
       "3  17.456031       8\n",
       "4  12.972218       3\n",
       "5  25.387025       1\n",
       "6  28.412648       0\n",
       "7  22.477902       0"
      ]
     },
     "execution_count": 206,
     "metadata": {},
     "output_type": "execute_result"
    }
   ],
   "source": [
    "# 预测\n",
    "pred = 8\n",
    "test_inputs_k = data_lstm_k_train[-time_step:].tolist()\n",
    "\n",
    "for i in range(pred):\n",
    "    seq = np.array(test_inputs_k[-time_step:])\n",
    "    seq = torch.tensor(seq.reshape(-1, time_step, 1), dtype = torch.float).to(device)\n",
    "\n",
    "    with torch.no_grad():\n",
    "        modelk.hidden = (torch.zeros(1, 1, 128),\n",
    "                        torch.zeros(1, 1, 128))\n",
    "        test_inputs_k.append(modelk(seq).item())\n",
    "\n",
    "predictions_k = scalar.inverse_transform(np.array(test_inputs_k[-pred:]).reshape(-1, 1))\n",
    "\n",
    "prediction_k = pd.DataFrame(predictions_k)\n",
    "prediction_k.rename(columns = {0:'predicted'}, inplace = True)\n",
    "acl_k = data_lstm_k['order number'][-pred:]\n",
    "acl_k = acl_k.reset_index(drop = True)\n",
    "pred_comp_k = pd.concat([prediction_k, acl_k], axis = 1)\n",
    "pred_comp_k.rename(columns = {'order number':'actual'}, inplace = True)\n",
    "pred_comp_k"
   ]
  },
  {
   "cell_type": "code",
   "execution_count": 207,
   "id": "3cf4b072",
   "metadata": {},
   "outputs": [
    {
     "name": "stdout",
     "output_type": "stream",
     "text": [
      "LSTM-kitchen: \n",
      "rmse value for total order number is:  19.61102400840377\n",
      "mae value for total order number is:  18.126929119229317\n"
     ]
    }
   ],
   "source": [
    "# total rmse & mae\n",
    "print('LSTM-kitchen: ')\n",
    "print('rmse value for total order number is: ', \n",
    "      np.sqrt(mean_squared_error(pred_comp_k['predicted'], pred_comp_k['actual'])))\n",
    "print('mae value for total order number is: ', \n",
    "      mean_absolute_error(pred_comp_k['predicted'], pred_comp_k['actual']))"
   ]
  },
  {
   "cell_type": "code",
   "execution_count": 249,
   "id": "6b45bac2",
   "metadata": {
    "scrolled": true
   },
   "outputs": [
    {
     "name": "stdout",
     "output_type": "stream",
     "text": [
      "----------------------------------------------------------------\n",
      "        Layer (type)               Output Shape         Param #\n",
      "================================================================\n",
      "              LSTM-1               [-1, 8, 128]         331,264\n",
      "            Linear-2                    [-1, 1]             129\n",
      "================================================================\n",
      "Total params: 331,393\n",
      "Trainable params: 331,393\n",
      "Non-trainable params: 0\n",
      "----------------------------------------------------------------\n",
      "Input size (MB): 0.000031\n",
      "Forward/backward pass size (MB): 0.007820\n",
      "Params size (MB): 1.264164\n",
      "Estimated Total Size (MB): 1.272015\n",
      "----------------------------------------------------------------\n",
      "Start Training ...\n",
      "\n",
      "================================================================================2022-05-04 20:12:33\n",
      "\n",
      " +-------+-------+\n",
      "| epoch |  loss |\n",
      "+-------+-------+\n",
      "|   1   | 0.066 |\n",
      "+-------+-------+\n",
      "\n",
      "================================================================================2022-05-04 20:12:33\n",
      "\n",
      " +-------+-------+\n",
      "| epoch |  loss |\n",
      "+-------+-------+\n",
      "|   2   | 0.057 |\n",
      "+-------+-------+\n",
      "\n",
      "================================================================================2022-05-04 20:12:33\n",
      "\n",
      " +-------+-------+\n",
      "| epoch |  loss |\n",
      "+-------+-------+\n",
      "|   3   | 0.058 |\n",
      "+-------+-------+\n",
      "\n",
      "================================================================================2022-05-04 20:12:33\n",
      "\n",
      " +-------+-------+\n",
      "| epoch |  loss |\n",
      "+-------+-------+\n",
      "|   4   | 0.033 |\n",
      "+-------+-------+\n",
      "\n",
      "================================================================================2022-05-04 20:12:34\n",
      "\n",
      " +-------+-------+\n",
      "| epoch |  loss |\n",
      "+-------+-------+\n",
      "|   5   | 0.044 |\n",
      "+-------+-------+\n",
      "\n",
      "================================================================================2022-05-04 20:12:34\n",
      "\n",
      " +-------+-------+\n",
      "| epoch |  loss |\n",
      "+-------+-------+\n",
      "|   6   | 0.035 |\n",
      "+-------+-------+\n",
      "\n",
      "================================================================================2022-05-04 20:12:34\n",
      "\n",
      " +-------+------+\n",
      "| epoch | loss |\n",
      "+-------+------+\n",
      "|   7   | 0.04 |\n",
      "+-------+------+\n",
      "\n",
      "================================================================================2022-05-04 20:12:34\n",
      "\n",
      " +-------+-------+\n",
      "| epoch |  loss |\n",
      "+-------+-------+\n",
      "|   8   | 0.036 |\n",
      "+-------+-------+\n",
      "\n",
      "================================================================================2022-05-04 20:12:34\n",
      "\n",
      " +-------+-------+\n",
      "| epoch |  loss |\n",
      "+-------+-------+\n",
      "|   9   | 0.042 |\n",
      "+-------+-------+\n",
      "\n",
      "================================================================================2022-05-04 20:12:34\n",
      "\n",
      " +-------+-------+\n",
      "| epoch |  loss |\n",
      "+-------+-------+\n",
      "|   10  | 0.033 |\n",
      "+-------+-------+\n",
      "\n",
      "================================================================================2022-05-04 20:12:34\n",
      "\n",
      " +-------+-------+\n",
      "| epoch |  loss |\n",
      "+-------+-------+\n",
      "|   11  | 0.103 |\n",
      "+-------+-------+\n",
      "\n",
      "================================================================================2022-05-04 20:12:34\n",
      "\n",
      " +-------+-------+\n",
      "| epoch |  loss |\n",
      "+-------+-------+\n",
      "|   12  | 0.044 |\n",
      "+-------+-------+\n",
      "\n",
      "================================================================================2022-05-04 20:12:35\n",
      "\n",
      " +-------+-------+\n",
      "| epoch |  loss |\n",
      "+-------+-------+\n",
      "|   13  | 0.047 |\n",
      "+-------+-------+\n",
      "\n",
      "================================================================================2022-05-04 20:12:35\n",
      "\n",
      " +-------+-------+\n",
      "| epoch |  loss |\n",
      "+-------+-------+\n",
      "|   14  | 0.043 |\n",
      "+-------+-------+\n",
      "\n",
      "================================================================================2022-05-04 20:12:35\n",
      "\n",
      " +-------+-------+\n",
      "| epoch |  loss |\n",
      "+-------+-------+\n",
      "|   15  | 0.037 |\n",
      "+-------+-------+\n",
      "\n",
      "================================================================================2022-05-04 20:12:35\n",
      "\n",
      " +-------+-------+\n",
      "| epoch |  loss |\n",
      "+-------+-------+\n",
      "|   16  | 0.039 |\n",
      "+-------+-------+\n",
      "\n",
      "================================================================================2022-05-04 20:12:35\n",
      "\n",
      " +-------+-------+\n",
      "| epoch |  loss |\n",
      "+-------+-------+\n",
      "|   17  | 0.037 |\n",
      "+-------+-------+\n",
      "\n",
      "================================================================================2022-05-04 20:12:35\n",
      "\n",
      " +-------+-------+\n",
      "| epoch |  loss |\n",
      "+-------+-------+\n",
      "|   18  | 0.038 |\n",
      "+-------+-------+\n",
      "\n",
      "================================================================================2022-05-04 20:12:35\n",
      "\n",
      " +-------+-------+\n",
      "| epoch |  loss |\n",
      "+-------+-------+\n",
      "|   19  | 0.037 |\n",
      "+-------+-------+\n",
      "\n",
      "================================================================================2022-05-04 20:12:36\n",
      "\n",
      " +-------+-------+\n",
      "| epoch |  loss |\n",
      "+-------+-------+\n",
      "|   20  | 0.037 |\n",
      "+-------+-------+\n",
      "\n",
      "================================================================================2022-05-04 20:12:36\n",
      "\n",
      " +-------+-------+\n",
      "| epoch |  loss |\n",
      "+-------+-------+\n",
      "|   21  | 0.037 |\n",
      "+-------+-------+\n",
      "\n",
      "================================================================================2022-05-04 20:12:36\n",
      "\n",
      " +-------+-------+\n",
      "| epoch |  loss |\n",
      "+-------+-------+\n",
      "|   22  | 0.037 |\n",
      "+-------+-------+\n",
      "\n",
      "================================================================================2022-05-04 20:12:36\n",
      "\n",
      " +-------+-------+\n",
      "| epoch |  loss |\n",
      "+-------+-------+\n",
      "|   23  | 0.035 |\n",
      "+-------+-------+\n",
      "\n",
      "================================================================================2022-05-04 20:12:36\n",
      "\n",
      " +-------+-------+\n",
      "| epoch |  loss |\n",
      "+-------+-------+\n",
      "|   24  | 0.031 |\n",
      "+-------+-------+\n",
      "\n",
      "================================================================================2022-05-04 20:12:36\n",
      "\n",
      " +-------+------+\n",
      "| epoch | loss |\n",
      "+-------+------+\n",
      "|   25  | 0.04 |\n",
      "+-------+------+\n",
      "\n",
      "================================================================================2022-05-04 20:12:36\n",
      "\n",
      " +-------+-------+\n",
      "| epoch |  loss |\n",
      "+-------+-------+\n",
      "|   26  | 0.033 |\n",
      "+-------+-------+\n",
      "\n",
      "================================================================================2022-05-04 20:12:37\n",
      "\n",
      " +-------+-------+\n",
      "| epoch |  loss |\n",
      "+-------+-------+\n",
      "|   27  | 0.036 |\n",
      "+-------+-------+\n",
      "\n",
      "================================================================================2022-05-04 20:12:37\n",
      "\n",
      " +-------+-------+\n",
      "| epoch |  loss |\n",
      "+-------+-------+\n",
      "|   28  | 0.035 |\n",
      "+-------+-------+\n",
      "\n",
      "================================================================================2022-05-04 20:12:37\n",
      "\n",
      " +-------+-------+\n",
      "| epoch |  loss |\n",
      "+-------+-------+\n",
      "|   29  | 0.036 |\n",
      "+-------+-------+\n",
      "\n",
      "================================================================================2022-05-04 20:12:37\n",
      "\n",
      " +-------+-------+\n",
      "| epoch |  loss |\n",
      "+-------+-------+\n",
      "|   30  | 0.032 |\n",
      "+-------+-------+\n",
      "\n",
      "================================================================================2022-05-04 20:12:37\n",
      "\n",
      " +-------+-------+\n",
      "| epoch |  loss |\n",
      "+-------+-------+\n",
      "|   31  | 0.029 |\n",
      "+-------+-------+\n",
      "\n",
      "================================================================================2022-05-04 20:12:37\n",
      "\n",
      " +-------+-------+\n",
      "| epoch |  loss |\n",
      "+-------+-------+\n",
      "|   32  | 0.026 |\n",
      "+-------+-------+\n",
      "\n",
      "================================================================================2022-05-04 20:12:37\n",
      "\n",
      " +-------+-------+\n",
      "| epoch |  loss |\n",
      "+-------+-------+\n",
      "|   33  | 0.031 |\n",
      "+-------+-------+\n",
      "\n",
      "================================================================================2022-05-04 20:12:37\n",
      "\n",
      " +-------+------+\n",
      "| epoch | loss |\n",
      "+-------+------+\n",
      "|   34  | 0.03 |\n",
      "+-------+------+\n",
      "\n",
      "================================================================================2022-05-04 20:12:38\n",
      "\n",
      " +-------+-------+\n",
      "| epoch |  loss |\n",
      "+-------+-------+\n",
      "|   35  | 0.032 |\n",
      "+-------+-------+\n",
      "\n",
      "================================================================================2022-05-04 20:12:38\n",
      "\n",
      " +-------+-------+\n",
      "| epoch |  loss |\n",
      "+-------+-------+\n",
      "|   36  | 0.032 |\n",
      "+-------+-------+\n",
      "\n",
      "================================================================================2022-05-04 20:12:38\n",
      "\n",
      " +-------+-------+\n",
      "| epoch |  loss |\n",
      "+-------+-------+\n",
      "|   37  | 0.031 |\n",
      "+-------+-------+\n",
      "\n",
      "================================================================================2022-05-04 20:12:38\n",
      "\n",
      " +-------+------+\n",
      "| epoch | loss |\n",
      "+-------+------+\n",
      "|   38  | 0.03 |\n",
      "+-------+------+\n",
      "\n",
      "================================================================================2022-05-04 20:12:38\n",
      "\n",
      " +-------+-------+\n",
      "| epoch |  loss |\n",
      "+-------+-------+\n",
      "|   39  | 0.028 |\n",
      "+-------+-------+\n",
      "\n",
      "================================================================================2022-05-04 20:12:38\n"
     ]
    },
    {
     "name": "stdout",
     "output_type": "stream",
     "text": [
      "\n",
      " +-------+-------+\n",
      "| epoch |  loss |\n",
      "+-------+-------+\n",
      "|   40  | 0.027 |\n",
      "+-------+-------+\n",
      "\n",
      "================================================================================2022-05-04 20:12:38\n",
      "Finished Training...\n"
     ]
    }
   ],
   "source": [
    "# 定义模型: home improvement\n",
    "class Nethi(nn.Module):\n",
    "    def __init__(self):\n",
    "        super(Nethi, self).__init__()\n",
    "        self.lstm = nn.LSTM(input_size = 1, hidden_size = 128, num_layers = 3, batch_first = True)\n",
    "        self.linear = nn.Linear(in_features = 128, out_features = 1)\n",
    "        \n",
    "    def forward(self, x):\n",
    "        # x is input, size (batch size, seq_len, input_size)\n",
    "        x, _ = self.lstm(x)\n",
    "        # x is output, size (batch size, seq_len, hidden_size)\n",
    "        x = x[:, -1, :]\n",
    "        x = self.linear(x)\n",
    "        x = x.view(-1, 1, 1)\n",
    "        return x\n",
    "\n",
    "# torchkeras API 训练方式\n",
    "modelhi = torchkeras.Model(Nethi())\n",
    "modelhi.summary(input_shape = (time_step, 1))\n",
    "modelhi.compile(loss_func = F.mse_loss, optimizer = torch.optim.Adam(modelhi.parameters(), lr=1e-2), \n",
    "             device = device)\n",
    "data_ml_historyhi = modelhi.fit(epochs = 40, dl_train = dl_train_hi, log_step_freq = 20)\n",
    "# early stopping"
   ]
  },
  {
   "cell_type": "code",
   "execution_count": 250,
   "id": "6219697d",
   "metadata": {},
   "outputs": [
    {
     "data": {
      "text/html": [
       "<div>\n",
       "<style scoped>\n",
       "    .dataframe tbody tr th:only-of-type {\n",
       "        vertical-align: middle;\n",
       "    }\n",
       "\n",
       "    .dataframe tbody tr th {\n",
       "        vertical-align: top;\n",
       "    }\n",
       "\n",
       "    .dataframe thead th {\n",
       "        text-align: right;\n",
       "    }\n",
       "</style>\n",
       "<table border=\"1\" class=\"dataframe\">\n",
       "  <thead>\n",
       "    <tr style=\"text-align: right;\">\n",
       "      <th></th>\n",
       "      <th>predicted</th>\n",
       "      <th>actual</th>\n",
       "    </tr>\n",
       "  </thead>\n",
       "  <tbody>\n",
       "    <tr>\n",
       "      <th>0</th>\n",
       "      <td>55.065331</td>\n",
       "      <td>14</td>\n",
       "    </tr>\n",
       "    <tr>\n",
       "      <th>1</th>\n",
       "      <td>56.872123</td>\n",
       "      <td>13</td>\n",
       "    </tr>\n",
       "    <tr>\n",
       "      <th>2</th>\n",
       "      <td>39.100479</td>\n",
       "      <td>10</td>\n",
       "    </tr>\n",
       "    <tr>\n",
       "      <th>3</th>\n",
       "      <td>52.139404</td>\n",
       "      <td>9</td>\n",
       "    </tr>\n",
       "    <tr>\n",
       "      <th>4</th>\n",
       "      <td>57.092656</td>\n",
       "      <td>5</td>\n",
       "    </tr>\n",
       "    <tr>\n",
       "      <th>5</th>\n",
       "      <td>49.041451</td>\n",
       "      <td>1</td>\n",
       "    </tr>\n",
       "    <tr>\n",
       "      <th>6</th>\n",
       "      <td>43.053760</td>\n",
       "      <td>1</td>\n",
       "    </tr>\n",
       "    <tr>\n",
       "      <th>7</th>\n",
       "      <td>44.996421</td>\n",
       "      <td>1</td>\n",
       "    </tr>\n",
       "  </tbody>\n",
       "</table>\n",
       "</div>"
      ],
      "text/plain": [
       "   predicted  actual\n",
       "0  55.065331      14\n",
       "1  56.872123      13\n",
       "2  39.100479      10\n",
       "3  52.139404       9\n",
       "4  57.092656       5\n",
       "5  49.041451       1\n",
       "6  43.053760       1\n",
       "7  44.996421       1"
      ]
     },
     "execution_count": 250,
     "metadata": {},
     "output_type": "execute_result"
    }
   ],
   "source": [
    "# 预测\n",
    "pred = 8\n",
    "test_inputs_hi = data_lstm_hi_train[-time_step:].tolist()\n",
    "\n",
    "for i in range(pred):\n",
    "    seq = np.array(test_inputs_hi[-time_step:])\n",
    "    seq = torch.tensor(seq.reshape(-1, time_step, 1), dtype = torch.float).to(device)\n",
    "\n",
    "    with torch.no_grad():\n",
    "        modelhi.hidden = (torch.zeros(1, 1, 128),\n",
    "                        torch.zeros(1, 1, 128))\n",
    "        test_inputs_hi.append(modelhi(seq).item())\n",
    "\n",
    "predictions_hi = scalar.inverse_transform(np.array(test_inputs_hi[-pred:]).reshape(-1, 1))\n",
    "\n",
    "prediction_hi = pd.DataFrame(predictions_hi)\n",
    "prediction_hi.rename(columns = {0:'predicted'}, inplace = True)\n",
    "acl_hi = data_lstm_hi['order number'][-pred:]\n",
    "acl_hi = acl_hi.reset_index(drop = True)\n",
    "pred_comp_hi = pd.concat([prediction_hi, acl_hi], axis = 1)\n",
    "pred_comp_hi.rename(columns = {'order number':'actual'}, inplace = True)\n",
    "pred_comp_hi"
   ]
  },
  {
   "cell_type": "code",
   "execution_count": 251,
   "id": "5d28677f",
   "metadata": {},
   "outputs": [
    {
     "name": "stdout",
     "output_type": "stream",
     "text": [
      "LSTM-home improvement: \n",
      "rmse value for total order number is:  43.365885470179386\n",
      "mae value for total order number is:  42.920203022658825\n"
     ]
    }
   ],
   "source": [
    "# total rmse & mae\n",
    "print('LSTM-home improvement: ')\n",
    "print('rmse value for total order number is: ', \n",
    "      np.sqrt(mean_squared_error(pred_comp_hi['predicted'], pred_comp_hi['actual'])))\n",
    "print('mae value for total order number is: ', \n",
    "      mean_absolute_error(pred_comp_hi['predicted'], pred_comp_hi['actual']))"
   ]
  },
  {
   "cell_type": "code",
   "execution_count": 276,
   "id": "9ffec93d",
   "metadata": {},
   "outputs": [
    {
     "name": "stdout",
     "output_type": "stream",
     "text": [
      "----------------------------------------------------------------\n",
      "        Layer (type)               Output Shape         Param #\n",
      "================================================================\n",
      "              LSTM-1               [-1, 8, 128]         331,264\n",
      "            Linear-2                    [-1, 1]             129\n",
      "================================================================\n",
      "Total params: 331,393\n",
      "Trainable params: 331,393\n",
      "Non-trainable params: 0\n",
      "----------------------------------------------------------------\n",
      "Input size (MB): 0.000031\n",
      "Forward/backward pass size (MB): 0.007820\n",
      "Params size (MB): 1.264164\n",
      "Estimated Total Size (MB): 1.272015\n",
      "----------------------------------------------------------------\n",
      "Start Training ...\n",
      "\n",
      "================================================================================2022-05-04 20:14:19\n",
      "\n",
      " +-------+-------+\n",
      "| epoch |  loss |\n",
      "+-------+-------+\n",
      "|   1   | 0.096 |\n",
      "+-------+-------+\n",
      "\n",
      "================================================================================2022-05-04 20:14:19\n",
      "\n",
      " +-------+-------+\n",
      "| epoch |  loss |\n",
      "+-------+-------+\n",
      "|   2   | 0.057 |\n",
      "+-------+-------+\n",
      "\n",
      "================================================================================2022-05-04 20:14:20\n",
      "\n",
      " +-------+-------+\n",
      "| epoch |  loss |\n",
      "+-------+-------+\n",
      "|   3   | 0.056 |\n",
      "+-------+-------+\n",
      "\n",
      "================================================================================2022-05-04 20:14:20\n",
      "\n",
      " +-------+-------+\n",
      "| epoch |  loss |\n",
      "+-------+-------+\n",
      "|   4   | 0.044 |\n",
      "+-------+-------+\n",
      "\n",
      "================================================================================2022-05-04 20:14:20\n",
      "\n",
      " +-------+-------+\n",
      "| epoch |  loss |\n",
      "+-------+-------+\n",
      "|   5   | 0.048 |\n",
      "+-------+-------+\n",
      "\n",
      "================================================================================2022-05-04 20:14:20\n",
      "\n",
      " +-------+-------+\n",
      "| epoch |  loss |\n",
      "+-------+-------+\n",
      "|   6   | 0.045 |\n",
      "+-------+-------+\n",
      "\n",
      "================================================================================2022-05-04 20:14:20\n",
      "\n",
      " +-------+-------+\n",
      "| epoch |  loss |\n",
      "+-------+-------+\n",
      "|   7   | 0.044 |\n",
      "+-------+-------+\n",
      "\n",
      "================================================================================2022-05-04 20:14:20\n",
      "\n",
      " +-------+-------+\n",
      "| epoch |  loss |\n",
      "+-------+-------+\n",
      "|   8   | 0.047 |\n",
      "+-------+-------+\n",
      "\n",
      "================================================================================2022-05-04 20:14:20\n",
      "\n",
      " +-------+-------+\n",
      "| epoch |  loss |\n",
      "+-------+-------+\n",
      "|   9   | 0.044 |\n",
      "+-------+-------+\n",
      "\n",
      "================================================================================2022-05-04 20:14:21\n",
      "\n",
      " +-------+-------+\n",
      "| epoch |  loss |\n",
      "+-------+-------+\n",
      "|   10  | 0.045 |\n",
      "+-------+-------+\n",
      "\n",
      "================================================================================2022-05-04 20:14:21\n",
      "\n",
      " +-------+-------+\n",
      "| epoch |  loss |\n",
      "+-------+-------+\n",
      "|   11  | 0.044 |\n",
      "+-------+-------+\n",
      "\n",
      "================================================================================2022-05-04 20:14:21\n",
      "\n",
      " +-------+-------+\n",
      "| epoch |  loss |\n",
      "+-------+-------+\n",
      "|   12  | 0.043 |\n",
      "+-------+-------+\n",
      "\n",
      "================================================================================2022-05-04 20:14:21\n",
      "\n",
      " +-------+------+\n",
      "| epoch | loss |\n",
      "+-------+------+\n",
      "|   13  | 0.04 |\n",
      "+-------+------+\n",
      "\n",
      "================================================================================2022-05-04 20:14:21\n",
      "\n",
      " +-------+-------+\n",
      "| epoch |  loss |\n",
      "+-------+-------+\n",
      "|   14  | 0.038 |\n",
      "+-------+-------+\n",
      "\n",
      "================================================================================2022-05-04 20:14:21\n",
      "\n",
      " +-------+-------+\n",
      "| epoch |  loss |\n",
      "+-------+-------+\n",
      "|   15  | 0.045 |\n",
      "+-------+-------+\n",
      "\n",
      "================================================================================2022-05-04 20:14:21\n",
      "\n",
      " +-------+-------+\n",
      "| epoch |  loss |\n",
      "+-------+-------+\n",
      "|   16  | 0.043 |\n",
      "+-------+-------+\n",
      "\n",
      "================================================================================2022-05-04 20:14:22\n",
      "\n",
      " +-------+-------+\n",
      "| epoch |  loss |\n",
      "+-------+-------+\n",
      "|   17  | 0.042 |\n",
      "+-------+-------+\n",
      "\n",
      "================================================================================2022-05-04 20:14:22\n",
      "\n",
      " +-------+------+\n",
      "| epoch | loss |\n",
      "+-------+------+\n",
      "|   18  | 0.04 |\n",
      "+-------+------+\n",
      "\n",
      "================================================================================2022-05-04 20:14:22\n",
      "\n",
      " +-------+-------+\n",
      "| epoch |  loss |\n",
      "+-------+-------+\n",
      "|   19  | 0.039 |\n",
      "+-------+-------+\n",
      "\n",
      "================================================================================2022-05-04 20:14:22\n",
      "\n",
      " +-------+-------+\n",
      "| epoch |  loss |\n",
      "+-------+-------+\n",
      "|   20  | 0.037 |\n",
      "+-------+-------+\n",
      "\n",
      "================================================================================2022-05-04 20:14:22\n",
      "\n",
      " +-------+-------+\n",
      "| epoch |  loss |\n",
      "+-------+-------+\n",
      "|   21  | 0.136 |\n",
      "+-------+-------+\n",
      "\n",
      "================================================================================2022-05-04 20:14:22\n",
      "\n",
      " +-------+-------+\n",
      "| epoch |  loss |\n",
      "+-------+-------+\n",
      "|   22  | 0.053 |\n",
      "+-------+-------+\n",
      "\n",
      "================================================================================2022-05-04 20:14:22\n",
      "\n",
      " +-------+-------+\n",
      "| epoch |  loss |\n",
      "+-------+-------+\n",
      "|   23  | 0.072 |\n",
      "+-------+-------+\n",
      "\n",
      "================================================================================2022-05-04 20:14:23\n",
      "\n",
      " +-------+-------+\n",
      "| epoch |  loss |\n",
      "+-------+-------+\n",
      "|   24  | 0.057 |\n",
      "+-------+-------+\n",
      "\n",
      "================================================================================2022-05-04 20:14:23\n",
      "\n",
      " +-------+-------+\n",
      "| epoch |  loss |\n",
      "+-------+-------+\n",
      "|   25  | 0.045 |\n",
      "+-------+-------+\n",
      "\n",
      "================================================================================2022-05-04 20:14:23\n",
      "\n",
      " +-------+-------+\n",
      "| epoch |  loss |\n",
      "+-------+-------+\n",
      "|   26  | 0.043 |\n",
      "+-------+-------+\n",
      "\n",
      "================================================================================2022-05-04 20:14:23\n",
      "\n",
      " +-------+-------+\n",
      "| epoch |  loss |\n",
      "+-------+-------+\n",
      "|   27  | 0.041 |\n",
      "+-------+-------+\n",
      "\n",
      "================================================================================2022-05-04 20:14:23\n",
      "\n",
      " +-------+-------+\n",
      "| epoch |  loss |\n",
      "+-------+-------+\n",
      "|   28  | 0.038 |\n",
      "+-------+-------+\n",
      "\n",
      "================================================================================2022-05-04 20:14:23\n",
      "\n",
      " +-------+-------+\n",
      "| epoch |  loss |\n",
      "+-------+-------+\n",
      "|   29  | 0.038 |\n",
      "+-------+-------+\n",
      "\n",
      "================================================================================2022-05-04 20:14:23\n",
      "\n",
      " +-------+-------+\n",
      "| epoch |  loss |\n",
      "+-------+-------+\n",
      "|   30  | 0.037 |\n",
      "+-------+-------+\n",
      "\n",
      "================================================================================2022-05-04 20:14:24\n",
      "\n",
      " +-------+-------+\n",
      "| epoch |  loss |\n",
      "+-------+-------+\n",
      "|   31  | 0.033 |\n",
      "+-------+-------+\n",
      "\n",
      "================================================================================2022-05-04 20:14:24\n",
      "\n",
      " +-------+-------+\n",
      "| epoch |  loss |\n",
      "+-------+-------+\n",
      "|   32  | 0.031 |\n",
      "+-------+-------+\n",
      "\n",
      "================================================================================2022-05-04 20:14:24\n",
      "\n",
      " +-------+------+\n",
      "| epoch | loss |\n",
      "+-------+------+\n",
      "|   33  | 0.04 |\n",
      "+-------+------+\n",
      "\n",
      "================================================================================2022-05-04 20:14:24\n",
      "\n",
      " +-------+-------+\n",
      "| epoch |  loss |\n",
      "+-------+-------+\n",
      "|   34  | 0.037 |\n",
      "+-------+-------+\n",
      "\n",
      "================================================================================2022-05-04 20:14:24\n",
      "\n",
      " +-------+-------+\n",
      "| epoch |  loss |\n",
      "+-------+-------+\n",
      "|   35  | 0.046 |\n",
      "+-------+-------+\n",
      "\n",
      "================================================================================2022-05-04 20:14:24\n",
      "\n",
      " +-------+-------+\n",
      "| epoch |  loss |\n",
      "+-------+-------+\n",
      "|   36  | 0.038 |\n",
      "+-------+-------+\n",
      "\n",
      "================================================================================2022-05-04 20:14:24\n",
      "\n",
      " +-------+-------+\n",
      "| epoch |  loss |\n",
      "+-------+-------+\n",
      "|   37  | 0.036 |\n",
      "+-------+-------+\n",
      "\n",
      "================================================================================2022-05-04 20:14:25\n",
      "\n",
      " +-------+-------+\n",
      "| epoch |  loss |\n",
      "+-------+-------+\n",
      "|   38  | 0.032 |\n",
      "+-------+-------+\n",
      "\n",
      "================================================================================2022-05-04 20:14:25\n",
      "\n",
      " +-------+------+\n",
      "| epoch | loss |\n",
      "+-------+------+\n",
      "|   39  | 0.03 |\n",
      "+-------+------+\n",
      "\n",
      "================================================================================2022-05-04 20:14:25\n"
     ]
    },
    {
     "name": "stdout",
     "output_type": "stream",
     "text": [
      "\n",
      " +-------+-------+\n",
      "| epoch |  loss |\n",
      "+-------+-------+\n",
      "|   40  | 0.029 |\n",
      "+-------+-------+\n",
      "\n",
      "================================================================================2022-05-04 20:14:25\n",
      "\n",
      " +-------+-------+\n",
      "| epoch |  loss |\n",
      "+-------+-------+\n",
      "|   41  | 0.028 |\n",
      "+-------+-------+\n",
      "\n",
      "================================================================================2022-05-04 20:14:25\n",
      "\n",
      " +-------+-------+\n",
      "| epoch |  loss |\n",
      "+-------+-------+\n",
      "|   42  | 0.028 |\n",
      "+-------+-------+\n",
      "\n",
      "================================================================================2022-05-04 20:14:25\n",
      "\n",
      " +-------+-------+\n",
      "| epoch |  loss |\n",
      "+-------+-------+\n",
      "|   43  | 0.028 |\n",
      "+-------+-------+\n",
      "\n",
      "================================================================================2022-05-04 20:14:25\n",
      "\n",
      " +-------+-------+\n",
      "| epoch |  loss |\n",
      "+-------+-------+\n",
      "|   44  | 0.029 |\n",
      "+-------+-------+\n",
      "\n",
      "================================================================================2022-05-04 20:14:25\n",
      "\n",
      " +-------+------+\n",
      "| epoch | loss |\n",
      "+-------+------+\n",
      "|   45  | 0.03 |\n",
      "+-------+------+\n",
      "\n",
      "================================================================================2022-05-04 20:14:26\n",
      "\n",
      " +-------+-------+\n",
      "| epoch |  loss |\n",
      "+-------+-------+\n",
      "|   46  | 0.028 |\n",
      "+-------+-------+\n",
      "\n",
      "================================================================================2022-05-04 20:14:26\n",
      "\n",
      " +-------+-------+\n",
      "| epoch |  loss |\n",
      "+-------+-------+\n",
      "|   47  | 0.026 |\n",
      "+-------+-------+\n",
      "\n",
      "================================================================================2022-05-04 20:14:26\n",
      "\n",
      " +-------+-------+\n",
      "| epoch |  loss |\n",
      "+-------+-------+\n",
      "|   48  | 0.025 |\n",
      "+-------+-------+\n",
      "\n",
      "================================================================================2022-05-04 20:14:26\n",
      "\n",
      " +-------+-------+\n",
      "| epoch |  loss |\n",
      "+-------+-------+\n",
      "|   49  | 0.027 |\n",
      "+-------+-------+\n",
      "\n",
      "================================================================================2022-05-04 20:14:26\n",
      "\n",
      " +-------+-------+\n",
      "| epoch |  loss |\n",
      "+-------+-------+\n",
      "|   50  | 0.043 |\n",
      "+-------+-------+\n",
      "\n",
      "================================================================================2022-05-04 20:14:26\n",
      "Finished Training...\n"
     ]
    }
   ],
   "source": [
    "# 定义模型: furniture\n",
    "class Netf(nn.Module):\n",
    "    def __init__(self):\n",
    "        super(Netf, self).__init__()\n",
    "        self.lstm = nn.LSTM(input_size = 1, hidden_size = 128, num_layers = 3, batch_first = True)\n",
    "        self.linear = nn.Linear(in_features = 128, out_features = 1)\n",
    "        \n",
    "    def forward(self, x):\n",
    "        # x is input, size (batch size, seq_len, input_size)\n",
    "        x, _ = self.lstm(x)\n",
    "        # x is output, size (batch size, seq_len, hidden_size)\n",
    "        x = x[:, -1, :]\n",
    "        x = self.linear(x)\n",
    "        x = x.view(-1, 1, 1)\n",
    "        return x\n",
    "\n",
    "# torchkeras API 训练方式\n",
    "modelf = torchkeras.Model(Netf())\n",
    "modelf.summary(input_shape = (time_step, 1))\n",
    "modelf.compile(loss_func = F.mse_loss, optimizer = torch.optim.Adam(modelf.parameters(), lr=1e-2), \n",
    "             device = device)\n",
    "data_ml_historyf = modelf.fit(epochs = 50, dl_train = dl_train_f, log_step_freq = 20)\n",
    "# early stopping"
   ]
  },
  {
   "cell_type": "code",
   "execution_count": 277,
   "id": "e9026241",
   "metadata": {},
   "outputs": [
    {
     "data": {
      "text/html": [
       "<div>\n",
       "<style scoped>\n",
       "    .dataframe tbody tr th:only-of-type {\n",
       "        vertical-align: middle;\n",
       "    }\n",
       "\n",
       "    .dataframe tbody tr th {\n",
       "        vertical-align: top;\n",
       "    }\n",
       "\n",
       "    .dataframe thead th {\n",
       "        text-align: right;\n",
       "    }\n",
       "</style>\n",
       "<table border=\"1\" class=\"dataframe\">\n",
       "  <thead>\n",
       "    <tr style=\"text-align: right;\">\n",
       "      <th></th>\n",
       "      <th>predicted</th>\n",
       "      <th>actual</th>\n",
       "    </tr>\n",
       "  </thead>\n",
       "  <tbody>\n",
       "    <tr>\n",
       "      <th>0</th>\n",
       "      <td>42.319117</td>\n",
       "      <td>13</td>\n",
       "    </tr>\n",
       "    <tr>\n",
       "      <th>1</th>\n",
       "      <td>46.082337</td>\n",
       "      <td>3</td>\n",
       "    </tr>\n",
       "    <tr>\n",
       "      <th>2</th>\n",
       "      <td>47.315288</td>\n",
       "      <td>4</td>\n",
       "    </tr>\n",
       "    <tr>\n",
       "      <th>3</th>\n",
       "      <td>46.909985</td>\n",
       "      <td>2</td>\n",
       "    </tr>\n",
       "    <tr>\n",
       "      <th>4</th>\n",
       "      <td>45.734327</td>\n",
       "      <td>4</td>\n",
       "    </tr>\n",
       "    <tr>\n",
       "      <th>5</th>\n",
       "      <td>42.835906</td>\n",
       "      <td>3</td>\n",
       "    </tr>\n",
       "    <tr>\n",
       "      <th>6</th>\n",
       "      <td>41.783855</td>\n",
       "      <td>0</td>\n",
       "    </tr>\n",
       "    <tr>\n",
       "      <th>7</th>\n",
       "      <td>41.485574</td>\n",
       "      <td>1</td>\n",
       "    </tr>\n",
       "  </tbody>\n",
       "</table>\n",
       "</div>"
      ],
      "text/plain": [
       "   predicted  actual\n",
       "0  42.319117      13\n",
       "1  46.082337       3\n",
       "2  47.315288       4\n",
       "3  46.909985       2\n",
       "4  45.734327       4\n",
       "5  42.835906       3\n",
       "6  41.783855       0\n",
       "7  41.485574       1"
      ]
     },
     "execution_count": 277,
     "metadata": {},
     "output_type": "execute_result"
    }
   ],
   "source": [
    "# 预测\n",
    "pred = 8\n",
    "test_inputs_f = data_lstm_f_train[-time_step:].tolist()\n",
    "\n",
    "for i in range(pred):\n",
    "    seq = np.array(test_inputs_f[-time_step:])\n",
    "    seq = torch.tensor(seq.reshape(-1, time_step, 1), dtype = torch.float).to(device)\n",
    "\n",
    "    with torch.no_grad():\n",
    "        modelf.hidden = (torch.zeros(1, 1, 128),\n",
    "                        torch.zeros(1, 1, 128))\n",
    "        test_inputs_f.append(modelf(seq).item())\n",
    "\n",
    "predictions_f = scalar.inverse_transform(np.array(test_inputs_f[-pred:]).reshape(-1, 1))\n",
    "\n",
    "prediction_f = pd.DataFrame(predictions_f)\n",
    "prediction_f.rename(columns = {0:'predicted'}, inplace = True)\n",
    "acl_f = data_lstm_f['order number'][-pred:]\n",
    "acl_f = acl_f.reset_index(drop = True)\n",
    "pred_comp_f = pd.concat([prediction_f, acl_f], axis = 1)\n",
    "pred_comp_f.rename(columns = {'order number':'actual'}, inplace = True)\n",
    "pred_comp_f"
   ]
  },
  {
   "cell_type": "code",
   "execution_count": 278,
   "id": "26e75395",
   "metadata": {},
   "outputs": [
    {
     "name": "stdout",
     "output_type": "stream",
     "text": [
      "LSTM-furniture: \n",
      "rmse value for total order number is:  40.808156407715735\n",
      "mae value for total order number is:  40.55829866975546\n"
     ]
    }
   ],
   "source": [
    "# total rmse & mae\n",
    "print('LSTM-furniture: ')\n",
    "print('rmse value for total order number is: ', \n",
    "      np.sqrt(mean_squared_error(pred_comp_f['predicted'], pred_comp_f['actual'])))\n",
    "print('mae value for total order number is: ', \n",
    "      mean_absolute_error(pred_comp_f['predicted'], pred_comp_f['actual']))"
   ]
  },
  {
   "cell_type": "code",
   "execution_count": 148,
   "id": "5f1b0e3d",
   "metadata": {},
   "outputs": [
    {
     "name": "stdout",
     "output_type": "stream",
     "text": [
      "----------------------------------------------------------------\n",
      "        Layer (type)               Output Shape         Param #\n",
      "================================================================\n",
      "              LSTM-1                [-1, 8, 64]          83,712\n",
      "            Linear-2                    [-1, 1]              65\n",
      "================================================================\n",
      "Total params: 83,777\n",
      "Trainable params: 83,777\n",
      "Non-trainable params: 0\n",
      "----------------------------------------------------------------\n",
      "Input size (MB): 0.000031\n",
      "Forward/backward pass size (MB): 0.003914\n",
      "Params size (MB): 0.319584\n",
      "Estimated Total Size (MB): 0.323528\n",
      "----------------------------------------------------------------\n",
      "Start Training ...\n",
      "\n",
      "================================================================================2022-05-04 19:54:26\n",
      "\n",
      " +-------+-------+\n",
      "| epoch |  loss |\n",
      "+-------+-------+\n",
      "|   1   | 0.032 |\n",
      "+-------+-------+\n",
      "\n",
      "================================================================================2022-05-04 19:54:26\n",
      "\n",
      " +-------+-------+\n",
      "| epoch |  loss |\n",
      "+-------+-------+\n",
      "|   2   | 0.037 |\n",
      "+-------+-------+\n",
      "\n",
      "================================================================================2022-05-04 19:54:26\n",
      "\n",
      " +-------+-------+\n",
      "| epoch |  loss |\n",
      "+-------+-------+\n",
      "|   3   | 0.032 |\n",
      "+-------+-------+\n",
      "\n",
      "================================================================================2022-05-04 19:54:26\n",
      "\n",
      " +-------+-------+\n",
      "| epoch |  loss |\n",
      "+-------+-------+\n",
      "|   4   | 0.027 |\n",
      "+-------+-------+\n",
      "\n",
      "================================================================================2022-05-04 19:54:26\n",
      "\n",
      " +-------+-------+\n",
      "| epoch |  loss |\n",
      "+-------+-------+\n",
      "|   5   | 0.028 |\n",
      "+-------+-------+\n",
      "\n",
      "================================================================================2022-05-04 19:54:26\n",
      "\n",
      " +-------+-------+\n",
      "| epoch |  loss |\n",
      "+-------+-------+\n",
      "|   6   | 0.032 |\n",
      "+-------+-------+\n",
      "\n",
      "================================================================================2022-05-04 19:54:26\n",
      "\n",
      " +-------+-------+\n",
      "| epoch |  loss |\n",
      "+-------+-------+\n",
      "|   7   | 0.023 |\n",
      "+-------+-------+\n",
      "\n",
      "================================================================================2022-05-04 19:54:26\n",
      "\n",
      " +-------+-------+\n",
      "| epoch |  loss |\n",
      "+-------+-------+\n",
      "|   8   | 0.028 |\n",
      "+-------+-------+\n",
      "\n",
      "================================================================================2022-05-04 19:54:26\n",
      "\n",
      " +-------+-------+\n",
      "| epoch |  loss |\n",
      "+-------+-------+\n",
      "|   9   | 0.033 |\n",
      "+-------+-------+\n",
      "\n",
      "================================================================================2022-05-04 19:54:26\n",
      "\n",
      " +-------+-------+\n",
      "| epoch |  loss |\n",
      "+-------+-------+\n",
      "|   10  | 0.022 |\n",
      "+-------+-------+\n",
      "\n",
      "================================================================================2022-05-04 19:54:27\n",
      "\n",
      " +-------+-------+\n",
      "| epoch |  loss |\n",
      "+-------+-------+\n",
      "|   11  | 0.029 |\n",
      "+-------+-------+\n",
      "\n",
      "================================================================================2022-05-04 19:54:27\n",
      "\n",
      " +-------+-------+\n",
      "| epoch |  loss |\n",
      "+-------+-------+\n",
      "|   12  | 0.024 |\n",
      "+-------+-------+\n",
      "\n",
      "================================================================================2022-05-04 19:54:27\n",
      "\n",
      " +-------+-------+\n",
      "| epoch |  loss |\n",
      "+-------+-------+\n",
      "|   13  | 0.025 |\n",
      "+-------+-------+\n",
      "\n",
      "================================================================================2022-05-04 19:54:27\n",
      "\n",
      " +-------+-------+\n",
      "| epoch |  loss |\n",
      "+-------+-------+\n",
      "|   14  | 0.023 |\n",
      "+-------+-------+\n",
      "\n",
      "================================================================================2022-05-04 19:54:27\n",
      "\n",
      " +-------+-------+\n",
      "| epoch |  loss |\n",
      "+-------+-------+\n",
      "|   15  | 0.026 |\n",
      "+-------+-------+\n",
      "\n",
      "================================================================================2022-05-04 19:54:27\n",
      "\n",
      " +-------+-------+\n",
      "| epoch |  loss |\n",
      "+-------+-------+\n",
      "|   16  | 0.024 |\n",
      "+-------+-------+\n",
      "\n",
      "================================================================================2022-05-04 19:54:27\n",
      "\n",
      " +-------+-------+\n",
      "| epoch |  loss |\n",
      "+-------+-------+\n",
      "|   17  | 0.026 |\n",
      "+-------+-------+\n",
      "\n",
      "================================================================================2022-05-04 19:54:27\n",
      "\n",
      " +-------+-------+\n",
      "| epoch |  loss |\n",
      "+-------+-------+\n",
      "|   18  | 0.024 |\n",
      "+-------+-------+\n",
      "\n",
      "================================================================================2022-05-04 19:54:27\n",
      "\n",
      " +-------+-------+\n",
      "| epoch |  loss |\n",
      "+-------+-------+\n",
      "|   19  | 0.029 |\n",
      "+-------+-------+\n",
      "\n",
      "================================================================================2022-05-04 19:54:27\n",
      "\n",
      " +-------+-------+\n",
      "| epoch |  loss |\n",
      "+-------+-------+\n",
      "|   20  | 0.022 |\n",
      "+-------+-------+\n",
      "\n",
      "================================================================================2022-05-04 19:54:27\n",
      "\n",
      " +-------+-------+\n",
      "| epoch |  loss |\n",
      "+-------+-------+\n",
      "|   21  | 0.022 |\n",
      "+-------+-------+\n",
      "\n",
      "================================================================================2022-05-04 19:54:27\n",
      "\n",
      " +-------+-------+\n",
      "| epoch |  loss |\n",
      "+-------+-------+\n",
      "|   22  | 0.029 |\n",
      "+-------+-------+\n",
      "\n",
      "================================================================================2022-05-04 19:54:27\n",
      "\n",
      " +-------+------+\n",
      "| epoch | loss |\n",
      "+-------+------+\n",
      "|   23  | 0.02 |\n",
      "+-------+------+\n",
      "\n",
      "================================================================================2022-05-04 19:54:27\n",
      "\n",
      " +-------+-------+\n",
      "| epoch |  loss |\n",
      "+-------+-------+\n",
      "|   24  | 0.021 |\n",
      "+-------+-------+\n",
      "\n",
      "================================================================================2022-05-04 19:54:27\n",
      "\n",
      " +-------+------+\n",
      "| epoch | loss |\n",
      "+-------+------+\n",
      "|   25  | 0.02 |\n",
      "+-------+------+\n",
      "\n",
      "================================================================================2022-05-04 19:54:28\n",
      "\n",
      " +-------+-------+\n",
      "| epoch |  loss |\n",
      "+-------+-------+\n",
      "|   26  | 0.017 |\n",
      "+-------+-------+\n",
      "\n",
      "================================================================================2022-05-04 19:54:28\n",
      "\n",
      " +-------+-------+\n",
      "| epoch |  loss |\n",
      "+-------+-------+\n",
      "|   27  | 0.019 |\n",
      "+-------+-------+\n",
      "\n",
      "================================================================================2022-05-04 19:54:28\n",
      "\n",
      " +-------+-------+\n",
      "| epoch |  loss |\n",
      "+-------+-------+\n",
      "|   28  | 0.019 |\n",
      "+-------+-------+\n",
      "\n",
      "================================================================================2022-05-04 19:54:28\n",
      "\n",
      " +-------+-------+\n",
      "| epoch |  loss |\n",
      "+-------+-------+\n",
      "|   29  | 0.022 |\n",
      "+-------+-------+\n",
      "\n",
      "================================================================================2022-05-04 19:54:28\n",
      "\n",
      " +-------+-------+\n",
      "| epoch |  loss |\n",
      "+-------+-------+\n",
      "|   30  | 0.021 |\n",
      "+-------+-------+\n",
      "\n",
      "================================================================================2022-05-04 19:54:28\n",
      "\n",
      " +-------+------+\n",
      "| epoch | loss |\n",
      "+-------+------+\n",
      "|   31  | 0.02 |\n",
      "+-------+------+\n",
      "\n",
      "================================================================================2022-05-04 19:54:28\n",
      "\n",
      " +-------+-------+\n",
      "| epoch |  loss |\n",
      "+-------+-------+\n",
      "|   32  | 0.021 |\n",
      "+-------+-------+\n",
      "\n",
      "================================================================================2022-05-04 19:54:28\n",
      "\n",
      " +-------+-------+\n",
      "| epoch |  loss |\n",
      "+-------+-------+\n",
      "|   33  | 0.019 |\n",
      "+-------+-------+\n",
      "\n",
      "================================================================================2022-05-04 19:54:28\n",
      "\n",
      " +-------+-------+\n",
      "| epoch |  loss |\n",
      "+-------+-------+\n",
      "|   34  | 0.017 |\n",
      "+-------+-------+\n",
      "\n",
      "================================================================================2022-05-04 19:54:28\n",
      "\n",
      " +-------+-------+\n",
      "| epoch |  loss |\n",
      "+-------+-------+\n",
      "|   35  | 0.019 |\n",
      "+-------+-------+\n",
      "\n",
      "================================================================================2022-05-04 19:54:28\n",
      "\n",
      " +-------+-------+\n",
      "| epoch |  loss |\n",
      "+-------+-------+\n",
      "|   36  | 0.018 |\n",
      "+-------+-------+\n",
      "\n",
      "================================================================================2022-05-04 19:54:28\n",
      "\n",
      " +-------+-------+\n",
      "| epoch |  loss |\n",
      "+-------+-------+\n",
      "|   37  | 0.019 |\n",
      "+-------+-------+\n",
      "\n",
      "================================================================================2022-05-04 19:54:28\n",
      "\n",
      " +-------+-------+\n",
      "| epoch |  loss |\n",
      "+-------+-------+\n",
      "|   38  | 0.019 |\n",
      "+-------+-------+\n",
      "\n",
      "================================================================================2022-05-04 19:54:28\n",
      "\n",
      " +-------+-------+\n",
      "| epoch |  loss |\n",
      "+-------+-------+\n",
      "|   39  | 0.019 |\n",
      "+-------+-------+\n",
      "\n",
      "================================================================================2022-05-04 19:54:28\n",
      "\n",
      " +-------+-------+\n",
      "| epoch |  loss |\n",
      "+-------+-------+\n",
      "|   40  | 0.018 |\n",
      "+-------+-------+\n",
      "\n",
      "================================================================================2022-05-04 19:54:28\n"
     ]
    },
    {
     "name": "stdout",
     "output_type": "stream",
     "text": [
      "\n",
      " +-------+-------+\n",
      "| epoch |  loss |\n",
      "+-------+-------+\n",
      "|   41  | 0.018 |\n",
      "+-------+-------+\n",
      "\n",
      "================================================================================2022-05-04 19:54:29\n",
      "\n",
      " +-------+-------+\n",
      "| epoch |  loss |\n",
      "+-------+-------+\n",
      "|   42  | 0.018 |\n",
      "+-------+-------+\n",
      "\n",
      "================================================================================2022-05-04 19:54:29\n",
      "\n",
      " +-------+-------+\n",
      "| epoch |  loss |\n",
      "+-------+-------+\n",
      "|   43  | 0.018 |\n",
      "+-------+-------+\n",
      "\n",
      "================================================================================2022-05-04 19:54:29\n",
      "\n",
      " +-------+-------+\n",
      "| epoch |  loss |\n",
      "+-------+-------+\n",
      "|   44  | 0.018 |\n",
      "+-------+-------+\n",
      "\n",
      "================================================================================2022-05-04 19:54:29\n",
      "\n",
      " +-------+-------+\n",
      "| epoch |  loss |\n",
      "+-------+-------+\n",
      "|   45  | 0.018 |\n",
      "+-------+-------+\n",
      "\n",
      "================================================================================2022-05-04 19:54:29\n",
      "\n",
      " +-------+-------+\n",
      "| epoch |  loss |\n",
      "+-------+-------+\n",
      "|   46  | 0.017 |\n",
      "+-------+-------+\n",
      "\n",
      "================================================================================2022-05-04 19:54:29\n",
      "\n",
      " +-------+-------+\n",
      "| epoch |  loss |\n",
      "+-------+-------+\n",
      "|   47  | 0.017 |\n",
      "+-------+-------+\n",
      "\n",
      "================================================================================2022-05-04 19:54:29\n",
      "\n",
      " +-------+-------+\n",
      "| epoch |  loss |\n",
      "+-------+-------+\n",
      "|   48  | 0.017 |\n",
      "+-------+-------+\n",
      "\n",
      "================================================================================2022-05-04 19:54:29\n",
      "\n",
      " +-------+-------+\n",
      "| epoch |  loss |\n",
      "+-------+-------+\n",
      "|   49  | 0.017 |\n",
      "+-------+-------+\n",
      "\n",
      "================================================================================2022-05-04 19:54:29\n",
      "\n",
      " +-------+-------+\n",
      "| epoch |  loss |\n",
      "+-------+-------+\n",
      "|   50  | 0.017 |\n",
      "+-------+-------+\n",
      "\n",
      "================================================================================2022-05-04 19:54:29\n",
      "\n",
      " +-------+-------+\n",
      "| epoch |  loss |\n",
      "+-------+-------+\n",
      "|   51  | 0.017 |\n",
      "+-------+-------+\n",
      "\n",
      "================================================================================2022-05-04 19:54:29\n",
      "\n",
      " +-------+-------+\n",
      "| epoch |  loss |\n",
      "+-------+-------+\n",
      "|   52  | 0.017 |\n",
      "+-------+-------+\n",
      "\n",
      "================================================================================2022-05-04 19:54:29\n",
      "\n",
      " +-------+-------+\n",
      "| epoch |  loss |\n",
      "+-------+-------+\n",
      "|   53  | 0.017 |\n",
      "+-------+-------+\n",
      "\n",
      "================================================================================2022-05-04 19:54:29\n",
      "\n",
      " +-------+-------+\n",
      "| epoch |  loss |\n",
      "+-------+-------+\n",
      "|   54  | 0.017 |\n",
      "+-------+-------+\n",
      "\n",
      "================================================================================2022-05-04 19:54:29\n",
      "\n",
      " +-------+-------+\n",
      "| epoch |  loss |\n",
      "+-------+-------+\n",
      "|   55  | 0.016 |\n",
      "+-------+-------+\n",
      "\n",
      "================================================================================2022-05-04 19:54:29\n",
      "\n",
      " +-------+-------+\n",
      "| epoch |  loss |\n",
      "+-------+-------+\n",
      "|   56  | 0.017 |\n",
      "+-------+-------+\n",
      "\n",
      "================================================================================2022-05-04 19:54:30\n",
      "\n",
      " +-------+-------+\n",
      "| epoch |  loss |\n",
      "+-------+-------+\n",
      "|   57  | 0.016 |\n",
      "+-------+-------+\n",
      "\n",
      "================================================================================2022-05-04 19:54:30\n",
      "\n",
      " +-------+-------+\n",
      "| epoch |  loss |\n",
      "+-------+-------+\n",
      "|   58  | 0.017 |\n",
      "+-------+-------+\n",
      "\n",
      "================================================================================2022-05-04 19:54:30\n",
      "\n",
      " +-------+-------+\n",
      "| epoch |  loss |\n",
      "+-------+-------+\n",
      "|   59  | 0.017 |\n",
      "+-------+-------+\n",
      "\n",
      "================================================================================2022-05-04 19:54:30\n",
      "\n",
      " +-------+-------+\n",
      "| epoch |  loss |\n",
      "+-------+-------+\n",
      "|   60  | 0.018 |\n",
      "+-------+-------+\n",
      "\n",
      "================================================================================2022-05-04 19:54:30\n",
      "\n",
      " +-------+-------+\n",
      "| epoch |  loss |\n",
      "+-------+-------+\n",
      "|   61  | 0.018 |\n",
      "+-------+-------+\n",
      "\n",
      "================================================================================2022-05-04 19:54:30\n",
      "\n",
      " +-------+-------+\n",
      "| epoch |  loss |\n",
      "+-------+-------+\n",
      "|   62  | 0.017 |\n",
      "+-------+-------+\n",
      "\n",
      "================================================================================2022-05-04 19:54:30\n",
      "\n",
      " +-------+-------+\n",
      "| epoch |  loss |\n",
      "+-------+-------+\n",
      "|   63  | 0.016 |\n",
      "+-------+-------+\n",
      "\n",
      "================================================================================2022-05-04 19:54:30\n",
      "\n",
      " +-------+-------+\n",
      "| epoch |  loss |\n",
      "+-------+-------+\n",
      "|   64  | 0.016 |\n",
      "+-------+-------+\n",
      "\n",
      "================================================================================2022-05-04 19:54:30\n",
      "\n",
      " +-------+-------+\n",
      "| epoch |  loss |\n",
      "+-------+-------+\n",
      "|   65  | 0.016 |\n",
      "+-------+-------+\n",
      "\n",
      "================================================================================2022-05-04 19:54:30\n",
      "\n",
      " +-------+-------+\n",
      "| epoch |  loss |\n",
      "+-------+-------+\n",
      "|   66  | 0.015 |\n",
      "+-------+-------+\n",
      "\n",
      "================================================================================2022-05-04 19:54:30\n",
      "\n",
      " +-------+-------+\n",
      "| epoch |  loss |\n",
      "+-------+-------+\n",
      "|   67  | 0.016 |\n",
      "+-------+-------+\n",
      "\n",
      "================================================================================2022-05-04 19:54:30\n",
      "\n",
      " +-------+-------+\n",
      "| epoch |  loss |\n",
      "+-------+-------+\n",
      "|   68  | 0.016 |\n",
      "+-------+-------+\n",
      "\n",
      "================================================================================2022-05-04 19:54:30\n",
      "\n",
      " +-------+-------+\n",
      "| epoch |  loss |\n",
      "+-------+-------+\n",
      "|   69  | 0.015 |\n",
      "+-------+-------+\n",
      "\n",
      "================================================================================2022-05-04 19:54:30\n",
      "\n",
      " +-------+-------+\n",
      "| epoch |  loss |\n",
      "+-------+-------+\n",
      "|   70  | 0.015 |\n",
      "+-------+-------+\n",
      "\n",
      "================================================================================2022-05-04 19:54:30\n",
      "\n",
      " +-------+-------+\n",
      "| epoch |  loss |\n",
      "+-------+-------+\n",
      "|   71  | 0.015 |\n",
      "+-------+-------+\n",
      "\n",
      "================================================================================2022-05-04 19:54:30\n",
      "\n",
      " +-------+-------+\n",
      "| epoch |  loss |\n",
      "+-------+-------+\n",
      "|   72  | 0.014 |\n",
      "+-------+-------+\n",
      "\n",
      "================================================================================2022-05-04 19:54:31\n",
      "\n",
      " +-------+-------+\n",
      "| epoch |  loss |\n",
      "+-------+-------+\n",
      "|   73  | 0.015 |\n",
      "+-------+-------+\n",
      "\n",
      "================================================================================2022-05-04 19:54:31\n",
      "\n",
      " +-------+-------+\n",
      "| epoch |  loss |\n",
      "+-------+-------+\n",
      "|   74  | 0.017 |\n",
      "+-------+-------+\n",
      "\n",
      "================================================================================2022-05-04 19:54:31\n",
      "\n",
      " +-------+-------+\n",
      "| epoch |  loss |\n",
      "+-------+-------+\n",
      "|   75  | 0.014 |\n",
      "+-------+-------+\n",
      "\n",
      "================================================================================2022-05-04 19:54:31\n",
      "\n",
      " +-------+-------+\n",
      "| epoch |  loss |\n",
      "+-------+-------+\n",
      "|   76  | 0.015 |\n",
      "+-------+-------+\n",
      "\n",
      "================================================================================2022-05-04 19:54:31\n",
      "\n",
      " +-------+-------+\n",
      "| epoch |  loss |\n",
      "+-------+-------+\n",
      "|   77  | 0.016 |\n",
      "+-------+-------+\n",
      "\n",
      "================================================================================2022-05-04 19:54:31\n",
      "\n",
      " +-------+-------+\n",
      "| epoch |  loss |\n",
      "+-------+-------+\n",
      "|   78  | 0.014 |\n",
      "+-------+-------+\n",
      "\n",
      "================================================================================2022-05-04 19:54:31\n",
      "\n",
      " +-------+-------+\n",
      "| epoch |  loss |\n",
      "+-------+-------+\n",
      "|   79  | 0.016 |\n",
      "+-------+-------+\n",
      "\n",
      "================================================================================2022-05-04 19:54:31\n",
      "\n",
      " +-------+-------+\n",
      "| epoch |  loss |\n",
      "+-------+-------+\n",
      "|   80  | 0.017 |\n",
      "+-------+-------+\n",
      "\n",
      "================================================================================2022-05-04 19:54:31\n",
      "\n",
      " +-------+-------+\n",
      "| epoch |  loss |\n",
      "+-------+-------+\n",
      "|   81  | 0.014 |\n",
      "+-------+-------+\n",
      "\n",
      "================================================================================2022-05-04 19:54:31\n",
      "\n",
      " +-------+-------+\n",
      "| epoch |  loss |\n",
      "+-------+-------+\n",
      "|   82  | 0.014 |\n",
      "+-------+-------+\n",
      "\n",
      "================================================================================2022-05-04 19:54:31\n",
      "\n",
      " +-------+-------+\n",
      "| epoch |  loss |\n",
      "+-------+-------+\n",
      "|   83  | 0.014 |\n",
      "+-------+-------+\n",
      "\n",
      "================================================================================2022-05-04 19:54:31\n",
      "\n",
      " +-------+-------+\n",
      "| epoch |  loss |\n",
      "+-------+-------+\n",
      "|   84  | 0.013 |\n",
      "+-------+-------+\n",
      "\n",
      "================================================================================2022-05-04 19:54:31\n"
     ]
    },
    {
     "name": "stdout",
     "output_type": "stream",
     "text": [
      "\n",
      " +-------+-------+\n",
      "| epoch |  loss |\n",
      "+-------+-------+\n",
      "|   85  | 0.014 |\n",
      "+-------+-------+\n",
      "\n",
      "================================================================================2022-05-04 19:54:31\n",
      "\n",
      " +-------+-------+\n",
      "| epoch |  loss |\n",
      "+-------+-------+\n",
      "|   86  | 0.015 |\n",
      "+-------+-------+\n",
      "\n",
      "================================================================================2022-05-04 19:54:31\n",
      "\n",
      " +-------+-------+\n",
      "| epoch |  loss |\n",
      "+-------+-------+\n",
      "|   87  | 0.015 |\n",
      "+-------+-------+\n",
      "\n",
      "================================================================================2022-05-04 19:54:31\n",
      "\n",
      " +-------+-------+\n",
      "| epoch |  loss |\n",
      "+-------+-------+\n",
      "|   88  | 0.014 |\n",
      "+-------+-------+\n",
      "\n",
      "================================================================================2022-05-04 19:54:32\n",
      "\n",
      " +-------+-------+\n",
      "| epoch |  loss |\n",
      "+-------+-------+\n",
      "|   89  | 0.014 |\n",
      "+-------+-------+\n",
      "\n",
      "================================================================================2022-05-04 19:54:32\n",
      "\n",
      " +-------+-------+\n",
      "| epoch |  loss |\n",
      "+-------+-------+\n",
      "|   90  | 0.013 |\n",
      "+-------+-------+\n",
      "\n",
      "================================================================================2022-05-04 19:54:32\n",
      "\n",
      " +-------+-------+\n",
      "| epoch |  loss |\n",
      "+-------+-------+\n",
      "|   91  | 0.013 |\n",
      "+-------+-------+\n",
      "\n",
      "================================================================================2022-05-04 19:54:32\n",
      "\n",
      " +-------+-------+\n",
      "| epoch |  loss |\n",
      "+-------+-------+\n",
      "|   92  | 0.013 |\n",
      "+-------+-------+\n",
      "\n",
      "================================================================================2022-05-04 19:54:32\n",
      "\n",
      " +-------+-------+\n",
      "| epoch |  loss |\n",
      "+-------+-------+\n",
      "|   93  | 0.012 |\n",
      "+-------+-------+\n",
      "\n",
      "================================================================================2022-05-04 19:54:32\n",
      "\n",
      " +-------+-------+\n",
      "| epoch |  loss |\n",
      "+-------+-------+\n",
      "|   94  | 0.013 |\n",
      "+-------+-------+\n",
      "\n",
      "================================================================================2022-05-04 19:54:32\n",
      "\n",
      " +-------+-------+\n",
      "| epoch |  loss |\n",
      "+-------+-------+\n",
      "|   95  | 0.011 |\n",
      "+-------+-------+\n",
      "\n",
      "================================================================================2022-05-04 19:54:32\n",
      "\n",
      " +-------+-------+\n",
      "| epoch |  loss |\n",
      "+-------+-------+\n",
      "|   96  | 0.013 |\n",
      "+-------+-------+\n",
      "\n",
      "================================================================================2022-05-04 19:54:32\n",
      "\n",
      " +-------+-------+\n",
      "| epoch |  loss |\n",
      "+-------+-------+\n",
      "|   97  | 0.011 |\n",
      "+-------+-------+\n",
      "\n",
      "================================================================================2022-05-04 19:54:32\n",
      "\n",
      " +-------+-------+\n",
      "| epoch |  loss |\n",
      "+-------+-------+\n",
      "|   98  | 0.014 |\n",
      "+-------+-------+\n",
      "\n",
      "================================================================================2022-05-04 19:54:32\n",
      "\n",
      " +-------+-------+\n",
      "| epoch |  loss |\n",
      "+-------+-------+\n",
      "|   99  | 0.013 |\n",
      "+-------+-------+\n",
      "\n",
      "================================================================================2022-05-04 19:54:32\n",
      "\n",
      " +-------+------+\n",
      "| epoch | loss |\n",
      "+-------+------+\n",
      "|  100  | 0.01 |\n",
      "+-------+------+\n",
      "\n",
      "================================================================================2022-05-04 19:54:32\n",
      "Finished Training...\n"
     ]
    }
   ],
   "source": [
    "# 定义模型: others\n",
    "class Neto(nn.Module):\n",
    "    def __init__(self):\n",
    "        super(Neto, self).__init__()\n",
    "        self.lstm = nn.LSTM(input_size = 1, hidden_size = 64, num_layers = 3, batch_first = True)\n",
    "        self.linear = nn.Linear(in_features = 64, out_features = 1)\n",
    "        \n",
    "    def forward(self, x):\n",
    "        # x is input, size (batch size, seq_len, input_size)\n",
    "        x, _ = self.lstm(x)\n",
    "        # x is output, size (batch size, seq_len, hidden_size)\n",
    "        x = x[:, -1, :]\n",
    "        x = self.linear(x)\n",
    "        x = x.view(-1, 1, 1)\n",
    "        return x\n",
    "\n",
    "# torchkeras API 训练方式\n",
    "modelo = torchkeras.Model(Neto())\n",
    "modelo.summary(input_shape = (time_step, 1))\n",
    "modelo.compile(loss_func = F.mse_loss, optimizer = torch.optim.Adam(modelo.parameters(), lr=1e-2), \n",
    "             device = device)\n",
    "data_ml_historyo = modelo.fit(epochs = 100, dl_train = dl_train_o, log_step_freq = 20)\n",
    "# early stopping"
   ]
  },
  {
   "cell_type": "code",
   "execution_count": 149,
   "id": "34df1f21",
   "metadata": {},
   "outputs": [
    {
     "data": {
      "text/html": [
       "<div>\n",
       "<style scoped>\n",
       "    .dataframe tbody tr th:only-of-type {\n",
       "        vertical-align: middle;\n",
       "    }\n",
       "\n",
       "    .dataframe tbody tr th {\n",
       "        vertical-align: top;\n",
       "    }\n",
       "\n",
       "    .dataframe thead th {\n",
       "        text-align: right;\n",
       "    }\n",
       "</style>\n",
       "<table border=\"1\" class=\"dataframe\">\n",
       "  <thead>\n",
       "    <tr style=\"text-align: right;\">\n",
       "      <th></th>\n",
       "      <th>predicted</th>\n",
       "      <th>actual</th>\n",
       "    </tr>\n",
       "  </thead>\n",
       "  <tbody>\n",
       "    <tr>\n",
       "      <th>0</th>\n",
       "      <td>66.837991</td>\n",
       "      <td>63</td>\n",
       "    </tr>\n",
       "    <tr>\n",
       "      <th>1</th>\n",
       "      <td>27.224479</td>\n",
       "      <td>64</td>\n",
       "    </tr>\n",
       "    <tr>\n",
       "      <th>2</th>\n",
       "      <td>35.562448</td>\n",
       "      <td>51</td>\n",
       "    </tr>\n",
       "    <tr>\n",
       "      <th>3</th>\n",
       "      <td>49.182502</td>\n",
       "      <td>42</td>\n",
       "    </tr>\n",
       "    <tr>\n",
       "      <th>4</th>\n",
       "      <td>26.709853</td>\n",
       "      <td>28</td>\n",
       "    </tr>\n",
       "    <tr>\n",
       "      <th>5</th>\n",
       "      <td>37.101845</td>\n",
       "      <td>20</td>\n",
       "    </tr>\n",
       "    <tr>\n",
       "      <th>6</th>\n",
       "      <td>36.453745</td>\n",
       "      <td>9</td>\n",
       "    </tr>\n",
       "    <tr>\n",
       "      <th>7</th>\n",
       "      <td>43.965413</td>\n",
       "      <td>8</td>\n",
       "    </tr>\n",
       "  </tbody>\n",
       "</table>\n",
       "</div>"
      ],
      "text/plain": [
       "   predicted  actual\n",
       "0  66.837991      63\n",
       "1  27.224479      64\n",
       "2  35.562448      51\n",
       "3  49.182502      42\n",
       "4  26.709853      28\n",
       "5  37.101845      20\n",
       "6  36.453745       9\n",
       "7  43.965413       8"
      ]
     },
     "execution_count": 149,
     "metadata": {},
     "output_type": "execute_result"
    }
   ],
   "source": [
    "# 预测\n",
    "pred = 8\n",
    "test_inputs_o = data_lstm_o_train[-time_step:].tolist()\n",
    "\n",
    "for i in range(pred):\n",
    "    seq = np.array(test_inputs_o[-time_step:])\n",
    "    seq = torch.tensor(seq.reshape(-1, time_step, 1), dtype = torch.float).to(device)\n",
    "\n",
    "    with torch.no_grad():\n",
    "        modelo.hidden = (torch.zeros(1, 1, 64),\n",
    "                        torch.zeros(1, 1, 64))\n",
    "        test_inputs_o.append(modelo(seq).item())\n",
    "\n",
    "predictions_o = scalar.inverse_transform(np.array(test_inputs_o[-pred:]).reshape(-1, 1))\n",
    "\n",
    "prediction_o = pd.DataFrame(predictions_o)\n",
    "prediction_o.rename(columns = {0:'predicted'}, inplace = True)\n",
    "acl_o = data_lstm_o['order number'][-pred:]\n",
    "acl_o = acl_o.reset_index(drop = True)\n",
    "pred_comp_o = pd.concat([prediction_o, acl_o], axis = 1)\n",
    "pred_comp_o.rename(columns = {'order number':'actual'}, inplace = True)\n",
    "pred_comp_o"
   ]
  },
  {
   "cell_type": "code",
   "execution_count": 150,
   "id": "d31f4306",
   "metadata": {},
   "outputs": [
    {
     "name": "stdout",
     "output_type": "stream",
     "text": [
      "LSTM-others: \n",
      "rmse value for total order number is:  22.356296837334277\n",
      "mae value for total order number is:  18.13058940693736\n"
     ]
    }
   ],
   "source": [
    "# total rmse & mae\n",
    "print('LSTM-others: ')\n",
    "print('rmse value for total order number is: ', \n",
    "      np.sqrt(mean_squared_error(pred_comp_o['predicted'], pred_comp_o['actual'])))\n",
    "print('mae value for total order number is: ', \n",
    "      mean_absolute_error(pred_comp_o['predicted'], pred_comp_o['actual']))"
   ]
  },
  {
   "cell_type": "code",
   "execution_count": 279,
   "id": "180c6842",
   "metadata": {},
   "outputs": [
    {
     "data": {
      "text/html": [
       "<div>\n",
       "<style scoped>\n",
       "    .dataframe tbody tr th:only-of-type {\n",
       "        vertical-align: middle;\n",
       "    }\n",
       "\n",
       "    .dataframe tbody tr th {\n",
       "        vertical-align: top;\n",
       "    }\n",
       "\n",
       "    .dataframe thead th {\n",
       "        text-align: right;\n",
       "    }\n",
       "</style>\n",
       "<table border=\"1\" class=\"dataframe\">\n",
       "  <thead>\n",
       "    <tr style=\"text-align: right;\">\n",
       "      <th></th>\n",
       "      <th>predicted</th>\n",
       "      <th>actual</th>\n",
       "    </tr>\n",
       "  </thead>\n",
       "  <tbody>\n",
       "    <tr>\n",
       "      <th>0</th>\n",
       "      <td>242.119396</td>\n",
       "      <td>123</td>\n",
       "    </tr>\n",
       "    <tr>\n",
       "      <th>1</th>\n",
       "      <td>195.038230</td>\n",
       "      <td>109</td>\n",
       "    </tr>\n",
       "    <tr>\n",
       "      <th>2</th>\n",
       "      <td>197.445217</td>\n",
       "      <td>99</td>\n",
       "    </tr>\n",
       "    <tr>\n",
       "      <th>3</th>\n",
       "      <td>213.325236</td>\n",
       "      <td>81</td>\n",
       "    </tr>\n",
       "    <tr>\n",
       "      <th>4</th>\n",
       "      <td>190.147433</td>\n",
       "      <td>51</td>\n",
       "    </tr>\n",
       "    <tr>\n",
       "      <th>5</th>\n",
       "      <td>202.004532</td>\n",
       "      <td>33</td>\n",
       "    </tr>\n",
       "    <tr>\n",
       "      <th>6</th>\n",
       "      <td>197.342194</td>\n",
       "      <td>10</td>\n",
       "    </tr>\n",
       "    <tr>\n",
       "      <th>7</th>\n",
       "      <td>200.563668</td>\n",
       "      <td>11</td>\n",
       "    </tr>\n",
       "  </tbody>\n",
       "</table>\n",
       "</div>"
      ],
      "text/plain": [
       "    predicted  actual\n",
       "0  242.119396     123\n",
       "1  195.038230     109\n",
       "2  197.445217      99\n",
       "3  213.325236      81\n",
       "4  190.147433      51\n",
       "5  202.004532      33\n",
       "6  197.342194      10\n",
       "7  200.563668      11"
      ]
     },
     "execution_count": 279,
     "metadata": {},
     "output_type": "execute_result"
    }
   ],
   "source": [
    "# total quantity of order\n",
    "tol_pred = pd.DataFrame()\n",
    "tol_pred['predicted'] = pred_comp_h['predicted'] + pred_comp_k['predicted'] + pred_comp_hi['predicted'] \\\n",
    "                        + pred_comp_f['predicted'] + pred_comp_o['predicted']\n",
    "tol_pred['actual'] = pred_comp_h['actual'] + pred_comp_k['actual'] + pred_comp_hi['actual'] \\\n",
    "                        + pred_comp_f['actual'] + pred_comp_o['actual']\n",
    "tol_pred"
   ]
  },
  {
   "cell_type": "code",
   "execution_count": 280,
   "id": "29f5aed4",
   "metadata": {},
   "outputs": [
    {
     "name": "stdout",
     "output_type": "stream",
     "text": [
      "LSTM: \n",
      "rmse value for total order number is:  144.80567069927162\n",
      "mae value for total order number is:  140.1232382543385\n"
     ]
    }
   ],
   "source": [
    "# total rmse & mae\n",
    "print('LSTM: ')\n",
    "print('rmse value for total order number is: ', \n",
    "      np.sqrt(mean_squared_error(tol_pred['predicted'], tol_pred['actual'])))\n",
    "print('mae value for total order number is: ', \n",
    "      mean_absolute_error(tol_pred['predicted'], tol_pred['actual']))"
   ]
  },
  {
   "cell_type": "code",
   "execution_count": 319,
   "id": "3469d0f6",
   "metadata": {},
   "outputs": [
    {
     "data": {
      "application/vnd.plotly.v1+json": {
       "config": {
        "plotlyServerURL": "https://plot.ly"
       },
       "data": [
        {
         "name": "Actual Order Number",
         "type": "scatter",
         "y": [
          43,
          54,
          65,
          24,
          3,
          3,
          10,
          21,
          37,
          31,
          41,
          43,
          27,
          21,
          31,
          46,
          56,
          53,
          57,
          80,
          75,
          90,
          91,
          86,
          96,
          77,
          90,
          107,
          94,
          105,
          104,
          97,
          98,
          130,
          98,
          113,
          118,
          113,
          135,
          109,
          50,
          107,
          119,
          107,
          115,
          106,
          85,
          102,
          74,
          108,
          96,
          71,
          81,
          96,
          90,
          124,
          116,
          107,
          106,
          47,
          86,
          103,
          106,
          143,
          110,
          130,
          133,
          95,
          150,
          142,
          109,
          92,
          105,
          85,
          75,
          90,
          139,
          88,
          124,
          81,
          81,
          92,
          97,
          101,
          132,
          104,
          128,
          129,
          167,
          199,
          139,
          96,
          120,
          120,
          123,
          109,
          99,
          81,
          51,
          33,
          10,
          11
         ]
        },
        {
         "name": "Predicted Order Number",
         "type": "scatter",
         "x": [
          95,
          96,
          97,
          98,
          99,
          100,
          101,
          102
         ],
         "y": [
          242.11939573287964,
          195.03823044896126,
          197.44521671533585,
          213.32523638010025,
          190.14743307232857,
          202.00453221797943,
          197.34219390153885,
          200.56366756558418
         ]
        }
       ],
       "layout": {
        "template": {
         "data": {
          "bar": [
           {
            "error_x": {
             "color": "#2a3f5f"
            },
            "error_y": {
             "color": "#2a3f5f"
            },
            "marker": {
             "line": {
              "color": "white",
              "width": 0.5
             }
            },
            "type": "bar"
           }
          ],
          "barpolar": [
           {
            "marker": {
             "line": {
              "color": "white",
              "width": 0.5
             }
            },
            "type": "barpolar"
           }
          ],
          "carpet": [
           {
            "aaxis": {
             "endlinecolor": "#2a3f5f",
             "gridcolor": "#C8D4E3",
             "linecolor": "#C8D4E3",
             "minorgridcolor": "#C8D4E3",
             "startlinecolor": "#2a3f5f"
            },
            "baxis": {
             "endlinecolor": "#2a3f5f",
             "gridcolor": "#C8D4E3",
             "linecolor": "#C8D4E3",
             "minorgridcolor": "#C8D4E3",
             "startlinecolor": "#2a3f5f"
            },
            "type": "carpet"
           }
          ],
          "choropleth": [
           {
            "colorbar": {
             "outlinewidth": 0,
             "ticks": ""
            },
            "type": "choropleth"
           }
          ],
          "contour": [
           {
            "colorbar": {
             "outlinewidth": 0,
             "ticks": ""
            },
            "colorscale": [
             [
              0,
              "#0d0887"
             ],
             [
              0.1111111111111111,
              "#46039f"
             ],
             [
              0.2222222222222222,
              "#7201a8"
             ],
             [
              0.3333333333333333,
              "#9c179e"
             ],
             [
              0.4444444444444444,
              "#bd3786"
             ],
             [
              0.5555555555555556,
              "#d8576b"
             ],
             [
              0.6666666666666666,
              "#ed7953"
             ],
             [
              0.7777777777777778,
              "#fb9f3a"
             ],
             [
              0.8888888888888888,
              "#fdca26"
             ],
             [
              1,
              "#f0f921"
             ]
            ],
            "type": "contour"
           }
          ],
          "contourcarpet": [
           {
            "colorbar": {
             "outlinewidth": 0,
             "ticks": ""
            },
            "type": "contourcarpet"
           }
          ],
          "heatmap": [
           {
            "colorbar": {
             "outlinewidth": 0,
             "ticks": ""
            },
            "colorscale": [
             [
              0,
              "#0d0887"
             ],
             [
              0.1111111111111111,
              "#46039f"
             ],
             [
              0.2222222222222222,
              "#7201a8"
             ],
             [
              0.3333333333333333,
              "#9c179e"
             ],
             [
              0.4444444444444444,
              "#bd3786"
             ],
             [
              0.5555555555555556,
              "#d8576b"
             ],
             [
              0.6666666666666666,
              "#ed7953"
             ],
             [
              0.7777777777777778,
              "#fb9f3a"
             ],
             [
              0.8888888888888888,
              "#fdca26"
             ],
             [
              1,
              "#f0f921"
             ]
            ],
            "type": "heatmap"
           }
          ],
          "heatmapgl": [
           {
            "colorbar": {
             "outlinewidth": 0,
             "ticks": ""
            },
            "colorscale": [
             [
              0,
              "#0d0887"
             ],
             [
              0.1111111111111111,
              "#46039f"
             ],
             [
              0.2222222222222222,
              "#7201a8"
             ],
             [
              0.3333333333333333,
              "#9c179e"
             ],
             [
              0.4444444444444444,
              "#bd3786"
             ],
             [
              0.5555555555555556,
              "#d8576b"
             ],
             [
              0.6666666666666666,
              "#ed7953"
             ],
             [
              0.7777777777777778,
              "#fb9f3a"
             ],
             [
              0.8888888888888888,
              "#fdca26"
             ],
             [
              1,
              "#f0f921"
             ]
            ],
            "type": "heatmapgl"
           }
          ],
          "histogram": [
           {
            "marker": {
             "colorbar": {
              "outlinewidth": 0,
              "ticks": ""
             }
            },
            "type": "histogram"
           }
          ],
          "histogram2d": [
           {
            "colorbar": {
             "outlinewidth": 0,
             "ticks": ""
            },
            "colorscale": [
             [
              0,
              "#0d0887"
             ],
             [
              0.1111111111111111,
              "#46039f"
             ],
             [
              0.2222222222222222,
              "#7201a8"
             ],
             [
              0.3333333333333333,
              "#9c179e"
             ],
             [
              0.4444444444444444,
              "#bd3786"
             ],
             [
              0.5555555555555556,
              "#d8576b"
             ],
             [
              0.6666666666666666,
              "#ed7953"
             ],
             [
              0.7777777777777778,
              "#fb9f3a"
             ],
             [
              0.8888888888888888,
              "#fdca26"
             ],
             [
              1,
              "#f0f921"
             ]
            ],
            "type": "histogram2d"
           }
          ],
          "histogram2dcontour": [
           {
            "colorbar": {
             "outlinewidth": 0,
             "ticks": ""
            },
            "colorscale": [
             [
              0,
              "#0d0887"
             ],
             [
              0.1111111111111111,
              "#46039f"
             ],
             [
              0.2222222222222222,
              "#7201a8"
             ],
             [
              0.3333333333333333,
              "#9c179e"
             ],
             [
              0.4444444444444444,
              "#bd3786"
             ],
             [
              0.5555555555555556,
              "#d8576b"
             ],
             [
              0.6666666666666666,
              "#ed7953"
             ],
             [
              0.7777777777777778,
              "#fb9f3a"
             ],
             [
              0.8888888888888888,
              "#fdca26"
             ],
             [
              1,
              "#f0f921"
             ]
            ],
            "type": "histogram2dcontour"
           }
          ],
          "mesh3d": [
           {
            "colorbar": {
             "outlinewidth": 0,
             "ticks": ""
            },
            "type": "mesh3d"
           }
          ],
          "parcoords": [
           {
            "line": {
             "colorbar": {
              "outlinewidth": 0,
              "ticks": ""
             }
            },
            "type": "parcoords"
           }
          ],
          "pie": [
           {
            "automargin": true,
            "type": "pie"
           }
          ],
          "scatter": [
           {
            "marker": {
             "colorbar": {
              "outlinewidth": 0,
              "ticks": ""
             }
            },
            "type": "scatter"
           }
          ],
          "scatter3d": [
           {
            "line": {
             "colorbar": {
              "outlinewidth": 0,
              "ticks": ""
             }
            },
            "marker": {
             "colorbar": {
              "outlinewidth": 0,
              "ticks": ""
             }
            },
            "type": "scatter3d"
           }
          ],
          "scattercarpet": [
           {
            "marker": {
             "colorbar": {
              "outlinewidth": 0,
              "ticks": ""
             }
            },
            "type": "scattercarpet"
           }
          ],
          "scattergeo": [
           {
            "marker": {
             "colorbar": {
              "outlinewidth": 0,
              "ticks": ""
             }
            },
            "type": "scattergeo"
           }
          ],
          "scattergl": [
           {
            "marker": {
             "colorbar": {
              "outlinewidth": 0,
              "ticks": ""
             }
            },
            "type": "scattergl"
           }
          ],
          "scattermapbox": [
           {
            "marker": {
             "colorbar": {
              "outlinewidth": 0,
              "ticks": ""
             }
            },
            "type": "scattermapbox"
           }
          ],
          "scatterpolar": [
           {
            "marker": {
             "colorbar": {
              "outlinewidth": 0,
              "ticks": ""
             }
            },
            "type": "scatterpolar"
           }
          ],
          "scatterpolargl": [
           {
            "marker": {
             "colorbar": {
              "outlinewidth": 0,
              "ticks": ""
             }
            },
            "type": "scatterpolargl"
           }
          ],
          "scatterternary": [
           {
            "marker": {
             "colorbar": {
              "outlinewidth": 0,
              "ticks": ""
             }
            },
            "type": "scatterternary"
           }
          ],
          "surface": [
           {
            "colorbar": {
             "outlinewidth": 0,
             "ticks": ""
            },
            "colorscale": [
             [
              0,
              "#0d0887"
             ],
             [
              0.1111111111111111,
              "#46039f"
             ],
             [
              0.2222222222222222,
              "#7201a8"
             ],
             [
              0.3333333333333333,
              "#9c179e"
             ],
             [
              0.4444444444444444,
              "#bd3786"
             ],
             [
              0.5555555555555556,
              "#d8576b"
             ],
             [
              0.6666666666666666,
              "#ed7953"
             ],
             [
              0.7777777777777778,
              "#fb9f3a"
             ],
             [
              0.8888888888888888,
              "#fdca26"
             ],
             [
              1,
              "#f0f921"
             ]
            ],
            "type": "surface"
           }
          ],
          "table": [
           {
            "cells": {
             "fill": {
              "color": "#EBF0F8"
             },
             "line": {
              "color": "white"
             }
            },
            "header": {
             "fill": {
              "color": "#C8D4E3"
             },
             "line": {
              "color": "white"
             }
            },
            "type": "table"
           }
          ]
         },
         "layout": {
          "annotationdefaults": {
           "arrowcolor": "#2a3f5f",
           "arrowhead": 0,
           "arrowwidth": 1
          },
          "autotypenumbers": "strict",
          "coloraxis": {
           "colorbar": {
            "outlinewidth": 0,
            "ticks": ""
           }
          },
          "colorscale": {
           "diverging": [
            [
             0,
             "#8e0152"
            ],
            [
             0.1,
             "#c51b7d"
            ],
            [
             0.2,
             "#de77ae"
            ],
            [
             0.3,
             "#f1b6da"
            ],
            [
             0.4,
             "#fde0ef"
            ],
            [
             0.5,
             "#f7f7f7"
            ],
            [
             0.6,
             "#e6f5d0"
            ],
            [
             0.7,
             "#b8e186"
            ],
            [
             0.8,
             "#7fbc41"
            ],
            [
             0.9,
             "#4d9221"
            ],
            [
             1,
             "#276419"
            ]
           ],
           "sequential": [
            [
             0,
             "#0d0887"
            ],
            [
             0.1111111111111111,
             "#46039f"
            ],
            [
             0.2222222222222222,
             "#7201a8"
            ],
            [
             0.3333333333333333,
             "#9c179e"
            ],
            [
             0.4444444444444444,
             "#bd3786"
            ],
            [
             0.5555555555555556,
             "#d8576b"
            ],
            [
             0.6666666666666666,
             "#ed7953"
            ],
            [
             0.7777777777777778,
             "#fb9f3a"
            ],
            [
             0.8888888888888888,
             "#fdca26"
            ],
            [
             1,
             "#f0f921"
            ]
           ],
           "sequentialminus": [
            [
             0,
             "#0d0887"
            ],
            [
             0.1111111111111111,
             "#46039f"
            ],
            [
             0.2222222222222222,
             "#7201a8"
            ],
            [
             0.3333333333333333,
             "#9c179e"
            ],
            [
             0.4444444444444444,
             "#bd3786"
            ],
            [
             0.5555555555555556,
             "#d8576b"
            ],
            [
             0.6666666666666666,
             "#ed7953"
            ],
            [
             0.7777777777777778,
             "#fb9f3a"
            ],
            [
             0.8888888888888888,
             "#fdca26"
            ],
            [
             1,
             "#f0f921"
            ]
           ]
          },
          "colorway": [
           "#636efa",
           "#EF553B",
           "#00cc96",
           "#ab63fa",
           "#FFA15A",
           "#19d3f3",
           "#FF6692",
           "#B6E880",
           "#FF97FF",
           "#FECB52"
          ],
          "font": {
           "color": "#2a3f5f"
          },
          "geo": {
           "bgcolor": "white",
           "lakecolor": "white",
           "landcolor": "white",
           "showlakes": true,
           "showland": true,
           "subunitcolor": "#C8D4E3"
          },
          "hoverlabel": {
           "align": "left"
          },
          "hovermode": "closest",
          "mapbox": {
           "style": "light"
          },
          "paper_bgcolor": "white",
          "plot_bgcolor": "white",
          "polar": {
           "angularaxis": {
            "gridcolor": "#EBF0F8",
            "linecolor": "#EBF0F8",
            "ticks": ""
           },
           "bgcolor": "white",
           "radialaxis": {
            "gridcolor": "#EBF0F8",
            "linecolor": "#EBF0F8",
            "ticks": ""
           }
          },
          "scene": {
           "xaxis": {
            "backgroundcolor": "white",
            "gridcolor": "#DFE8F3",
            "gridwidth": 2,
            "linecolor": "#EBF0F8",
            "showbackground": true,
            "ticks": "",
            "zerolinecolor": "#EBF0F8"
           },
           "yaxis": {
            "backgroundcolor": "white",
            "gridcolor": "#DFE8F3",
            "gridwidth": 2,
            "linecolor": "#EBF0F8",
            "showbackground": true,
            "ticks": "",
            "zerolinecolor": "#EBF0F8"
           },
           "zaxis": {
            "backgroundcolor": "white",
            "gridcolor": "#DFE8F3",
            "gridwidth": 2,
            "linecolor": "#EBF0F8",
            "showbackground": true,
            "ticks": "",
            "zerolinecolor": "#EBF0F8"
           }
          },
          "shapedefaults": {
           "line": {
            "color": "#2a3f5f"
           }
          },
          "ternary": {
           "aaxis": {
            "gridcolor": "#DFE8F3",
            "linecolor": "#A2B1C6",
            "ticks": ""
           },
           "baxis": {
            "gridcolor": "#DFE8F3",
            "linecolor": "#A2B1C6",
            "ticks": ""
           },
           "bgcolor": "white",
           "caxis": {
            "gridcolor": "#DFE8F3",
            "linecolor": "#A2B1C6",
            "ticks": ""
           }
          },
          "title": {
           "x": 0.05
          },
          "xaxis": {
           "automargin": true,
           "gridcolor": "#EBF0F8",
           "linecolor": "#EBF0F8",
           "ticks": "",
           "title": {
            "standoff": 15
           },
           "zerolinecolor": "#EBF0F8",
           "zerolinewidth": 2
          },
          "yaxis": {
           "automargin": true,
           "gridcolor": "#EBF0F8",
           "linecolor": "#EBF0F8",
           "ticks": "",
           "title": {
            "standoff": 15
           },
           "zerolinecolor": "#EBF0F8",
           "zerolinewidth": 2
          }
         }
        },
        "title": {
         "text": "Model Prediction: Total Quantity of Order"
        },
        "xaxis": {
         "title": {
          "text": "Time"
         }
        },
        "yaxis": {
         "title": {
          "text": "Order Number"
         }
        }
       }
      },
      "text/html": [
       "<div>                            <div id=\"9436c9c1-efd3-4574-bdab-b1096b591dd7\" class=\"plotly-graph-div\" style=\"height:525px; width:100%;\"></div>            <script type=\"text/javascript\">                require([\"plotly\"], function(Plotly) {                    window.PLOTLYENV=window.PLOTLYENV || {};                                    if (document.getElementById(\"9436c9c1-efd3-4574-bdab-b1096b591dd7\")) {                    Plotly.newPlot(                        \"9436c9c1-efd3-4574-bdab-b1096b591dd7\",                        [{\"name\": \"Actual Order Number\", \"type\": \"scatter\", \"y\": [43, 54, 65, 24, 3, 3, 10, 21, 37, 31, 41, 43, 27, 21, 31, 46, 56, 53, 57, 80, 75, 90, 91, 86, 96, 77, 90, 107, 94, 105, 104, 97, 98, 130, 98, 113, 118, 113, 135, 109, 50, 107, 119, 107, 115, 106, 85, 102, 74, 108, 96, 71, 81, 96, 90, 124, 116, 107, 106, 47, 86, 103, 106, 143, 110, 130, 133, 95, 150, 142, 109, 92, 105, 85, 75, 90, 139, 88, 124, 81, 81, 92, 97, 101, 132, 104, 128, 129, 167, 199, 139, 96, 120, 120, 123, 109, 99, 81, 51, 33, 10, 11]}, {\"name\": \"Predicted Order Number\", \"type\": \"scatter\", \"x\": [95, 96, 97, 98, 99, 100, 101, 102], \"y\": [242.11939573287964, 195.03823044896126, 197.44521671533585, 213.32523638010025, 190.14743307232857, 202.00453221797943, 197.34219390153885, 200.56366756558418]}],                        {\"template\": {\"data\": {\"bar\": [{\"error_x\": {\"color\": \"#2a3f5f\"}, \"error_y\": {\"color\": \"#2a3f5f\"}, \"marker\": {\"line\": {\"color\": \"white\", \"width\": 0.5}}, \"type\": \"bar\"}], \"barpolar\": [{\"marker\": {\"line\": {\"color\": \"white\", \"width\": 0.5}}, \"type\": \"barpolar\"}], \"carpet\": [{\"aaxis\": {\"endlinecolor\": \"#2a3f5f\", \"gridcolor\": \"#C8D4E3\", \"linecolor\": \"#C8D4E3\", \"minorgridcolor\": \"#C8D4E3\", \"startlinecolor\": \"#2a3f5f\"}, \"baxis\": {\"endlinecolor\": \"#2a3f5f\", \"gridcolor\": \"#C8D4E3\", \"linecolor\": \"#C8D4E3\", \"minorgridcolor\": \"#C8D4E3\", \"startlinecolor\": \"#2a3f5f\"}, \"type\": \"carpet\"}], \"choropleth\": [{\"colorbar\": {\"outlinewidth\": 0, \"ticks\": \"\"}, \"type\": \"choropleth\"}], \"contour\": [{\"colorbar\": {\"outlinewidth\": 0, \"ticks\": \"\"}, \"colorscale\": [[0.0, \"#0d0887\"], [0.1111111111111111, \"#46039f\"], [0.2222222222222222, \"#7201a8\"], [0.3333333333333333, \"#9c179e\"], [0.4444444444444444, \"#bd3786\"], [0.5555555555555556, \"#d8576b\"], [0.6666666666666666, \"#ed7953\"], [0.7777777777777778, \"#fb9f3a\"], [0.8888888888888888, \"#fdca26\"], [1.0, \"#f0f921\"]], \"type\": \"contour\"}], \"contourcarpet\": [{\"colorbar\": {\"outlinewidth\": 0, \"ticks\": \"\"}, \"type\": \"contourcarpet\"}], \"heatmap\": [{\"colorbar\": {\"outlinewidth\": 0, \"ticks\": \"\"}, \"colorscale\": [[0.0, \"#0d0887\"], [0.1111111111111111, \"#46039f\"], [0.2222222222222222, \"#7201a8\"], [0.3333333333333333, \"#9c179e\"], [0.4444444444444444, \"#bd3786\"], [0.5555555555555556, \"#d8576b\"], [0.6666666666666666, \"#ed7953\"], [0.7777777777777778, \"#fb9f3a\"], [0.8888888888888888, \"#fdca26\"], [1.0, \"#f0f921\"]], \"type\": \"heatmap\"}], \"heatmapgl\": [{\"colorbar\": {\"outlinewidth\": 0, \"ticks\": \"\"}, \"colorscale\": [[0.0, \"#0d0887\"], [0.1111111111111111, \"#46039f\"], [0.2222222222222222, \"#7201a8\"], [0.3333333333333333, \"#9c179e\"], [0.4444444444444444, \"#bd3786\"], [0.5555555555555556, \"#d8576b\"], [0.6666666666666666, \"#ed7953\"], [0.7777777777777778, \"#fb9f3a\"], [0.8888888888888888, \"#fdca26\"], [1.0, \"#f0f921\"]], \"type\": \"heatmapgl\"}], \"histogram\": [{\"marker\": {\"colorbar\": {\"outlinewidth\": 0, \"ticks\": \"\"}}, \"type\": \"histogram\"}], \"histogram2d\": [{\"colorbar\": {\"outlinewidth\": 0, \"ticks\": \"\"}, \"colorscale\": [[0.0, \"#0d0887\"], [0.1111111111111111, \"#46039f\"], [0.2222222222222222, \"#7201a8\"], [0.3333333333333333, \"#9c179e\"], [0.4444444444444444, \"#bd3786\"], [0.5555555555555556, \"#d8576b\"], [0.6666666666666666, \"#ed7953\"], [0.7777777777777778, \"#fb9f3a\"], [0.8888888888888888, \"#fdca26\"], [1.0, \"#f0f921\"]], \"type\": \"histogram2d\"}], \"histogram2dcontour\": [{\"colorbar\": {\"outlinewidth\": 0, \"ticks\": \"\"}, \"colorscale\": [[0.0, \"#0d0887\"], [0.1111111111111111, \"#46039f\"], [0.2222222222222222, \"#7201a8\"], [0.3333333333333333, \"#9c179e\"], [0.4444444444444444, \"#bd3786\"], [0.5555555555555556, \"#d8576b\"], [0.6666666666666666, \"#ed7953\"], [0.7777777777777778, \"#fb9f3a\"], [0.8888888888888888, \"#fdca26\"], [1.0, \"#f0f921\"]], \"type\": \"histogram2dcontour\"}], \"mesh3d\": [{\"colorbar\": {\"outlinewidth\": 0, \"ticks\": \"\"}, \"type\": \"mesh3d\"}], \"parcoords\": [{\"line\": {\"colorbar\": {\"outlinewidth\": 0, \"ticks\": \"\"}}, \"type\": \"parcoords\"}], \"pie\": [{\"automargin\": true, \"type\": \"pie\"}], \"scatter\": [{\"marker\": {\"colorbar\": {\"outlinewidth\": 0, \"ticks\": \"\"}}, \"type\": \"scatter\"}], \"scatter3d\": [{\"line\": {\"colorbar\": {\"outlinewidth\": 0, \"ticks\": \"\"}}, \"marker\": {\"colorbar\": {\"outlinewidth\": 0, \"ticks\": \"\"}}, \"type\": \"scatter3d\"}], \"scattercarpet\": [{\"marker\": {\"colorbar\": {\"outlinewidth\": 0, \"ticks\": \"\"}}, \"type\": \"scattercarpet\"}], \"scattergeo\": [{\"marker\": {\"colorbar\": {\"outlinewidth\": 0, \"ticks\": \"\"}}, \"type\": \"scattergeo\"}], \"scattergl\": [{\"marker\": {\"colorbar\": {\"outlinewidth\": 0, \"ticks\": \"\"}}, \"type\": \"scattergl\"}], \"scattermapbox\": [{\"marker\": {\"colorbar\": {\"outlinewidth\": 0, \"ticks\": \"\"}}, \"type\": \"scattermapbox\"}], \"scatterpolar\": [{\"marker\": {\"colorbar\": {\"outlinewidth\": 0, \"ticks\": \"\"}}, \"type\": \"scatterpolar\"}], \"scatterpolargl\": [{\"marker\": {\"colorbar\": {\"outlinewidth\": 0, \"ticks\": \"\"}}, \"type\": \"scatterpolargl\"}], \"scatterternary\": [{\"marker\": {\"colorbar\": {\"outlinewidth\": 0, \"ticks\": \"\"}}, \"type\": \"scatterternary\"}], \"surface\": [{\"colorbar\": {\"outlinewidth\": 0, \"ticks\": \"\"}, \"colorscale\": [[0.0, \"#0d0887\"], [0.1111111111111111, \"#46039f\"], [0.2222222222222222, \"#7201a8\"], [0.3333333333333333, \"#9c179e\"], [0.4444444444444444, \"#bd3786\"], [0.5555555555555556, \"#d8576b\"], [0.6666666666666666, \"#ed7953\"], [0.7777777777777778, \"#fb9f3a\"], [0.8888888888888888, \"#fdca26\"], [1.0, \"#f0f921\"]], \"type\": \"surface\"}], \"table\": [{\"cells\": {\"fill\": {\"color\": \"#EBF0F8\"}, \"line\": {\"color\": \"white\"}}, \"header\": {\"fill\": {\"color\": \"#C8D4E3\"}, \"line\": {\"color\": \"white\"}}, \"type\": \"table\"}]}, \"layout\": {\"annotationdefaults\": {\"arrowcolor\": \"#2a3f5f\", \"arrowhead\": 0, \"arrowwidth\": 1}, \"autotypenumbers\": \"strict\", \"coloraxis\": {\"colorbar\": {\"outlinewidth\": 0, \"ticks\": \"\"}}, \"colorscale\": {\"diverging\": [[0, \"#8e0152\"], [0.1, \"#c51b7d\"], [0.2, \"#de77ae\"], [0.3, \"#f1b6da\"], [0.4, \"#fde0ef\"], [0.5, \"#f7f7f7\"], [0.6, \"#e6f5d0\"], [0.7, \"#b8e186\"], [0.8, \"#7fbc41\"], [0.9, \"#4d9221\"], [1, \"#276419\"]], \"sequential\": [[0.0, \"#0d0887\"], [0.1111111111111111, \"#46039f\"], [0.2222222222222222, \"#7201a8\"], [0.3333333333333333, \"#9c179e\"], [0.4444444444444444, \"#bd3786\"], [0.5555555555555556, \"#d8576b\"], [0.6666666666666666, \"#ed7953\"], [0.7777777777777778, \"#fb9f3a\"], [0.8888888888888888, \"#fdca26\"], [1.0, \"#f0f921\"]], \"sequentialminus\": [[0.0, \"#0d0887\"], [0.1111111111111111, \"#46039f\"], [0.2222222222222222, \"#7201a8\"], [0.3333333333333333, \"#9c179e\"], [0.4444444444444444, \"#bd3786\"], [0.5555555555555556, \"#d8576b\"], [0.6666666666666666, \"#ed7953\"], [0.7777777777777778, \"#fb9f3a\"], [0.8888888888888888, \"#fdca26\"], [1.0, \"#f0f921\"]]}, \"colorway\": [\"#636efa\", \"#EF553B\", \"#00cc96\", \"#ab63fa\", \"#FFA15A\", \"#19d3f3\", \"#FF6692\", \"#B6E880\", \"#FF97FF\", \"#FECB52\"], \"font\": {\"color\": \"#2a3f5f\"}, \"geo\": {\"bgcolor\": \"white\", \"lakecolor\": \"white\", \"landcolor\": \"white\", \"showlakes\": true, \"showland\": true, \"subunitcolor\": \"#C8D4E3\"}, \"hoverlabel\": {\"align\": \"left\"}, \"hovermode\": \"closest\", \"mapbox\": {\"style\": \"light\"}, \"paper_bgcolor\": \"white\", \"plot_bgcolor\": \"white\", \"polar\": {\"angularaxis\": {\"gridcolor\": \"#EBF0F8\", \"linecolor\": \"#EBF0F8\", \"ticks\": \"\"}, \"bgcolor\": \"white\", \"radialaxis\": {\"gridcolor\": \"#EBF0F8\", \"linecolor\": \"#EBF0F8\", \"ticks\": \"\"}}, \"scene\": {\"xaxis\": {\"backgroundcolor\": \"white\", \"gridcolor\": \"#DFE8F3\", \"gridwidth\": 2, \"linecolor\": \"#EBF0F8\", \"showbackground\": true, \"ticks\": \"\", \"zerolinecolor\": \"#EBF0F8\"}, \"yaxis\": {\"backgroundcolor\": \"white\", \"gridcolor\": \"#DFE8F3\", \"gridwidth\": 2, \"linecolor\": \"#EBF0F8\", \"showbackground\": true, \"ticks\": \"\", \"zerolinecolor\": \"#EBF0F8\"}, \"zaxis\": {\"backgroundcolor\": \"white\", \"gridcolor\": \"#DFE8F3\", \"gridwidth\": 2, \"linecolor\": \"#EBF0F8\", \"showbackground\": true, \"ticks\": \"\", \"zerolinecolor\": \"#EBF0F8\"}}, \"shapedefaults\": {\"line\": {\"color\": \"#2a3f5f\"}}, \"ternary\": {\"aaxis\": {\"gridcolor\": \"#DFE8F3\", \"linecolor\": \"#A2B1C6\", \"ticks\": \"\"}, \"baxis\": {\"gridcolor\": \"#DFE8F3\", \"linecolor\": \"#A2B1C6\", \"ticks\": \"\"}, \"bgcolor\": \"white\", \"caxis\": {\"gridcolor\": \"#DFE8F3\", \"linecolor\": \"#A2B1C6\", \"ticks\": \"\"}}, \"title\": {\"x\": 0.05}, \"xaxis\": {\"automargin\": true, \"gridcolor\": \"#EBF0F8\", \"linecolor\": \"#EBF0F8\", \"ticks\": \"\", \"title\": {\"standoff\": 15}, \"zerolinecolor\": \"#EBF0F8\", \"zerolinewidth\": 2}, \"yaxis\": {\"automargin\": true, \"gridcolor\": \"#EBF0F8\", \"linecolor\": \"#EBF0F8\", \"ticks\": \"\", \"title\": {\"standoff\": 15}, \"zerolinecolor\": \"#EBF0F8\", \"zerolinewidth\": 2}}}, \"title\": {\"text\": \"Model Prediction: Total Quantity of Order\"}, \"xaxis\": {\"title\": {\"text\": \"Time\"}}, \"yaxis\": {\"title\": {\"text\": \"Order Number\"}}},                        {\"responsive\": true}                    ).then(function(){\n",
       "                            \n",
       "var gd = document.getElementById('9436c9c1-efd3-4574-bdab-b1096b591dd7');\n",
       "var x = new MutationObserver(function (mutations, observer) {{\n",
       "        var display = window.getComputedStyle(gd).display;\n",
       "        if (!display || display === 'none') {{\n",
       "            console.log([gd, 'removed!']);\n",
       "            Plotly.purge(gd);\n",
       "            observer.disconnect();\n",
       "        }}\n",
       "}});\n",
       "\n",
       "// Listen for the removal of the full notebook cells\n",
       "var notebookContainer = gd.closest('#notebook-container');\n",
       "if (notebookContainer) {{\n",
       "    x.observe(notebookContainer, {childList: true});\n",
       "}}\n",
       "\n",
       "// Listen for the clearing of the current output cell\n",
       "var outputEl = gd.closest('.output');\n",
       "if (outputEl) {{\n",
       "    x.observe(outputEl, {childList: true});\n",
       "}}\n",
       "\n",
       "                        })                };                });            </script>        </div>"
      ]
     },
     "metadata": {},
     "output_type": "display_data"
    }
   ],
   "source": [
    "x = np.arange(95, 103, 1)\n",
    "\n",
    "fig = go.Figure(layout = {'title': 'Model Prediction: Total Quantity of Order', \n",
    "                          'xaxis_title': 'Time', \n",
    "                          'yaxis_title': 'Order Number', \n",
    "                          'template': 'plotly_white'})\n",
    "fig.add_trace(go.Scatter(y = data_lstm['order number'], name = 'Actual Order Number'))\n",
    "fig.add_trace(go.Scatter(x = x, y = tol_pred['predicted'], name = 'Predicted Order Number'))\n",
    "fig.show()"
   ]
  },
  {
   "cell_type": "code",
   "execution_count": 320,
   "id": "56658e36",
   "metadata": {},
   "outputs": [
    {
     "data": {
      "application/vnd.plotly.v1+json": {
       "config": {
        "plotlyServerURL": "https://plot.ly"
       },
       "data": [
        {
         "name": "Actual Order Number",
         "type": "scatter",
         "x": [
          95,
          96,
          97,
          98,
          99,
          100,
          101,
          102
         ],
         "y": [
          123,
          109,
          99,
          81,
          51,
          33,
          10,
          11
         ]
        },
        {
         "name": "Predicted Order Number",
         "type": "scatter",
         "x": [
          95,
          96,
          97,
          98,
          99,
          100,
          101,
          102
         ],
         "y": [
          242.11939573287964,
          195.03823044896126,
          197.44521671533585,
          213.32523638010025,
          190.14743307232857,
          202.00453221797943,
          197.34219390153885,
          200.56366756558418
         ]
        }
       ],
       "layout": {
        "template": {
         "data": {
          "bar": [
           {
            "error_x": {
             "color": "#2a3f5f"
            },
            "error_y": {
             "color": "#2a3f5f"
            },
            "marker": {
             "line": {
              "color": "white",
              "width": 0.5
             }
            },
            "type": "bar"
           }
          ],
          "barpolar": [
           {
            "marker": {
             "line": {
              "color": "white",
              "width": 0.5
             }
            },
            "type": "barpolar"
           }
          ],
          "carpet": [
           {
            "aaxis": {
             "endlinecolor": "#2a3f5f",
             "gridcolor": "#C8D4E3",
             "linecolor": "#C8D4E3",
             "minorgridcolor": "#C8D4E3",
             "startlinecolor": "#2a3f5f"
            },
            "baxis": {
             "endlinecolor": "#2a3f5f",
             "gridcolor": "#C8D4E3",
             "linecolor": "#C8D4E3",
             "minorgridcolor": "#C8D4E3",
             "startlinecolor": "#2a3f5f"
            },
            "type": "carpet"
           }
          ],
          "choropleth": [
           {
            "colorbar": {
             "outlinewidth": 0,
             "ticks": ""
            },
            "type": "choropleth"
           }
          ],
          "contour": [
           {
            "colorbar": {
             "outlinewidth": 0,
             "ticks": ""
            },
            "colorscale": [
             [
              0,
              "#0d0887"
             ],
             [
              0.1111111111111111,
              "#46039f"
             ],
             [
              0.2222222222222222,
              "#7201a8"
             ],
             [
              0.3333333333333333,
              "#9c179e"
             ],
             [
              0.4444444444444444,
              "#bd3786"
             ],
             [
              0.5555555555555556,
              "#d8576b"
             ],
             [
              0.6666666666666666,
              "#ed7953"
             ],
             [
              0.7777777777777778,
              "#fb9f3a"
             ],
             [
              0.8888888888888888,
              "#fdca26"
             ],
             [
              1,
              "#f0f921"
             ]
            ],
            "type": "contour"
           }
          ],
          "contourcarpet": [
           {
            "colorbar": {
             "outlinewidth": 0,
             "ticks": ""
            },
            "type": "contourcarpet"
           }
          ],
          "heatmap": [
           {
            "colorbar": {
             "outlinewidth": 0,
             "ticks": ""
            },
            "colorscale": [
             [
              0,
              "#0d0887"
             ],
             [
              0.1111111111111111,
              "#46039f"
             ],
             [
              0.2222222222222222,
              "#7201a8"
             ],
             [
              0.3333333333333333,
              "#9c179e"
             ],
             [
              0.4444444444444444,
              "#bd3786"
             ],
             [
              0.5555555555555556,
              "#d8576b"
             ],
             [
              0.6666666666666666,
              "#ed7953"
             ],
             [
              0.7777777777777778,
              "#fb9f3a"
             ],
             [
              0.8888888888888888,
              "#fdca26"
             ],
             [
              1,
              "#f0f921"
             ]
            ],
            "type": "heatmap"
           }
          ],
          "heatmapgl": [
           {
            "colorbar": {
             "outlinewidth": 0,
             "ticks": ""
            },
            "colorscale": [
             [
              0,
              "#0d0887"
             ],
             [
              0.1111111111111111,
              "#46039f"
             ],
             [
              0.2222222222222222,
              "#7201a8"
             ],
             [
              0.3333333333333333,
              "#9c179e"
             ],
             [
              0.4444444444444444,
              "#bd3786"
             ],
             [
              0.5555555555555556,
              "#d8576b"
             ],
             [
              0.6666666666666666,
              "#ed7953"
             ],
             [
              0.7777777777777778,
              "#fb9f3a"
             ],
             [
              0.8888888888888888,
              "#fdca26"
             ],
             [
              1,
              "#f0f921"
             ]
            ],
            "type": "heatmapgl"
           }
          ],
          "histogram": [
           {
            "marker": {
             "colorbar": {
              "outlinewidth": 0,
              "ticks": ""
             }
            },
            "type": "histogram"
           }
          ],
          "histogram2d": [
           {
            "colorbar": {
             "outlinewidth": 0,
             "ticks": ""
            },
            "colorscale": [
             [
              0,
              "#0d0887"
             ],
             [
              0.1111111111111111,
              "#46039f"
             ],
             [
              0.2222222222222222,
              "#7201a8"
             ],
             [
              0.3333333333333333,
              "#9c179e"
             ],
             [
              0.4444444444444444,
              "#bd3786"
             ],
             [
              0.5555555555555556,
              "#d8576b"
             ],
             [
              0.6666666666666666,
              "#ed7953"
             ],
             [
              0.7777777777777778,
              "#fb9f3a"
             ],
             [
              0.8888888888888888,
              "#fdca26"
             ],
             [
              1,
              "#f0f921"
             ]
            ],
            "type": "histogram2d"
           }
          ],
          "histogram2dcontour": [
           {
            "colorbar": {
             "outlinewidth": 0,
             "ticks": ""
            },
            "colorscale": [
             [
              0,
              "#0d0887"
             ],
             [
              0.1111111111111111,
              "#46039f"
             ],
             [
              0.2222222222222222,
              "#7201a8"
             ],
             [
              0.3333333333333333,
              "#9c179e"
             ],
             [
              0.4444444444444444,
              "#bd3786"
             ],
             [
              0.5555555555555556,
              "#d8576b"
             ],
             [
              0.6666666666666666,
              "#ed7953"
             ],
             [
              0.7777777777777778,
              "#fb9f3a"
             ],
             [
              0.8888888888888888,
              "#fdca26"
             ],
             [
              1,
              "#f0f921"
             ]
            ],
            "type": "histogram2dcontour"
           }
          ],
          "mesh3d": [
           {
            "colorbar": {
             "outlinewidth": 0,
             "ticks": ""
            },
            "type": "mesh3d"
           }
          ],
          "parcoords": [
           {
            "line": {
             "colorbar": {
              "outlinewidth": 0,
              "ticks": ""
             }
            },
            "type": "parcoords"
           }
          ],
          "pie": [
           {
            "automargin": true,
            "type": "pie"
           }
          ],
          "scatter": [
           {
            "marker": {
             "colorbar": {
              "outlinewidth": 0,
              "ticks": ""
             }
            },
            "type": "scatter"
           }
          ],
          "scatter3d": [
           {
            "line": {
             "colorbar": {
              "outlinewidth": 0,
              "ticks": ""
             }
            },
            "marker": {
             "colorbar": {
              "outlinewidth": 0,
              "ticks": ""
             }
            },
            "type": "scatter3d"
           }
          ],
          "scattercarpet": [
           {
            "marker": {
             "colorbar": {
              "outlinewidth": 0,
              "ticks": ""
             }
            },
            "type": "scattercarpet"
           }
          ],
          "scattergeo": [
           {
            "marker": {
             "colorbar": {
              "outlinewidth": 0,
              "ticks": ""
             }
            },
            "type": "scattergeo"
           }
          ],
          "scattergl": [
           {
            "marker": {
             "colorbar": {
              "outlinewidth": 0,
              "ticks": ""
             }
            },
            "type": "scattergl"
           }
          ],
          "scattermapbox": [
           {
            "marker": {
             "colorbar": {
              "outlinewidth": 0,
              "ticks": ""
             }
            },
            "type": "scattermapbox"
           }
          ],
          "scatterpolar": [
           {
            "marker": {
             "colorbar": {
              "outlinewidth": 0,
              "ticks": ""
             }
            },
            "type": "scatterpolar"
           }
          ],
          "scatterpolargl": [
           {
            "marker": {
             "colorbar": {
              "outlinewidth": 0,
              "ticks": ""
             }
            },
            "type": "scatterpolargl"
           }
          ],
          "scatterternary": [
           {
            "marker": {
             "colorbar": {
              "outlinewidth": 0,
              "ticks": ""
             }
            },
            "type": "scatterternary"
           }
          ],
          "surface": [
           {
            "colorbar": {
             "outlinewidth": 0,
             "ticks": ""
            },
            "colorscale": [
             [
              0,
              "#0d0887"
             ],
             [
              0.1111111111111111,
              "#46039f"
             ],
             [
              0.2222222222222222,
              "#7201a8"
             ],
             [
              0.3333333333333333,
              "#9c179e"
             ],
             [
              0.4444444444444444,
              "#bd3786"
             ],
             [
              0.5555555555555556,
              "#d8576b"
             ],
             [
              0.6666666666666666,
              "#ed7953"
             ],
             [
              0.7777777777777778,
              "#fb9f3a"
             ],
             [
              0.8888888888888888,
              "#fdca26"
             ],
             [
              1,
              "#f0f921"
             ]
            ],
            "type": "surface"
           }
          ],
          "table": [
           {
            "cells": {
             "fill": {
              "color": "#EBF0F8"
             },
             "line": {
              "color": "white"
             }
            },
            "header": {
             "fill": {
              "color": "#C8D4E3"
             },
             "line": {
              "color": "white"
             }
            },
            "type": "table"
           }
          ]
         },
         "layout": {
          "annotationdefaults": {
           "arrowcolor": "#2a3f5f",
           "arrowhead": 0,
           "arrowwidth": 1
          },
          "autotypenumbers": "strict",
          "coloraxis": {
           "colorbar": {
            "outlinewidth": 0,
            "ticks": ""
           }
          },
          "colorscale": {
           "diverging": [
            [
             0,
             "#8e0152"
            ],
            [
             0.1,
             "#c51b7d"
            ],
            [
             0.2,
             "#de77ae"
            ],
            [
             0.3,
             "#f1b6da"
            ],
            [
             0.4,
             "#fde0ef"
            ],
            [
             0.5,
             "#f7f7f7"
            ],
            [
             0.6,
             "#e6f5d0"
            ],
            [
             0.7,
             "#b8e186"
            ],
            [
             0.8,
             "#7fbc41"
            ],
            [
             0.9,
             "#4d9221"
            ],
            [
             1,
             "#276419"
            ]
           ],
           "sequential": [
            [
             0,
             "#0d0887"
            ],
            [
             0.1111111111111111,
             "#46039f"
            ],
            [
             0.2222222222222222,
             "#7201a8"
            ],
            [
             0.3333333333333333,
             "#9c179e"
            ],
            [
             0.4444444444444444,
             "#bd3786"
            ],
            [
             0.5555555555555556,
             "#d8576b"
            ],
            [
             0.6666666666666666,
             "#ed7953"
            ],
            [
             0.7777777777777778,
             "#fb9f3a"
            ],
            [
             0.8888888888888888,
             "#fdca26"
            ],
            [
             1,
             "#f0f921"
            ]
           ],
           "sequentialminus": [
            [
             0,
             "#0d0887"
            ],
            [
             0.1111111111111111,
             "#46039f"
            ],
            [
             0.2222222222222222,
             "#7201a8"
            ],
            [
             0.3333333333333333,
             "#9c179e"
            ],
            [
             0.4444444444444444,
             "#bd3786"
            ],
            [
             0.5555555555555556,
             "#d8576b"
            ],
            [
             0.6666666666666666,
             "#ed7953"
            ],
            [
             0.7777777777777778,
             "#fb9f3a"
            ],
            [
             0.8888888888888888,
             "#fdca26"
            ],
            [
             1,
             "#f0f921"
            ]
           ]
          },
          "colorway": [
           "#636efa",
           "#EF553B",
           "#00cc96",
           "#ab63fa",
           "#FFA15A",
           "#19d3f3",
           "#FF6692",
           "#B6E880",
           "#FF97FF",
           "#FECB52"
          ],
          "font": {
           "color": "#2a3f5f"
          },
          "geo": {
           "bgcolor": "white",
           "lakecolor": "white",
           "landcolor": "white",
           "showlakes": true,
           "showland": true,
           "subunitcolor": "#C8D4E3"
          },
          "hoverlabel": {
           "align": "left"
          },
          "hovermode": "closest",
          "mapbox": {
           "style": "light"
          },
          "paper_bgcolor": "white",
          "plot_bgcolor": "white",
          "polar": {
           "angularaxis": {
            "gridcolor": "#EBF0F8",
            "linecolor": "#EBF0F8",
            "ticks": ""
           },
           "bgcolor": "white",
           "radialaxis": {
            "gridcolor": "#EBF0F8",
            "linecolor": "#EBF0F8",
            "ticks": ""
           }
          },
          "scene": {
           "xaxis": {
            "backgroundcolor": "white",
            "gridcolor": "#DFE8F3",
            "gridwidth": 2,
            "linecolor": "#EBF0F8",
            "showbackground": true,
            "ticks": "",
            "zerolinecolor": "#EBF0F8"
           },
           "yaxis": {
            "backgroundcolor": "white",
            "gridcolor": "#DFE8F3",
            "gridwidth": 2,
            "linecolor": "#EBF0F8",
            "showbackground": true,
            "ticks": "",
            "zerolinecolor": "#EBF0F8"
           },
           "zaxis": {
            "backgroundcolor": "white",
            "gridcolor": "#DFE8F3",
            "gridwidth": 2,
            "linecolor": "#EBF0F8",
            "showbackground": true,
            "ticks": "",
            "zerolinecolor": "#EBF0F8"
           }
          },
          "shapedefaults": {
           "line": {
            "color": "#2a3f5f"
           }
          },
          "ternary": {
           "aaxis": {
            "gridcolor": "#DFE8F3",
            "linecolor": "#A2B1C6",
            "ticks": ""
           },
           "baxis": {
            "gridcolor": "#DFE8F3",
            "linecolor": "#A2B1C6",
            "ticks": ""
           },
           "bgcolor": "white",
           "caxis": {
            "gridcolor": "#DFE8F3",
            "linecolor": "#A2B1C6",
            "ticks": ""
           }
          },
          "title": {
           "x": 0.05
          },
          "xaxis": {
           "automargin": true,
           "gridcolor": "#EBF0F8",
           "linecolor": "#EBF0F8",
           "ticks": "",
           "title": {
            "standoff": 15
           },
           "zerolinecolor": "#EBF0F8",
           "zerolinewidth": 2
          },
          "yaxis": {
           "automargin": true,
           "gridcolor": "#EBF0F8",
           "linecolor": "#EBF0F8",
           "ticks": "",
           "title": {
            "standoff": 15
           },
           "zerolinecolor": "#EBF0F8",
           "zerolinewidth": 2
          }
         }
        },
        "title": {
         "text": "Model Prediction: Total Quantity of Order"
        },
        "xaxis": {
         "title": {
          "text": "Time"
         }
        },
        "yaxis": {
         "title": {
          "text": "Order Number"
         }
        }
       }
      },
      "text/html": [
       "<div>                            <div id=\"bb050676-6283-477a-923a-7871dbce1429\" class=\"plotly-graph-div\" style=\"height:525px; width:100%;\"></div>            <script type=\"text/javascript\">                require([\"plotly\"], function(Plotly) {                    window.PLOTLYENV=window.PLOTLYENV || {};                                    if (document.getElementById(\"bb050676-6283-477a-923a-7871dbce1429\")) {                    Plotly.newPlot(                        \"bb050676-6283-477a-923a-7871dbce1429\",                        [{\"name\": \"Actual Order Number\", \"type\": \"scatter\", \"x\": [95, 96, 97, 98, 99, 100, 101, 102], \"y\": [123, 109, 99, 81, 51, 33, 10, 11]}, {\"name\": \"Predicted Order Number\", \"type\": \"scatter\", \"x\": [95, 96, 97, 98, 99, 100, 101, 102], \"y\": [242.11939573287964, 195.03823044896126, 197.44521671533585, 213.32523638010025, 190.14743307232857, 202.00453221797943, 197.34219390153885, 200.56366756558418]}],                        {\"template\": {\"data\": {\"bar\": [{\"error_x\": {\"color\": \"#2a3f5f\"}, \"error_y\": {\"color\": \"#2a3f5f\"}, \"marker\": {\"line\": {\"color\": \"white\", \"width\": 0.5}}, \"type\": \"bar\"}], \"barpolar\": [{\"marker\": {\"line\": {\"color\": \"white\", \"width\": 0.5}}, \"type\": \"barpolar\"}], \"carpet\": [{\"aaxis\": {\"endlinecolor\": \"#2a3f5f\", \"gridcolor\": \"#C8D4E3\", \"linecolor\": \"#C8D4E3\", \"minorgridcolor\": \"#C8D4E3\", \"startlinecolor\": \"#2a3f5f\"}, \"baxis\": {\"endlinecolor\": \"#2a3f5f\", \"gridcolor\": \"#C8D4E3\", \"linecolor\": \"#C8D4E3\", \"minorgridcolor\": \"#C8D4E3\", \"startlinecolor\": \"#2a3f5f\"}, \"type\": \"carpet\"}], \"choropleth\": [{\"colorbar\": {\"outlinewidth\": 0, \"ticks\": \"\"}, \"type\": \"choropleth\"}], \"contour\": [{\"colorbar\": {\"outlinewidth\": 0, \"ticks\": \"\"}, \"colorscale\": [[0.0, \"#0d0887\"], [0.1111111111111111, \"#46039f\"], [0.2222222222222222, \"#7201a8\"], [0.3333333333333333, \"#9c179e\"], [0.4444444444444444, \"#bd3786\"], [0.5555555555555556, \"#d8576b\"], [0.6666666666666666, \"#ed7953\"], [0.7777777777777778, \"#fb9f3a\"], [0.8888888888888888, \"#fdca26\"], [1.0, \"#f0f921\"]], \"type\": \"contour\"}], \"contourcarpet\": [{\"colorbar\": {\"outlinewidth\": 0, \"ticks\": \"\"}, \"type\": \"contourcarpet\"}], \"heatmap\": [{\"colorbar\": {\"outlinewidth\": 0, \"ticks\": \"\"}, \"colorscale\": [[0.0, \"#0d0887\"], [0.1111111111111111, \"#46039f\"], [0.2222222222222222, \"#7201a8\"], [0.3333333333333333, \"#9c179e\"], [0.4444444444444444, \"#bd3786\"], [0.5555555555555556, \"#d8576b\"], [0.6666666666666666, \"#ed7953\"], [0.7777777777777778, \"#fb9f3a\"], [0.8888888888888888, \"#fdca26\"], [1.0, \"#f0f921\"]], \"type\": \"heatmap\"}], \"heatmapgl\": [{\"colorbar\": {\"outlinewidth\": 0, \"ticks\": \"\"}, \"colorscale\": [[0.0, \"#0d0887\"], [0.1111111111111111, \"#46039f\"], [0.2222222222222222, \"#7201a8\"], [0.3333333333333333, \"#9c179e\"], [0.4444444444444444, \"#bd3786\"], [0.5555555555555556, \"#d8576b\"], [0.6666666666666666, \"#ed7953\"], [0.7777777777777778, \"#fb9f3a\"], [0.8888888888888888, \"#fdca26\"], [1.0, \"#f0f921\"]], \"type\": \"heatmapgl\"}], \"histogram\": [{\"marker\": {\"colorbar\": {\"outlinewidth\": 0, \"ticks\": \"\"}}, \"type\": \"histogram\"}], \"histogram2d\": [{\"colorbar\": {\"outlinewidth\": 0, \"ticks\": \"\"}, \"colorscale\": [[0.0, \"#0d0887\"], [0.1111111111111111, \"#46039f\"], [0.2222222222222222, \"#7201a8\"], [0.3333333333333333, \"#9c179e\"], [0.4444444444444444, \"#bd3786\"], [0.5555555555555556, \"#d8576b\"], [0.6666666666666666, \"#ed7953\"], [0.7777777777777778, \"#fb9f3a\"], [0.8888888888888888, \"#fdca26\"], [1.0, \"#f0f921\"]], \"type\": \"histogram2d\"}], \"histogram2dcontour\": [{\"colorbar\": {\"outlinewidth\": 0, \"ticks\": \"\"}, \"colorscale\": [[0.0, \"#0d0887\"], [0.1111111111111111, \"#46039f\"], [0.2222222222222222, \"#7201a8\"], [0.3333333333333333, \"#9c179e\"], [0.4444444444444444, \"#bd3786\"], [0.5555555555555556, \"#d8576b\"], [0.6666666666666666, \"#ed7953\"], [0.7777777777777778, \"#fb9f3a\"], [0.8888888888888888, \"#fdca26\"], [1.0, \"#f0f921\"]], \"type\": \"histogram2dcontour\"}], \"mesh3d\": [{\"colorbar\": {\"outlinewidth\": 0, \"ticks\": \"\"}, \"type\": \"mesh3d\"}], \"parcoords\": [{\"line\": {\"colorbar\": {\"outlinewidth\": 0, \"ticks\": \"\"}}, \"type\": \"parcoords\"}], \"pie\": [{\"automargin\": true, \"type\": \"pie\"}], \"scatter\": [{\"marker\": {\"colorbar\": {\"outlinewidth\": 0, \"ticks\": \"\"}}, \"type\": \"scatter\"}], \"scatter3d\": [{\"line\": {\"colorbar\": {\"outlinewidth\": 0, \"ticks\": \"\"}}, \"marker\": {\"colorbar\": {\"outlinewidth\": 0, \"ticks\": \"\"}}, \"type\": \"scatter3d\"}], \"scattercarpet\": [{\"marker\": {\"colorbar\": {\"outlinewidth\": 0, \"ticks\": \"\"}}, \"type\": \"scattercarpet\"}], \"scattergeo\": [{\"marker\": {\"colorbar\": {\"outlinewidth\": 0, \"ticks\": \"\"}}, \"type\": \"scattergeo\"}], \"scattergl\": [{\"marker\": {\"colorbar\": {\"outlinewidth\": 0, \"ticks\": \"\"}}, \"type\": \"scattergl\"}], \"scattermapbox\": [{\"marker\": {\"colorbar\": {\"outlinewidth\": 0, \"ticks\": \"\"}}, \"type\": \"scattermapbox\"}], \"scatterpolar\": [{\"marker\": {\"colorbar\": {\"outlinewidth\": 0, \"ticks\": \"\"}}, \"type\": \"scatterpolar\"}], \"scatterpolargl\": [{\"marker\": {\"colorbar\": {\"outlinewidth\": 0, \"ticks\": \"\"}}, \"type\": \"scatterpolargl\"}], \"scatterternary\": [{\"marker\": {\"colorbar\": {\"outlinewidth\": 0, \"ticks\": \"\"}}, \"type\": \"scatterternary\"}], \"surface\": [{\"colorbar\": {\"outlinewidth\": 0, \"ticks\": \"\"}, \"colorscale\": [[0.0, \"#0d0887\"], [0.1111111111111111, \"#46039f\"], [0.2222222222222222, \"#7201a8\"], [0.3333333333333333, \"#9c179e\"], [0.4444444444444444, \"#bd3786\"], [0.5555555555555556, \"#d8576b\"], [0.6666666666666666, \"#ed7953\"], [0.7777777777777778, \"#fb9f3a\"], [0.8888888888888888, \"#fdca26\"], [1.0, \"#f0f921\"]], \"type\": \"surface\"}], \"table\": [{\"cells\": {\"fill\": {\"color\": \"#EBF0F8\"}, \"line\": {\"color\": \"white\"}}, \"header\": {\"fill\": {\"color\": \"#C8D4E3\"}, \"line\": {\"color\": \"white\"}}, \"type\": \"table\"}]}, \"layout\": {\"annotationdefaults\": {\"arrowcolor\": \"#2a3f5f\", \"arrowhead\": 0, \"arrowwidth\": 1}, \"autotypenumbers\": \"strict\", \"coloraxis\": {\"colorbar\": {\"outlinewidth\": 0, \"ticks\": \"\"}}, \"colorscale\": {\"diverging\": [[0, \"#8e0152\"], [0.1, \"#c51b7d\"], [0.2, \"#de77ae\"], [0.3, \"#f1b6da\"], [0.4, \"#fde0ef\"], [0.5, \"#f7f7f7\"], [0.6, \"#e6f5d0\"], [0.7, \"#b8e186\"], [0.8, \"#7fbc41\"], [0.9, \"#4d9221\"], [1, \"#276419\"]], \"sequential\": [[0.0, \"#0d0887\"], [0.1111111111111111, \"#46039f\"], [0.2222222222222222, \"#7201a8\"], [0.3333333333333333, \"#9c179e\"], [0.4444444444444444, \"#bd3786\"], [0.5555555555555556, \"#d8576b\"], [0.6666666666666666, \"#ed7953\"], [0.7777777777777778, \"#fb9f3a\"], [0.8888888888888888, \"#fdca26\"], [1.0, \"#f0f921\"]], \"sequentialminus\": [[0.0, \"#0d0887\"], [0.1111111111111111, \"#46039f\"], [0.2222222222222222, \"#7201a8\"], [0.3333333333333333, \"#9c179e\"], [0.4444444444444444, \"#bd3786\"], [0.5555555555555556, \"#d8576b\"], [0.6666666666666666, \"#ed7953\"], [0.7777777777777778, \"#fb9f3a\"], [0.8888888888888888, \"#fdca26\"], [1.0, \"#f0f921\"]]}, \"colorway\": [\"#636efa\", \"#EF553B\", \"#00cc96\", \"#ab63fa\", \"#FFA15A\", \"#19d3f3\", \"#FF6692\", \"#B6E880\", \"#FF97FF\", \"#FECB52\"], \"font\": {\"color\": \"#2a3f5f\"}, \"geo\": {\"bgcolor\": \"white\", \"lakecolor\": \"white\", \"landcolor\": \"white\", \"showlakes\": true, \"showland\": true, \"subunitcolor\": \"#C8D4E3\"}, \"hoverlabel\": {\"align\": \"left\"}, \"hovermode\": \"closest\", \"mapbox\": {\"style\": \"light\"}, \"paper_bgcolor\": \"white\", \"plot_bgcolor\": \"white\", \"polar\": {\"angularaxis\": {\"gridcolor\": \"#EBF0F8\", \"linecolor\": \"#EBF0F8\", \"ticks\": \"\"}, \"bgcolor\": \"white\", \"radialaxis\": {\"gridcolor\": \"#EBF0F8\", \"linecolor\": \"#EBF0F8\", \"ticks\": \"\"}}, \"scene\": {\"xaxis\": {\"backgroundcolor\": \"white\", \"gridcolor\": \"#DFE8F3\", \"gridwidth\": 2, \"linecolor\": \"#EBF0F8\", \"showbackground\": true, \"ticks\": \"\", \"zerolinecolor\": \"#EBF0F8\"}, \"yaxis\": {\"backgroundcolor\": \"white\", \"gridcolor\": \"#DFE8F3\", \"gridwidth\": 2, \"linecolor\": \"#EBF0F8\", \"showbackground\": true, \"ticks\": \"\", \"zerolinecolor\": \"#EBF0F8\"}, \"zaxis\": {\"backgroundcolor\": \"white\", \"gridcolor\": \"#DFE8F3\", \"gridwidth\": 2, \"linecolor\": \"#EBF0F8\", \"showbackground\": true, \"ticks\": \"\", \"zerolinecolor\": \"#EBF0F8\"}}, \"shapedefaults\": {\"line\": {\"color\": \"#2a3f5f\"}}, \"ternary\": {\"aaxis\": {\"gridcolor\": \"#DFE8F3\", \"linecolor\": \"#A2B1C6\", \"ticks\": \"\"}, \"baxis\": {\"gridcolor\": \"#DFE8F3\", \"linecolor\": \"#A2B1C6\", \"ticks\": \"\"}, \"bgcolor\": \"white\", \"caxis\": {\"gridcolor\": \"#DFE8F3\", \"linecolor\": \"#A2B1C6\", \"ticks\": \"\"}}, \"title\": {\"x\": 0.05}, \"xaxis\": {\"automargin\": true, \"gridcolor\": \"#EBF0F8\", \"linecolor\": \"#EBF0F8\", \"ticks\": \"\", \"title\": {\"standoff\": 15}, \"zerolinecolor\": \"#EBF0F8\", \"zerolinewidth\": 2}, \"yaxis\": {\"automargin\": true, \"gridcolor\": \"#EBF0F8\", \"linecolor\": \"#EBF0F8\", \"ticks\": \"\", \"title\": {\"standoff\": 15}, \"zerolinecolor\": \"#EBF0F8\", \"zerolinewidth\": 2}}}, \"title\": {\"text\": \"Model Prediction: Total Quantity of Order\"}, \"xaxis\": {\"title\": {\"text\": \"Time\"}}, \"yaxis\": {\"title\": {\"text\": \"Order Number\"}}},                        {\"responsive\": true}                    ).then(function(){\n",
       "                            \n",
       "var gd = document.getElementById('bb050676-6283-477a-923a-7871dbce1429');\n",
       "var x = new MutationObserver(function (mutations, observer) {{\n",
       "        var display = window.getComputedStyle(gd).display;\n",
       "        if (!display || display === 'none') {{\n",
       "            console.log([gd, 'removed!']);\n",
       "            Plotly.purge(gd);\n",
       "            observer.disconnect();\n",
       "        }}\n",
       "}});\n",
       "\n",
       "// Listen for the removal of the full notebook cells\n",
       "var notebookContainer = gd.closest('#notebook-container');\n",
       "if (notebookContainer) {{\n",
       "    x.observe(notebookContainer, {childList: true});\n",
       "}}\n",
       "\n",
       "// Listen for the clearing of the current output cell\n",
       "var outputEl = gd.closest('.output');\n",
       "if (outputEl) {{\n",
       "    x.observe(outputEl, {childList: true});\n",
       "}}\n",
       "\n",
       "                        })                };                });            </script>        </div>"
      ]
     },
     "metadata": {},
     "output_type": "display_data"
    }
   ],
   "source": [
    "fig = go.Figure(layout = {'title': 'Model Prediction: Total Quantity of Order', \n",
    "                          'xaxis_title': 'Time', \n",
    "                          'yaxis_title': 'Order Number', \n",
    "                          'template': 'plotly_white'})\n",
    "fig.add_trace(go.Scatter(x = x, y = data_lstm['order number'][-8:], name = 'Actual Order Number'))\n",
    "fig.add_trace(go.Scatter(x = x, y = tol_pred['predicted'], name = 'Predicted Order Number'))\n",
    "fig.show()"
   ]
  },
  {
   "cell_type": "markdown",
   "id": "18927c3e",
   "metadata": {},
   "source": [
    "## Linear Regression"
   ]
  },
  {
   "cell_type": "code",
   "execution_count": 5,
   "id": "74eee448",
   "metadata": {},
   "outputs": [],
   "source": [
    "# data type\n",
    "nominal = ['sales_team', 'pol', 'pod', 'trans_mode', 'shipment_type', 'booking_system', \n",
    "           'cancel_status', 'final_sort_type', 'seller_type', 'gl_product_group_desc']\n",
    "interval = ['weight_kg', 'volume_cbm', 'lead_time', 'order number']"
   ]
  },
  {
   "cell_type": "code",
   "execution_count": 6,
   "id": "30465315",
   "metadata": {},
   "outputs": [],
   "source": [
    "# home\n",
    "data_lr_h = copy.deepcopy(home)\n",
    "\n",
    "dis_X_h = data_lr_h[nominal]\n",
    "con_X_h = data_lr_h[interval]\n",
    "\n",
    "for column in nominal:\n",
    "    data_lr_h[column] = pd.factorize(data_lr_h[column])[0]\n",
    "\n",
    "# kitchen\n",
    "data_lr_k = copy.deepcopy(kitchen)\n",
    "\n",
    "dis_X_k = data_lr_k[nominal]\n",
    "con_X_k = data_lr_k[interval]\n",
    "\n",
    "for column in nominal:\n",
    "    data_lr_k[column] = pd.factorize(data_lr_k[column])[0]\n",
    "\n",
    "# home improvement\n",
    "data_lr_hi = copy.deepcopy(hi)\n",
    "\n",
    "dis_X_hi = data_lr_hi[nominal]\n",
    "con_X_hi = data_lr_hi[interval]\n",
    "\n",
    "for column in nominal:\n",
    "    data_lr_hi[column] = pd.factorize(data_lr_hi[column])[0]\n",
    "\n",
    "# furniture\n",
    "data_lr_f = copy.deepcopy(furniture)\n",
    "\n",
    "dis_X_f = data_lr_f[nominal]\n",
    "con_X_f = data_lr_f[interval]\n",
    "\n",
    "for column in nominal:\n",
    "    data_lr_f[column] = pd.factorize(data_lr_f[column])[0]\n",
    "\n",
    "# others\n",
    "data_lr_o = copy.deepcopy(others)\n",
    "\n",
    "dis_X_o = data_lr_hi[nominal]\n",
    "con_X_o = data_lr_hi[interval]\n",
    "\n",
    "for column in nominal:\n",
    "    data_lr_o[column] = pd.factorize(data_lr_o[column])[0]\n",
    "\n",
    "# total\n",
    "data_lr = copy.deepcopy(data)\n",
    "\n",
    "dis_X = data_lr_hi[nominal]\n",
    "con_X = data_lr_hi[interval]\n",
    "\n",
    "for column in nominal:\n",
    "    data_lr[column] = pd.factorize(data_lr[column])[0]"
   ]
  },
  {
   "cell_type": "code",
   "execution_count": 7,
   "id": "ab9f1f2d",
   "metadata": {},
   "outputs": [
    {
     "name": "stdout",
     "output_type": "stream",
     "text": [
      "final formula is number ~ lead_time + pol + shipment_type + trans_mode + pod\n"
     ]
    }
   ],
   "source": [
    "# home\n",
    "X2h = data_lr_h.drop(['order number'], axis=1)\n",
    "y2h = data_lr_h['order number']\n",
    "X2h_train, X2h_test = X2h[:-8], X2h[-8:]\n",
    "y2h_train, y2h_test = y2h[:-8], y2h[-8:]\n",
    "\n",
    "# Linear Regression\n",
    "variate = ['sales_team', 'pol', 'pod', 'trans_mode', 'shipment_type', 'weight_kg', 'volume_cbm', \n",
    "           'booking_system', 'lead_time', 'cancel_status', 'final_sort_type', \n",
    "           'seller_type', 'gl_product_group_desc']\n",
    "selected = []\n",
    "current_score, best_new_score = float('inf'), float('inf')\n",
    "train_2h = X2h_train.copy()\n",
    "train_2h['number'] = y2h_train\n",
    "\n",
    "while variate:\n",
    "    aic_with_variate = []\n",
    "    for candidate in variate:\n",
    "        formulah = \"{} ~ {}\".format('number', \" + \".join(selected + [candidate]))\n",
    "        aic = smf.ols(formulah, train_2h).fit().aic\n",
    "        aic_with_variate.append((aic,candidate))\n",
    "    aic_with_variate.sort(reverse=True)\n",
    "    best_new_score, best_candidate = aic_with_variate.pop()\n",
    "    if current_score > best_new_score:\n",
    "        variate.remove(best_candidate)\n",
    "        selected.append(best_candidate)\n",
    "        current_score = best_new_score\n",
    "    else:\n",
    "        break\n",
    "        \n",
    "formulah = \"{} ~ {}\".format('number', \" + \".join(selected))\n",
    "print(\"final formula is {}\".format(formulah))\n",
    "\n",
    "# fit model\n",
    "lmh = smf.ols(formulah, train_2h).fit()"
   ]
  },
  {
   "cell_type": "code",
   "execution_count": 8,
   "id": "c5569d89",
   "metadata": {},
   "outputs": [
    {
     "name": "stdout",
     "output_type": "stream",
     "text": [
      "                predict_lmh  actual\n",
      "departure_date                     \n",
      "2021-10-31        22.896000      24\n",
      "2021-11-07        30.399054      19\n",
      "2021-11-14        22.600701      28\n",
      "2021-11-21        20.420468      20\n",
      "2021-11-28        13.834677      11\n",
      "2021-12-05         0.037980       8\n",
      "2021-12-12        18.995599       0\n",
      "2021-12-19         2.375022       1\n"
     ]
    }
   ],
   "source": [
    "# predict\n",
    "y2h_test_predict_lm = pd.DataFrame(lmh.predict(X2h_test))\n",
    "y2h_test_predict_lm.loc[y2h_test_predict_lm[0] < 0, 0] = 0\n",
    "y2h_test_predict_lm.rename(columns = {0:'predicted'})\n",
    "\n",
    "# results\n",
    "resulth = pd.concat([y2h_test_predict_lm, y2h_test], axis=1)\n",
    "resulth.columns = ['predict_lmh', 'actual']\n",
    "print(resulth)"
   ]
  },
  {
   "cell_type": "code",
   "execution_count": 9,
   "id": "03505f4d",
   "metadata": {},
   "outputs": [
    {
     "name": "stdout",
     "output_type": "stream",
     "text": [
      "final formula is number ~ pod + booking_system + weight_kg + seller_type + shipment_type\n"
     ]
    }
   ],
   "source": [
    "# kitchen\n",
    "X2k = data_lr_k.drop(['order number'], axis=1)\n",
    "y2k = data_lr_k['order number']\n",
    "X2k_train, X2k_test = X2k[:-8], X2k[-8:]\n",
    "y2k_train, y2k_test = y2k[:-8], y2k[-8:]\n",
    "\n",
    "# Linear Regression\n",
    "variate = ['sales_team', 'pol', 'pod', 'trans_mode', 'shipment_type', 'weight_kg', 'volume_cbm', \n",
    "           'booking_system', 'lead_time', 'cancel_status', 'final_sort_type', \n",
    "           'seller_type', 'gl_product_group_desc']\n",
    "selected = []\n",
    "current_score, best_new_score = float('inf'), float('inf')\n",
    "train_2k = X2k_train.copy()\n",
    "train_2k['number'] = y2k_train\n",
    "\n",
    "while variate:\n",
    "    aic_with_variate = []\n",
    "    for candidate in variate:\n",
    "        formulak = \"{} ~ {}\".format('number', \" + \".join(selected + [candidate]))\n",
    "        aic = smf.ols(formulak, train_2k).fit().aic\n",
    "        aic_with_variate.append((aic, candidate))\n",
    "    aic_with_variate.sort(reverse=True)\n",
    "    best_new_score, best_candidate = aic_with_variate.pop()\n",
    "    if current_score > best_new_score:\n",
    "        variate.remove(best_candidate)\n",
    "        selected.append(best_candidate)\n",
    "        current_score = best_new_score\n",
    "    else:\n",
    "        break\n",
    "        \n",
    "formulak = \"{} ~ {}\".format('number', \" + \".join(selected))\n",
    "print(\"final formula is {}\".format(formulak))\n",
    "\n",
    "# fit model\n",
    "lmk = smf.ols(formulak, train_2k).fit()"
   ]
  },
  {
   "cell_type": "code",
   "execution_count": 10,
   "id": "a9065433",
   "metadata": {},
   "outputs": [
    {
     "name": "stdout",
     "output_type": "stream",
     "text": [
      "                predict_lmk  actual\n",
      "departure_date                     \n",
      "2021-10-31         7.640575       9\n",
      "2021-11-07         6.278564      10\n",
      "2021-11-14         3.677482       6\n",
      "2021-11-21        10.552078       8\n",
      "2021-11-28         9.840976       3\n",
      "2021-12-05         6.321832       1\n",
      "2021-12-12         0.000000       0\n",
      "2021-12-19         0.000000       0\n"
     ]
    }
   ],
   "source": [
    "# predict\n",
    "y2k_test_predict_lm = pd.DataFrame(lmk.predict(X2k_test))\n",
    "y2k_test_predict_lm.loc[y2k_test_predict_lm[0] < 0, 0] = 0\n",
    "y2k_test_predict_lm.rename(columns = {0:'predicted'})\n",
    "\n",
    "# results\n",
    "resultk = pd.concat([y2k_test_predict_lm, y2k_test], axis=1)\n",
    "resultk.columns = ['predict_lmk', 'actual']\n",
    "print(resultk)"
   ]
  },
  {
   "cell_type": "code",
   "execution_count": 11,
   "id": "8dd280ab",
   "metadata": {},
   "outputs": [
    {
     "name": "stdout",
     "output_type": "stream",
     "text": [
      "final formula is number ~ lead_time + booking_system + final_sort_type + seller_type + pod + pol\n"
     ]
    }
   ],
   "source": [
    "# home improvement\n",
    "X2hi = data_lr_hi.drop(['order number'], axis=1)\n",
    "y2hi = data_lr_hi['order number']\n",
    "X2hi_train, X2hi_test = X2hi[:-8], X2hi[-8:]\n",
    "y2hi_train, y2hi_test = y2hi[:-8], y2hi[-8:]\n",
    "\n",
    "# Linear Regression\n",
    "variate = ['sales_team', 'pol', 'pod', 'trans_mode', 'shipment_type', 'weight_kg', 'volume_cbm', \n",
    "           'booking_system', 'lead_time', 'cancel_status', 'final_sort_type', \n",
    "           'seller_type', 'gl_product_group_desc']\n",
    "selected = []\n",
    "current_score, best_new_score = float('inf'), float('inf')\n",
    "train_2hi = X2hi_train.copy()\n",
    "train_2hi['number'] = y2hi_train\n",
    "\n",
    "while variate:\n",
    "    aic_with_variate = []\n",
    "    for candidate in variate:\n",
    "        formulahi = \"{} ~ {}\".format('number', \" + \".join(selected + [candidate]))\n",
    "        aic = smf.ols(formulahi, train_2hi).fit().aic\n",
    "        aic_with_variate.append((aic,candidate))\n",
    "    aic_with_variate.sort(reverse=True)\n",
    "    best_new_score, best_candidate = aic_with_variate.pop()\n",
    "    if current_score > best_new_score:\n",
    "        variate.remove(best_candidate)\n",
    "        selected.append(best_candidate)\n",
    "        current_score = best_new_score\n",
    "    else:\n",
    "        break\n",
    "        \n",
    "formulahi = \"{} ~ {}\".format('number', \" + \".join(selected))\n",
    "print(\"final formula is {}\".format(formulahi))\n",
    "\n",
    "# fit model\n",
    "lmhi = smf.ols(formulahi, train_2hi).fit()"
   ]
  },
  {
   "cell_type": "code",
   "execution_count": 14,
   "id": "f45b32b7",
   "metadata": {},
   "outputs": [
    {
     "name": "stdout",
     "output_type": "stream",
     "text": [
      "                predict_lmhi  actual\n",
      "departure_date                      \n",
      "2021-10-31          8.306070      14\n",
      "2021-11-07          9.524454      13\n",
      "2021-11-14          8.595317      10\n",
      "2021-11-21          5.135045       9\n",
      "2021-11-28          4.742019       5\n",
      "2021-12-05          0.972187       1\n",
      "2021-12-12         10.055219       1\n",
      "2021-12-19         10.908293       1\n"
     ]
    }
   ],
   "source": [
    "# predict\n",
    "y2hi_test_predict_lm = pd.DataFrame(lmhi.predict(X2hi_test))\n",
    "y2hi_test_predict_lm.loc[y2hi_test_predict_lm[0] < 0, 0] = 0\n",
    "y2hi_test_predict_lm.rename(columns = {0:'predicted'})\n",
    "\n",
    "# results\n",
    "resulthi = pd.concat([y2hi_test_predict_lm, y2hi_test], axis=1)\n",
    "resulthi.columns = ['predict_lmhi', 'actual']\n",
    "print(resulthi)"
   ]
  },
  {
   "cell_type": "code",
   "execution_count": 15,
   "id": "a4b81f86",
   "metadata": {},
   "outputs": [
    {
     "name": "stdout",
     "output_type": "stream",
     "text": [
      "final formula is number ~ lead_time + booking_system + seller_type + pod\n"
     ]
    }
   ],
   "source": [
    "# furniture\n",
    "X2f = data_lr_f.drop(['order number'], axis=1)\n",
    "y2f = data_lr_f['order number']\n",
    "X2f_train, X2f_test = X2f[:-8], X2f[-8:]\n",
    "y2f_train, y2f_test = y2f[:-8], y2f[-8:]\n",
    "\n",
    "# Linear Regression\n",
    "variate = ['sales_team', 'pol', 'pod', 'trans_mode', 'shipment_type', 'weight_kg', 'volume_cbm', \n",
    "           'booking_system', 'lead_time', 'cancel_status', 'final_sort_type', \n",
    "           'seller_type', 'gl_product_group_desc']\n",
    "selected = []\n",
    "current_score, best_new_score = float('inf'), float('inf')\n",
    "train_2f = X2f_train.copy()\n",
    "train_2f['number'] = y2f_train\n",
    "\n",
    "while variate:\n",
    "    aic_with_variate = []\n",
    "    for candidate in variate:\n",
    "        formulaf = \"{} ~ {}\".format('number', \" + \".join(selected + [candidate]))\n",
    "        aic = smf.ols(formulaf, train_2f).fit().aic\n",
    "        aic_with_variate.append((aic,candidate))\n",
    "    aic_with_variate.sort(reverse=True)\n",
    "    best_new_score, best_candidate = aic_with_variate.pop()\n",
    "    if current_score > best_new_score:\n",
    "        variate.remove(best_candidate)\n",
    "        selected.append(best_candidate)\n",
    "        current_score = best_new_score\n",
    "    else:\n",
    "        break\n",
    "        \n",
    "formulaf = \"{} ~ {}\".format('number', \" + \".join(selected))\n",
    "print(\"final formula is {}\".format(formulaf))\n",
    "\n",
    "# fit model\n",
    "lmf = smf.ols(formulaf, train_2f).fit()"
   ]
  },
  {
   "cell_type": "code",
   "execution_count": 16,
   "id": "df5c3cb9",
   "metadata": {},
   "outputs": [
    {
     "name": "stdout",
     "output_type": "stream",
     "text": [
      "                predict_lmf  actual\n",
      "departure_date                     \n",
      "2021-10-31         9.957716      13\n",
      "2021-11-07         5.546423       3\n",
      "2021-11-14         4.354243       4\n",
      "2021-11-21         4.992082       2\n",
      "2021-11-28         4.172003       4\n",
      "2021-12-05         3.971539       3\n",
      "2021-12-12         0.035323       0\n",
      "2021-12-19         5.923097       1\n"
     ]
    }
   ],
   "source": [
    "# predict\n",
    "y2f_test_predict_lm = pd.DataFrame(lmf.predict(X2f_test))\n",
    "y2f_test_predict_lm.loc[y2f_test_predict_lm[0] < 0, 0] = 0\n",
    "y2f_test_predict_lm.rename(columns = {0:'predicted'})\n",
    "\n",
    "# results\n",
    "resultf = pd.concat([y2f_test_predict_lm, y2f_test], axis=1)\n",
    "resultf.columns = ['predict_lmf', 'actual']\n",
    "print(resultf)"
   ]
  },
  {
   "cell_type": "code",
   "execution_count": 17,
   "id": "b61eaa0b",
   "metadata": {},
   "outputs": [
    {
     "name": "stdout",
     "output_type": "stream",
     "text": [
      "final formula is number ~ lead_time + booking_system + weight_kg + seller_type + shipment_type\n"
     ]
    }
   ],
   "source": [
    "# others\n",
    "X2o = data_lr_o.drop(['order number'], axis=1)\n",
    "y2o = data_lr_o['order number']\n",
    "X2o_train, X2o_test = X2o[:-8], X2o[-8:]\n",
    "y2o_train, y2o_test = y2o[:-8], y2o[-8:]\n",
    "\n",
    "# Linear Regression\n",
    "variate = ['sales_team', 'pol', 'pod', 'trans_mode', 'shipment_type', 'weight_kg', 'volume_cbm', \n",
    "           'booking_system', 'lead_time', 'cancel_status', 'final_sort_type', \n",
    "           'seller_type', 'gl_product_group_desc']\n",
    "selected = []\n",
    "current_score, best_new_score = float('inf'), float('inf')\n",
    "train_2o = X2o_train.copy()\n",
    "train_2o['number'] = y2o_train\n",
    "\n",
    "while variate:\n",
    "    aic_with_variate = []\n",
    "    for candidate in variate:\n",
    "        formulao = \"{} ~ {}\".format('number', \" + \".join(selected + [candidate]))\n",
    "        aic = smf.ols(formulao, train_2o).fit().aic\n",
    "        aic_with_variate.append((aic,candidate))\n",
    "    aic_with_variate.sort(reverse=True)\n",
    "    best_new_score, best_candidate = aic_with_variate.pop()\n",
    "    if current_score > best_new_score:\n",
    "        variate.remove(best_candidate)\n",
    "        selected.append(best_candidate)\n",
    "        current_score = best_new_score\n",
    "    else:\n",
    "        break\n",
    "        \n",
    "formulao = \"{} ~ {}\".format('number', \" + \".join(selected))\n",
    "print(\"final formula is {}\".format(formulao))\n",
    "\n",
    "# fit model\n",
    "lmo = smf.ols(formulao, train_2o).fit()"
   ]
  },
  {
   "cell_type": "code",
   "execution_count": 18,
   "id": "fdf701ac",
   "metadata": {},
   "outputs": [
    {
     "name": "stdout",
     "output_type": "stream",
     "text": [
      "                predict_lmo  actual\n",
      "departure_date                     \n",
      "2021-10-31        54.244060      63\n",
      "2021-11-07        55.552716      64\n",
      "2021-11-14        50.696575      51\n",
      "2021-11-21        30.431736      42\n",
      "2021-11-28        29.371208      28\n",
      "2021-12-05        23.256177      20\n",
      "2021-12-12        10.572897       9\n",
      "2021-12-19        12.359308       8\n"
     ]
    }
   ],
   "source": [
    "# predict\n",
    "y2o_test_predict_lm = pd.DataFrame(lmo.predict(X2o_test))\n",
    "y2o_test_predict_lm.loc[y2o_test_predict_lm[0] < 0, 0] = 0\n",
    "y2o_test_predict_lm.rename(columns = {0:'predicted'})\n",
    "\n",
    "# results\n",
    "resulto = pd.concat([y2o_test_predict_lm, y2o_test], axis=1)\n",
    "resulto.columns = ['predict_lmo', 'actual']\n",
    "print(resulto)"
   ]
  },
  {
   "cell_type": "code",
   "execution_count": 19,
   "id": "ec436187",
   "metadata": {},
   "outputs": [
    {
     "data": {
      "text/html": [
       "<div>\n",
       "<style scoped>\n",
       "    .dataframe tbody tr th:only-of-type {\n",
       "        vertical-align: middle;\n",
       "    }\n",
       "\n",
       "    .dataframe tbody tr th {\n",
       "        vertical-align: top;\n",
       "    }\n",
       "\n",
       "    .dataframe thead th {\n",
       "        text-align: right;\n",
       "    }\n",
       "</style>\n",
       "<table border=\"1\" class=\"dataframe\">\n",
       "  <thead>\n",
       "    <tr style=\"text-align: right;\">\n",
       "      <th></th>\n",
       "      <th>predicted</th>\n",
       "      <th>actual</th>\n",
       "    </tr>\n",
       "    <tr>\n",
       "      <th>departure_date</th>\n",
       "      <th></th>\n",
       "      <th></th>\n",
       "    </tr>\n",
       "  </thead>\n",
       "  <tbody>\n",
       "    <tr>\n",
       "      <th>2021-10-31</th>\n",
       "      <td>103.044421</td>\n",
       "      <td>123</td>\n",
       "    </tr>\n",
       "    <tr>\n",
       "      <th>2021-11-07</th>\n",
       "      <td>107.301211</td>\n",
       "      <td>109</td>\n",
       "    </tr>\n",
       "    <tr>\n",
       "      <th>2021-11-14</th>\n",
       "      <td>89.924318</td>\n",
       "      <td>99</td>\n",
       "    </tr>\n",
       "    <tr>\n",
       "      <th>2021-11-21</th>\n",
       "      <td>71.531410</td>\n",
       "      <td>81</td>\n",
       "    </tr>\n",
       "    <tr>\n",
       "      <th>2021-11-28</th>\n",
       "      <td>61.960882</td>\n",
       "      <td>51</td>\n",
       "    </tr>\n",
       "    <tr>\n",
       "      <th>2021-12-05</th>\n",
       "      <td>34.559714</td>\n",
       "      <td>33</td>\n",
       "    </tr>\n",
       "    <tr>\n",
       "      <th>2021-12-12</th>\n",
       "      <td>39.659038</td>\n",
       "      <td>10</td>\n",
       "    </tr>\n",
       "    <tr>\n",
       "      <th>2021-12-19</th>\n",
       "      <td>31.565720</td>\n",
       "      <td>11</td>\n",
       "    </tr>\n",
       "  </tbody>\n",
       "</table>\n",
       "</div>"
      ],
      "text/plain": [
       "                 predicted  actual\n",
       "departure_date                    \n",
       "2021-10-31      103.044421     123\n",
       "2021-11-07      107.301211     109\n",
       "2021-11-14       89.924318      99\n",
       "2021-11-21       71.531410      81\n",
       "2021-11-28       61.960882      51\n",
       "2021-12-05       34.559714      33\n",
       "2021-12-12       39.659038      10\n",
       "2021-12-19       31.565720      11"
      ]
     },
     "execution_count": 19,
     "metadata": {},
     "output_type": "execute_result"
    }
   ],
   "source": [
    "# total error analysis\n",
    "result_tol = pd.DataFrame()\n",
    "result_tol['predicted'] = resulth['predict_lmh'] + resultk['predict_lmk'] + resulthi['predict_lmhi'] \\\n",
    "                            + resultf['predict_lmf'] + resulto['predict_lmo']\n",
    "result_tol['actual'] = resulth['actual'] + resultk['actual'] + resulthi['actual'] \\\n",
    "                            + resultf['actual'] + resulto['actual']\n",
    "result_tol"
   ]
  },
  {
   "cell_type": "code",
   "execution_count": 20,
   "id": "b0e9c6c1",
   "metadata": {},
   "outputs": [
    {
     "name": "stdout",
     "output_type": "stream",
     "text": [
      "Linear Regression: \n",
      "rmse value for total order number is:  15.804723403478558\n",
      "mae value for total order number is:  12.867999295658059\n"
     ]
    }
   ],
   "source": [
    "# total rmse & mae\n",
    "print('Linear Regression: ')\n",
    "print('rmse value for total order number is: ', \n",
    "      np.sqrt(mean_squared_error(result_tol['predicted'], result_tol['actual'])))\n",
    "print('mae value for total order number is: ', \n",
    "      mean_absolute_error(result_tol['predicted'], result_tol['actual']))"
   ]
  },
  {
   "cell_type": "code",
   "execution_count": 21,
   "id": "d51630b4",
   "metadata": {},
   "outputs": [
    {
     "data": {
      "image/png": "[encoded data removed]",
      "text/plain": [
       "<Figure size 720x360 with 1 Axes>"
      ]
     },
     "metadata": {},
     "output_type": "display_data"
    }
   ],
   "source": [
    "# linear regression result\n",
    "result_tol.rename(columns = {'predicted':'predicted: order number', 'actual':'actual: order number'}, inplace = True)\n",
    "\n",
    "sns.set(style = 'whitegrid')\n",
    "plt.figure(figsize=(10, 5))\n",
    "plt.rc('legend', fontsize=14)\n",
    "plt.xlabel('Time')\n",
    "plt.ylabel('Order Number')\n",
    "plt.title('Linear Regression: Total Quantity of Order Prediction')\n",
    "sns.lineplot(data = result_tol)\n",
    "plt.show()"
   ]
  },
  {
   "cell_type": "markdown",
   "id": "79dd116c",
   "metadata": {},
   "source": [
    "## Random Forest"
   ]
  },
  {
   "cell_type": "code",
   "execution_count": 324,
   "id": "5c1b2d50",
   "metadata": {},
   "outputs": [],
   "source": [
    "data_rf_h = copy.deepcopy(data_lr_h)\n",
    "data_rf_k = copy.deepcopy(data_lr_k)\n",
    "data_rf_hi = copy.deepcopy(data_lr_hi)\n",
    "data_rf_f = copy.deepcopy(data_lr_f)\n",
    "data_rf_o = copy.deepcopy(data_lr_o)\n",
    "data_rf = copy.deepcopy(data_lr)"
   ]
  },
  {
   "cell_type": "code",
   "execution_count": 325,
   "id": "8cbbaa17",
   "metadata": {},
   "outputs": [
    {
     "name": "stdout",
     "output_type": "stream",
     "text": [
      "Best: -51.590962 using {'max_features': 3, 'n_estimators': 200}\n"
     ]
    },
    {
     "data": {
      "text/plain": [
       "RandomForestRegressor(max_features=3, n_estimators=200)"
      ]
     },
     "execution_count": 325,
     "metadata": {},
     "output_type": "execute_result"
    }
   ],
   "source": [
    "# home\n",
    "X3h = data_rf_h.drop(['order number'], axis=1)\n",
    "y3h = data_rf_h['order number']\n",
    "X3h_train, X3h_test = X3h[:-8], X3h[-8:]\n",
    "y3h_train, y3h_test = y3h[:-8], y3h[-8:]\n",
    "\n",
    "# Random Forest\n",
    "kflodh = KFold(n_splits=10, shuffle = True, random_state=7)\n",
    "\n",
    "n_estimators = [50,100,200,400]\n",
    "max_features= np.arange(3, X3h_train.shape[1], 3)\n",
    "param_grid = dict(n_estimators=n_estimators, max_features=max_features)\n",
    "\n",
    "grid_search = GridSearchCV(RandomForestRegressor(), param_grid, scoring = 'neg_mean_squared_error', \n",
    "                           n_jobs = -1, cv = kflodh)\n",
    "grid_result = grid_search.fit(X3h_train, y3h_train)\n",
    "print(\"Best: %f using %s\" % (grid_result.best_score_, grid_search.best_params_))\n",
    "\n",
    "# fit model\n",
    "best = pd.DataFrame(grid_search.best_params_,index=range(1))\n",
    "rfrh = RandomForestRegressor(max_features=best.iloc[0,0], n_estimators=best.iloc[0,1])\n",
    "rfrh.fit(X3h_train,y3h_train)"
   ]
  },
  {
   "cell_type": "code",
   "execution_count": 327,
   "id": "4a89c7dc",
   "metadata": {},
   "outputs": [
    {
     "name": "stdout",
     "output_type": "stream",
     "text": [
      "                predict_lm  predict_rf  actual\n",
      "departure_date                                \n",
      "2021-10-31       22.896000      22.510      24\n",
      "2021-11-07       30.399054      27.300      19\n",
      "2021-11-14       22.600701      23.065      28\n",
      "2021-11-21       20.420468      24.215      20\n",
      "2021-11-28       13.834677      15.050      11\n",
      "2021-12-05        0.037980       5.195       8\n",
      "2021-12-12       18.995599       7.440       0\n",
      "2021-12-19        2.375022       3.860       1\n"
     ]
    }
   ],
   "source": [
    "#predict\n",
    "y3h_test_predict_rf = rfrh.predict(X3h_test)\n",
    "\n",
    "# results\n",
    "y3h_test_predict_rf = pd.Series(y3h_test_predict_rf.tolist(), index=y3h_test.index)\n",
    "result2h = pd.concat([y2h_test_predict_lm, y3h_test_predict_rf, y3h_test], axis=1)\n",
    "result2h.columns = ['predict_lm', 'predict_rf', 'actual']\n",
    "print(result2h)"
   ]
  },
  {
   "cell_type": "code",
   "execution_count": 328,
   "id": "2a081b0a",
   "metadata": {},
   "outputs": [
    {
     "name": "stdout",
     "output_type": "stream",
     "text": [
      "Best: -13.261123 using {'max_features': 3, 'n_estimators': 200}\n"
     ]
    },
    {
     "data": {
      "text/plain": [
       "RandomForestRegressor(max_features=3, n_estimators=200)"
      ]
     },
     "execution_count": 328,
     "metadata": {},
     "output_type": "execute_result"
    }
   ],
   "source": [
    "# kitchen\n",
    "X3k = data_rf_k.drop(['order number'], axis=1)\n",
    "y3k = data_rf_k['order number']\n",
    "X3k_train, X3k_test = X3k[:-8], X3k[-8:]\n",
    "y3k_train, y3k_test = y3k[:-8], y3k[-8:]\n",
    "\n",
    "# Random Forest\n",
    "kflodk = KFold(n_splits=10, shuffle = True, random_state=7)\n",
    "\n",
    "n_estimators = [50,100,200,400]\n",
    "max_features= np.arange(3, X3k_train.shape[1], 3)\n",
    "param_grid = dict(n_estimators=n_estimators, max_features=max_features)\n",
    "\n",
    "grid_search = GridSearchCV(RandomForestRegressor(), param_grid, scoring = 'neg_mean_squared_error', \n",
    "                           n_jobs = -1, cv = kflodk)\n",
    "grid_result = grid_search.fit(X3k_train, y3k_train)\n",
    "print(\"Best: %f using %s\" % (grid_result.best_score_, grid_search.best_params_))\n",
    "\n",
    "# fit model\n",
    "best = pd.DataFrame(grid_search.best_params_,index=range(1))\n",
    "rfrk = RandomForestRegressor(max_features=best.iloc[0,0], n_estimators=best.iloc[0,1])\n",
    "rfrk.fit(X3k_train,y3k_train)"
   ]
  },
  {
   "cell_type": "code",
   "execution_count": 330,
   "id": "60ff6a3f",
   "metadata": {},
   "outputs": [
    {
     "name": "stdout",
     "output_type": "stream",
     "text": [
      "                predict_lm  predict_rf  actual\n",
      "departure_date                                \n",
      "2021-10-31        7.640575    9.390000       9\n",
      "2021-11-07        6.278564    9.380000      10\n",
      "2021-11-14        3.677482    5.215000       6\n",
      "2021-11-21       10.552078    8.018333       8\n",
      "2021-11-28        9.840976    5.405000       3\n",
      "2021-12-05        6.321832    4.740000       1\n",
      "2021-12-12       -0.091024    0.010000       0\n",
      "2021-12-19       -0.091024    0.010000       0\n"
     ]
    }
   ],
   "source": [
    "#predict\n",
    "y3k_test_predict_rf = rfrk.predict(X3k_test)\n",
    "\n",
    "# results\n",
    "y3k_test_predict_rf = pd.Series(y3k_test_predict_rf.tolist(), index=y3k_test.index)\n",
    "result2k = pd.concat([y2k_test_predict_lm, y3k_test_predict_rf, y3k_test], axis=1)\n",
    "result2k.columns = ['predict_lm', 'predict_rf', 'actual']\n",
    "print(result2k)"
   ]
  },
  {
   "cell_type": "code",
   "execution_count": 331,
   "id": "101d5c70",
   "metadata": {},
   "outputs": [
    {
     "name": "stdout",
     "output_type": "stream",
     "text": [
      "Best: -10.042403 using {'max_features': 3, 'n_estimators': 200}\n"
     ]
    },
    {
     "data": {
      "text/plain": [
       "RandomForestRegressor(max_features=3, n_estimators=200)"
      ]
     },
     "execution_count": 331,
     "metadata": {},
     "output_type": "execute_result"
    }
   ],
   "source": [
    "# home improvement\n",
    "X3hi = data_rf_hi.drop(['order number'], axis=1)\n",
    "y3hi = data_rf_hi['order number']\n",
    "X3hi_train, X3hi_test = X3hi[:-8], X3hi[-8:]\n",
    "y3hi_train, y3hi_test = y3hi[:-8], y3hi[-8:]\n",
    "\n",
    "# Random Forest\n",
    "kflodhi = KFold(n_splits=10, shuffle = True, random_state=7)\n",
    "\n",
    "n_estimators = [50,100,200,400]\n",
    "max_features= np.arange(3, X3hi_train.shape[1], 3)\n",
    "param_grid = dict(n_estimators=n_estimators, max_features=max_features)\n",
    "\n",
    "grid_search = GridSearchCV(RandomForestRegressor(), param_grid, scoring = 'neg_mean_squared_error', \n",
    "                           n_jobs = -1, cv = kflodhi)\n",
    "grid_result = grid_search.fit(X3hi_train, y3hi_train)\n",
    "print(\"Best: %f using %s\" % (grid_result.best_score_, grid_search.best_params_))\n",
    "\n",
    "# fit model\n",
    "best = pd.DataFrame(grid_search.best_params_,index=range(1))\n",
    "rfrhi = RandomForestRegressor(max_features=best.iloc[0,0], n_estimators=best.iloc[0,1])\n",
    "rfrhi.fit(X3hi_train,y3hi_train)"
   ]
  },
  {
   "cell_type": "code",
   "execution_count": 332,
   "id": "9cbe06ff",
   "metadata": {},
   "outputs": [
    {
     "name": "stdout",
     "output_type": "stream",
     "text": [
      "                predict_lm  predict_rf  actual\n",
      "departure_date                                \n",
      "2021-10-31        8.306070       9.690      14\n",
      "2021-11-07        9.524454      10.470      13\n",
      "2021-11-14        8.595317       8.955      10\n",
      "2021-11-21        5.135045       6.730       9\n",
      "2021-11-28        4.742019       5.480       5\n",
      "2021-12-05        0.972187       3.450       1\n",
      "2021-12-12       10.055219       4.575       1\n",
      "2021-12-19       10.908293       4.390       1\n"
     ]
    }
   ],
   "source": [
    "#predict\n",
    "y3hi_test_predict_rf = rfrhi.predict(X3hi_test)\n",
    "\n",
    "# results\n",
    "y3hi_test_predict_rf = pd.Series(y3hi_test_predict_rf.tolist(), index=y3hi_test.index)\n",
    "result2hi = pd.concat([y2hi_test_predict_lm, y3hi_test_predict_rf, y3hi_test], axis=1)\n",
    "result2hi.columns = ['predict_lm', 'predict_rf', 'actual']\n",
    "print(result2hi)"
   ]
  },
  {
   "cell_type": "code",
   "execution_count": 333,
   "id": "a4a08125",
   "metadata": {},
   "outputs": [
    {
     "name": "stdout",
     "output_type": "stream",
     "text": [
      "Best: -7.561042 using {'max_features': 6, 'n_estimators': 400}\n"
     ]
    },
    {
     "data": {
      "text/plain": [
       "RandomForestRegressor(max_features=6, n_estimators=400)"
      ]
     },
     "execution_count": 333,
     "metadata": {},
     "output_type": "execute_result"
    }
   ],
   "source": [
    "# furniture\n",
    "X3f = data_rf_f.drop(['order number'], axis=1)\n",
    "y3f = data_rf_f['order number']\n",
    "X3f_train, X3f_test = X3f[:-8], X3f[-8:]\n",
    "y3f_train, y3f_test = y3f[:-8], y3f[-8:]\n",
    "\n",
    "# Random Forest\n",
    "kflodf = KFold(n_splits=10, shuffle = True, random_state=7)\n",
    "\n",
    "n_estimators = [50,100,200,400]\n",
    "max_features= np.arange(3, X3f_train.shape[1], 3)\n",
    "param_grid = dict(n_estimators=n_estimators, max_features=max_features)\n",
    "\n",
    "grid_search = GridSearchCV(RandomForestRegressor(), param_grid, scoring = 'neg_mean_squared_error', \n",
    "                           n_jobs = -1, cv = kflodf)\n",
    "grid_result = grid_search.fit(X3f_train, y3f_train)\n",
    "print(\"Best: %f using %s\" % (grid_result.best_score_, grid_search.best_params_))\n",
    "\n",
    "# fit model\n",
    "best = pd.DataFrame(grid_search.best_params_,index=range(1))\n",
    "rfrf = RandomForestRegressor(max_features=best.iloc[0,0], n_estimators=best.iloc[0,1])\n",
    "rfrf.fit(X3f_train,y3f_train)"
   ]
  },
  {
   "cell_type": "code",
   "execution_count": 334,
   "id": "5dc2e106",
   "metadata": {},
   "outputs": [
    {
     "name": "stdout",
     "output_type": "stream",
     "text": [
      "                predict_lm  predict_rf  actual\n",
      "departure_date                                \n",
      "2021-10-31        9.957716      9.3350      13\n",
      "2021-11-07        5.546423      6.6200       3\n",
      "2021-11-14        4.354243      3.9150       4\n",
      "2021-11-21        4.992082      6.3375       2\n",
      "2021-11-28        4.172003      3.7050       4\n",
      "2021-12-05        3.971539      2.6775       3\n",
      "2021-12-12        0.035323      0.0000       0\n",
      "2021-12-19        5.923097      4.3000       1\n"
     ]
    }
   ],
   "source": [
    "#predict\n",
    "y3f_test_predict_rf = rfrf.predict(X3f_test)\n",
    "\n",
    "# results\n",
    "y3f_test_predict_rf = pd.Series(y3f_test_predict_rf.tolist(), index=y3f_test.index)\n",
    "result2f = pd.concat([y2f_test_predict_lm, y3f_test_predict_rf, y3f_test], axis=1)\n",
    "result2f.columns = ['predict_lm', 'predict_rf', 'actual']\n",
    "print(result2f)"
   ]
  },
  {
   "cell_type": "code",
   "execution_count": 335,
   "id": "0812f6de",
   "metadata": {},
   "outputs": [
    {
     "name": "stdout",
     "output_type": "stream",
     "text": [
      "Best: -209.224911 using {'max_features': 3, 'n_estimators': 50}\n"
     ]
    },
    {
     "data": {
      "text/plain": [
       "RandomForestRegressor(max_features=3, n_estimators=50)"
      ]
     },
     "execution_count": 335,
     "metadata": {},
     "output_type": "execute_result"
    }
   ],
   "source": [
    "# others\n",
    "X3o = data_rf_o.drop(['order number'], axis=1)\n",
    "y3o = data_rf_o['order number']\n",
    "X3o_train, X3o_test = X3o[:-8], X3o[-8:]\n",
    "y3o_train, y3o_test = y3o[:-8], y3o[-8:]\n",
    "\n",
    "# Random Forest\n",
    "kflodo = KFold(n_splits=10, shuffle = True, random_state=7)\n",
    "\n",
    "n_estimators = [50,100,200,400]\n",
    "max_features= np.arange(3, X3o_train.shape[1], 3)\n",
    "param_grid = dict(n_estimators=n_estimators, max_features=max_features)\n",
    "\n",
    "grid_search = GridSearchCV(RandomForestRegressor(), param_grid, scoring = 'neg_mean_squared_error', \n",
    "                           n_jobs = -1, cv = kflodo)\n",
    "grid_result = grid_search.fit(X3o_train, y3o_train)\n",
    "print(\"Best: %f using %s\" % (grid_result.best_score_, grid_search.best_params_))\n",
    "\n",
    "# fit model\n",
    "best = pd.DataFrame(grid_search.best_params_,index=range(1))\n",
    "rfro = RandomForestRegressor(max_features=best.iloc[0,0], n_estimators=best.iloc[0,1])\n",
    "rfro.fit(X3o_train,y3o_train)"
   ]
  },
  {
   "cell_type": "code",
   "execution_count": 336,
   "id": "4326ef22",
   "metadata": {},
   "outputs": [
    {
     "name": "stdout",
     "output_type": "stream",
     "text": [
      "                predict_lm  predict_rf  actual\n",
      "departure_date                                \n",
      "2021-10-31       54.244060       55.66      63\n",
      "2021-11-07       55.552716       58.64      64\n",
      "2021-11-14       50.696575       49.88      51\n",
      "2021-11-21       30.431736       45.36      42\n",
      "2021-11-28       29.371208       30.68      28\n",
      "2021-12-05       23.256177       25.82      20\n",
      "2021-12-12       10.572897       16.38       9\n",
      "2021-12-19       12.359308       32.56       8\n"
     ]
    }
   ],
   "source": [
    "#predict\n",
    "y3o_test_predict_rf = rfro.predict(X3o_test)\n",
    "\n",
    "# results\n",
    "y3o_test_predict_rf = pd.Series(y3o_test_predict_rf.tolist(), index=y3o_test.index)\n",
    "result2o = pd.concat([y2o_test_predict_lm, y3o_test_predict_rf, y3o_test], axis=1)\n",
    "result2o.columns = ['predict_lm', 'predict_rf', 'actual']\n",
    "print(result2o)"
   ]
  },
  {
   "cell_type": "code",
   "execution_count": 340,
   "id": "76d4d11f",
   "metadata": {},
   "outputs": [
    {
     "data": {
      "text/html": [
       "<div>\n",
       "<style scoped>\n",
       "    .dataframe tbody tr th:only-of-type {\n",
       "        vertical-align: middle;\n",
       "    }\n",
       "\n",
       "    .dataframe tbody tr th {\n",
       "        vertical-align: top;\n",
       "    }\n",
       "\n",
       "    .dataframe thead th {\n",
       "        text-align: right;\n",
       "    }\n",
       "</style>\n",
       "<table border=\"1\" class=\"dataframe\">\n",
       "  <thead>\n",
       "    <tr style=\"text-align: right;\">\n",
       "      <th></th>\n",
       "      <th>predicted</th>\n",
       "      <th>actual</th>\n",
       "    </tr>\n",
       "    <tr>\n",
       "      <th>departure_date</th>\n",
       "      <th></th>\n",
       "      <th></th>\n",
       "    </tr>\n",
       "  </thead>\n",
       "  <tbody>\n",
       "    <tr>\n",
       "      <th>2021-10-31</th>\n",
       "      <td>106.585000</td>\n",
       "      <td>123</td>\n",
       "    </tr>\n",
       "    <tr>\n",
       "      <th>2021-11-07</th>\n",
       "      <td>112.410000</td>\n",
       "      <td>109</td>\n",
       "    </tr>\n",
       "    <tr>\n",
       "      <th>2021-11-14</th>\n",
       "      <td>91.030000</td>\n",
       "      <td>99</td>\n",
       "    </tr>\n",
       "    <tr>\n",
       "      <th>2021-11-21</th>\n",
       "      <td>90.660833</td>\n",
       "      <td>81</td>\n",
       "    </tr>\n",
       "    <tr>\n",
       "      <th>2021-11-28</th>\n",
       "      <td>60.320000</td>\n",
       "      <td>51</td>\n",
       "    </tr>\n",
       "    <tr>\n",
       "      <th>2021-12-05</th>\n",
       "      <td>41.882500</td>\n",
       "      <td>33</td>\n",
       "    </tr>\n",
       "    <tr>\n",
       "      <th>2021-12-12</th>\n",
       "      <td>28.405000</td>\n",
       "      <td>10</td>\n",
       "    </tr>\n",
       "    <tr>\n",
       "      <th>2021-12-19</th>\n",
       "      <td>45.120000</td>\n",
       "      <td>11</td>\n",
       "    </tr>\n",
       "  </tbody>\n",
       "</table>\n",
       "</div>"
      ],
      "text/plain": [
       "                 predicted  actual\n",
       "departure_date                    \n",
       "2021-10-31      106.585000     123\n",
       "2021-11-07      112.410000     109\n",
       "2021-11-14       91.030000      99\n",
       "2021-11-21       90.660833      81\n",
       "2021-11-28       60.320000      51\n",
       "2021-12-05       41.882500      33\n",
       "2021-12-12       28.405000      10\n",
       "2021-12-19       45.120000      11"
      ]
     },
     "execution_count": 340,
     "metadata": {},
     "output_type": "execute_result"
    }
   ],
   "source": [
    "# total error analysis\n",
    "result2_tol = pd.DataFrame()\n",
    "result2_tol['predicted'] = result2h['predict_rf'] + result2k['predict_rf'] + result2hi['predict_rf'] \\\n",
    "                            + result2f['predict_rf'] + result2o['predict_rf']\n",
    "result2_tol['actual'] = result2h['actual'] + result2k['actual'] + result2hi['actual'] \\\n",
    "                            + result2f['actual'] + result2o['actual']\n",
    "result2_tol"
   ]
  },
  {
   "cell_type": "code",
   "execution_count": 341,
   "id": "278d29ac",
   "metadata": {},
   "outputs": [
    {
     "name": "stdout",
     "output_type": "stream",
     "text": [
      "Random Forest: \n",
      "rmse value for total order number is:  16.22734018926255\n",
      "mae value for total order number is:  13.522916666666665\n"
     ]
    }
   ],
   "source": [
    "# total rmse & mae\n",
    "print('Random Forest: ')\n",
    "print('rmse value for total order number is: ', \n",
    "      np.sqrt(mean_squared_error(result2_tol['predicted'], result2_tol['actual'])))\n",
    "print('mae value for total order number is: ', \n",
    "      mean_absolute_error(result2_tol['predicted'], result2_tol['actual']))"
   ]
  },
  {
   "cell_type": "code",
   "execution_count": 343,
   "id": "c3f11ac7",
   "metadata": {},
   "outputs": [
    {
     "data": {
      "image/png": "[encoded data removed]",
      "text/plain": [
       "<Figure size 720x360 with 1 Axes>"
      ]
     },
     "metadata": {},
     "output_type": "display_data"
    }
   ],
   "source": [
    "# random forest result\n",
    "result2_tol.rename(columns = {'predicted':'predicted: order number', 'actual':'actual: order number'}, inplace = True)\n",
    "\n",
    "sns.set(style = 'whitegrid')\n",
    "plt.figure(figsize=(10, 5))\n",
    "plt.rc('legend', fontsize=14)\n",
    "plt.xlabel('Time')\n",
    "plt.ylabel('Order Number')\n",
    "plt.title('Random Forest: Total Quantity of Order Prediction')\n",
    "sns.lineplot(data = result2_tol)\n",
    "plt.show()"
   ]
  },
  {
   "cell_type": "markdown",
   "id": "e6533fac",
   "metadata": {},
   "source": [
    "## ARIMAX"
   ]
  },
  {
   "cell_type": "markdown",
   "id": "de76a7cd",
   "metadata": {},
   "source": [
    "Check R file 'ARIMAX-C.Rmd' for reference"
   ]
  },
  {
   "cell_type": "code",
   "execution_count": 344,
   "id": "d2e1d0b0",
   "metadata": {},
   "outputs": [],
   "source": [
    "home_x = home\n",
    "kitchen_x = kitchen\n",
    "hi_x = hi\n",
    "furniture_x = furniture\n",
    "others_x = others\n",
    "total_x = data\n",
    "\n",
    "# write time series data to csv\n",
    "'''\n",
    "home_x.to_csv('home_x.csv', header = True)\n",
    "kitchen_x.to_csv('kitchen_x.csv', header = True)\n",
    "hi_x.to_csv('hi_x.csv', header = True)\n",
    "furniture_x.to_csv('furniture_x.csv', header = True)\n",
    "others_x.to_csv('others_x.csv', header = True)\n",
    "'''"
   ]
  }
 ],
 "metadata": {
  "kernelspec": {
   "display_name": "Python 3 (ipykernel)",
   "language": "python",
   "name": "python3"
  },
  "language_info": {
   "codemirror_mode": {
    "name": "ipython",
    "version": 3
   },
   "file_extension": ".py",
   "mimetype": "text/x-python",
   "name": "python",
   "nbconvert_exporter": "python",
   "pygments_lexer": "ipython3",
   "version": "3.8.5"
  }
 },
 "nbformat": 4,
 "nbformat_minor": 5
}
